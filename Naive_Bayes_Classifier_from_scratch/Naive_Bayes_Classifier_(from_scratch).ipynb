{
 "cells": [
  {
   "cell_type": "markdown",
   "metadata": {},
   "source": [
    "# Naive Bayes (NB) Classifier\n",
    "\n",
    "In this notebook we will implement NB Classifier from scratch.\n",
    "\n",
    "NB Classifer is used in applications like **document classification** and **spam filtering**."
   ]
  },
  {
   "cell_type": "code",
   "execution_count": 1,
   "metadata": {},
   "outputs": [],
   "source": [
    "#@title [Import Libraries]\n",
    "# Imported for proper rendering of Latex in notebook\n",
    "from IPython.display import display, Math, Latex\n",
    "\n",
    "import numpy as np\n",
    "\n",
    "# Import for generating plots\n",
    "import matplotlib.pyplot as plt\n",
    "import seaborn as sns\n",
    "\n",
    "%matplotlib inline"
   ]
  },
  {
   "cell_type": "markdown",
   "metadata": {},
   "source": [
    "We also set a random seed in order to reproduce the same results across diferrent runs in this notebook."
   ]
  },
  {
   "cell_type": "code",
   "execution_count": 2,
   "metadata": {},
   "outputs": [],
   "source": [
    "np.random.seed(69)"
   ]
  },
  {
   "cell_type": "markdown",
   "metadata": {},
   "source": [
    "**NOTES:**\n",
    "For complete derivation of the mathematical model, check my handwritten scratch at [notes](https://github.com/sampadk04/Naive_Bayes_Classifier_from_scratch/blob/main/Naive_Bayes_Classifier_Notes.pdf)."
   ]
  },
  {
   "cell_type": "markdown",
   "metadata": {},
   "source": [
    "# Model\n",
    "\n",
    "- Naive Bayes classifer is a **generative classifer**.\n",
    "- It **estimates** probability of a sample belonging to a class using **Bayes Theorem**:\n",
    "$$\\text{posterior} = \\frac{\\text{prior} \\times \\text{likelihood}}{\\text{evidence}}$$\n",
    "$$p(y|\\vec{x}) = \\frac{p(y) \\times p(\\vec{x}|y)}{p(\\vec{x})}$$\n",
    "- It simplifies the calculation of **likelihood** with **conditional independence assumption**: NB assumes that the *features are conditionally independent given labels*.\n",
    "    - The **likelihood** can be expressed as:\n",
    "    $$p(\\vec{x}|y) = p(x_1, x_2, \\dots, x_m| y) = p(x_1|y) p(x_2|y) \\dots p(x_m|y) = \\prod^{m}_{j = 1} p(x_j|y)$$\n",
    "\n",
    "- Substituting likelihood in Bayes Theorem gives us the following formula:\n",
    "$$p(y = y_c | \\vec{x}) = \\frac{p(y_c) \\prod^{m}_{j = 1} p(x_j|y_c)}{\\sum^{k}_{r=1} \\prod^{m}_{j = 1} p(x_j|y_r)}$$\n",
    "\n",
    "# Inference\n",
    "\n",
    "- We perform this calculation in the **log-space** to avoid issues with underflow die to multiplication of small numbers:\n",
    "    - The label that results in the **highest value of the numerator** i.e. $\\text{prior} \\times \\text{likelihood}$ is assigned to the given example. *Note that the evidence is fixed for all labels and acts as a normalizing constant*.\n",
    "    $$y = \\argmax_{y_c} \\log p(y_c) + \\sum^{m}_{j = 1} \\log p(x_j | y_c) $$\n",
    "\n",
    "# Learning Problem\n",
    "- $k$ prior probabilities to be estimated: $\\{ p(y_1), p(y_2), \\dots, p(y_k) \\}$\n",
    "- $k \\times m$ class conditional probabilities ($m$ each for each class label $y_c$): $ \\{ p(x_1|y_c), p(x_2|y_c), \\dots, p(x_m|y_c) \\} $.\n",
    "\n",
    "The class conditional denstities depend on the nature of features.\n",
    "\n",
    "The following are some popular class conditional densities used in NB classifier:\n",
    "- **Bernoulli distribution:** When $x_j$ is a **binary feature**, we use Bernoulli Distribution to model the class conditional density: $p(x_j|y_c)$.\n",
    "- **Categorical distribution:** When $x_j$ is a **categorical feature** i.e. it takes one of the $e>2$ discrete values [e.g. colours from the set {red, green, blue} or roll of a dice], we use categorical distribution to model the class conditional density $p(x_j | y_c)$.\n",
    "- **Multinomial distribution:** When $\\vec{x}$ is a count vector i.e. each component $x_j$ is a count of appearance of the object it represents and $\\sum^{m}_{j = 1} x_j = l$, where $l$ is the total no. of objects (which is fixed), we use multinomial distribution to model $p(\\vec{x}|y_c)$.\n",
    "- **Gaussian distribution:** When $x_j$ is a continuous feature i.e. it takes a real value, we use gaussian (or normal) distribution to model class conditional density $p(x_j|y_c)$.\n",
    "\n",
    "In this notebook, we will implement these different types of class conditional densities in different NB implementations. We will discuss the parameter estimation in the respective sections."
   ]
  },
  {
   "cell_type": "markdown",
   "metadata": {},
   "source": [
    "# Bernoulli NB: Implementation\n",
    "\n",
    "## Parameter Estimation: Class Conditional Density and Prior\n",
    "\n",
    "- Class conditional density for Bernoulli NB is calculated as follows:\n",
    "$$w_{j y_c} = \\frac{\\sum^{n}_{i = 1} \\mathbb{1}_{(y^{(i)} = y_c)} x^{(i)}_j}{\\sum^{n}_{i = 1} \\mathbb{1}_{(y^{(i)} = y_c)}} $$\n",
    "\n",
    "- This is basically the average of feature values $x_j$ in examples labelled $y_c$.\n",
    "    - $\\mathbb{1}_{(y^{(i)} = y_c)}$ get us the examples with label $y_c$ (Indicator Function).\n",
    "    - Numerator sums up $x_j$ across all examples with label $y_c$.\n",
    "    - And this is divided by the total no. of examples with label $y_c$.\n",
    "\n",
    "- The class prior is obtained as follows:\n",
    "$$w_{y_c} = \\frac{\\sum^{n}_{i = 1} \\mathbb{1}_{(y^{(i)} = y_c)}}{n} $$\n",
    "\n",
    "- Here, the numerator gives the total no. of examples with label $y_c$ and is divided by the total no. of examples in the training set (This gives the class prior an empirical distribution).\n",
    "\n",
    "- While estimating parameters of the model, we process examples from each label separately and estimate the parameters.\n",
    "\n",
    "Detailed derivations of these can be found in my handwritten notes at this [link](https://github.com/sampadk04/Naive_Bayes_Classifier_from_scratch/blob/main/Naive_Bayes_Classifier_Notes.pdf)."
   ]
  },
  {
   "cell_type": "code",
   "execution_count": 3,
   "metadata": {},
   "outputs": [],
   "source": [
    "def fit(X,y):\n",
    "    n_samples, n_features = X.shape\n",
    "    class_count = np.unique(y)\n",
    "    n_classes = len(class_count)\n",
    "\n",
    "    # initialize the weight vectors.\n",
    "    w_ccd = np.zeros((n_classes, n_features), dtype=np.float64)\n",
    "    w_prior = np.zeros(n_classes, dtype=np.float64)\n",
    "\n",
    "    for c in range(n_classes): # processing examples from each class separately\n",
    "        # extract examples with labels c\n",
    "        X_c = X[y==c]\n",
    "\n",
    "        # estimation of w_ccd[c,j]: The parameter of Bernoulli distribution\n",
    "        # p(x_j | y_c) ~ Bernoulli(w_ccd[c,j])\n",
    "        # we have vectorized this operation and we obtain the vector w_ccd[c,:] that contains w_ccd[c,j] for each j \\in [m]\n",
    "        w_ccd[c, :] = np.sum(X_c, axis=0)/X_c.shape[0]\n",
    "\n",
    "        # estimation of prior probability: w_prior[c]\n",
    "        w_prior[c] = X_c.shape[0]/float(n_samples)\n",
    "\n",
    "    print(\"Weights:\\n\", w_ccd)\n",
    "    print(\"Priors:\\n\", w_prior)\n",
    "    return w_ccd, w_prior"
   ]
  },
  {
   "cell_type": "markdown",
   "metadata": {},
   "source": [
    "Let's look at the parameter estimation in a step by step manner:"
   ]
  },
  {
   "cell_type": "code",
   "execution_count": 4,
   "metadata": {},
   "outputs": [
    {
     "name": "stdout",
     "output_type": "stream",
     "text": [
      "Weights:\n",
      " [[0. 1.]\n",
      " [1. 0.]]\n",
      "Priors:\n",
      " [0.5 0.5]\n"
     ]
    }
   ],
   "source": [
    "# feature matrix with shape (4,2). x_1 ~ Bernoulli(w[1,0]) [x1 = 1] and x_2 ~ Bernoulli(w[1,1]) [x2 = 1]\n",
    "X = np.array([\n",
    "    [1, 0],\n",
    "    [0, 1],\n",
    "    [0, 1],\n",
    "    [1, 0],\n",
    "])\n",
    "\n",
    "# label vector with shape (4,)\n",
    "y = np.array([1, 0, 0, 1])\n",
    "\n",
    "# call fit with feature matric and label vector as arguments\n",
    "_,_ = fit(X,y)\n",
    "\n",
    "# returns parameters of class conditional bernoulli distribution and priors"
   ]
  },
  {
   "cell_type": "markdown",
   "metadata": {},
   "source": [
    "A few observations:\n",
    "- Since there are $50 \\%$ examples of each class $0$ and $1$, the prior probability vector has $0.5$ for each class.\n",
    "- Note that:\n",
    "    - For class $0$: $w[0,0] = 0$ and $w[0,1] = 1$, hence the parameters of bernoulli distributions are $0$ and $1$ respectively.\n",
    "    - For class $1$: $w[1,0] = 1$ and $w[1,1] = 0$, hence the parameters of bernoulli distributions are $1$ and $0$ respectively."
   ]
  },
  {
   "cell_type": "markdown",
   "metadata": {},
   "source": [
    "## Incorporating Laplace Correction\n",
    "\n",
    "The $0$ value for parameter is a problem as it leads to $0$ posterior probability. We can fix this problem with **Laplace Correction** or by adding small dummy counts in each class for each feature.\n",
    "    - The **class priors** with laplace correction can be calculates as follows:\n",
    "    $$p(y = y_c) = w_{y_c} = \\frac{\\sum^{n}_{i = 1} \\mathbb{1}_{(y^{(i)} = y_c)} + \\alpha}{n + k \\alpha} $$\n",
    "    - The **class conditional density** with laplace correction is computed as follows:\n",
    "    $$w_{j y_c} = \\frac{\\sum^{n}_{i = 1} \\mathbb{1}_{(y^{(i)} = y_c)} x^{(i)}_j + \\alpha}{\\sum^{n}_{i = 1} \\mathbb{1}_{(y^{(i)} = y_c)} + 2 \\alpha} $$"
   ]
  },
  {
   "cell_type": "markdown",
   "metadata": {},
   "source": [
    "## Inference\n",
    "\n",
    "### Determine Class Label\n",
    "\n",
    "We assign class label $y^*$ that results in the largest product of likelihood and prior.\n",
    "$$y^* = \\argmax_{y_c} (\\sum^{m}_{j=1} \\log p(x_j|y_c; \\vec{w})) + \\log p(y_c;\\vec{w}) $$\n",
    "$$\\implies y^* = \\argmax_{y_c} (\\sum^{m}_{j=1} \\log w^{x_j}_{j y_c}(1 - w_{j y_c})^{1 - x_j}) + \\log p(y_c;\\vec{w})$$\n",
    "$$\\implies y^* =  \\argmax_{y_c} (\\sum^{m}_{j=1} x_j \\log w_{j y_c} + (1-x_j) \\log (1 - w_{j y_c}) )  + \\log p(y_c;\\vec{w})$$\n",
    "\n",
    "Note that we perform these computations in log space to avoid the problem with underflow.\n",
    "\n",
    "Further with vectorization, this is implemented as follows:\n",
    "$$ y^* = \\argmax_{y} X \\log w^T + (1 - X) \\log (1 - w)^T + \\log w_{\\text{prior}} $$"
   ]
  },
  {
   "cell_type": "markdown",
   "metadata": {},
   "source": [
    "## Implementation of Bernoulli NB Class"
   ]
  },
  {
   "cell_type": "code",
   "execution_count": 5,
   "metadata": {},
   "outputs": [],
   "source": [
    "class BernoulliNB(object):\n",
    "    '''\n",
    "    Class Conditional Density following Bernoulli Distribution\n",
    "    '''\n",
    "\n",
    "    def __init__(self, alpha=1.0):\n",
    "        self.alpha = alpha\n",
    "    \n",
    "    def fit(self, X, y):\n",
    "        '''\n",
    "        Parameter estimation for Bernoulli distribution\n",
    "        '''\n",
    "        n_samples, n_features = X.shape\n",
    "        class_count = np.unique(y)\n",
    "        n_classes = len(class_count)\n",
    "\n",
    "        # initialize the weight vectors.\n",
    "        self.w = np.zeros((n_classes, n_features), dtype=np.float64)\n",
    "        self.w_prior = np.zeros(n_classes, dtype=np.float64)\n",
    "\n",
    "        for c in range(n_classes): # processing examples from each class separately\n",
    "            # extract examples with labels c\n",
    "            X_c = X[y==c]\n",
    "\n",
    "            # estimation of w[c,j]: The parameter of Bernoulli distribution\n",
    "            # p(x_j | y_c) ~ Bernoulli(w[c,j])\n",
    "            # we have vectorized this operation and we obtain the vector w[c,:] that contains w[c,j] for each j \\in [m]\n",
    "            self.w[c, :] = (np.sum(X_c, axis=0) + self.alpha)/(X_c.shape[0] + 2*self.alpha)\n",
    "\n",
    "            # estimation of prior probability: w_prior[c]\n",
    "            self.w_prior[c] = (X_c.shape[0] + self.alpha)/(float(n_samples) + n_classes*self.alpha)\n",
    "\n",
    "        print(\"CCD Weights:\\n\", self.w)\n",
    "        print(\"Priors:\\n\", self.w_prior)\n",
    "    \n",
    "    def log_likelihood_prior_prod(self, X):\n",
    "        '''\n",
    "        Calculates the product of likelihood and prior in the log space\n",
    "        '''\n",
    "        return X @ (np.log(self.w).T) + (1 - X) @ np.log(1 - self.w).T + np.log(self.w_prior)\n",
    "    \n",
    "    def predict_prob(self, X):\n",
    "        '''\n",
    "        Calculates probabilities of each example belonging to different classes.\n",
    "        '''\n",
    "        q = self.log_likelihood_prior_prod(X)\n",
    "        return np.exp(q)/(np.expand_dims(np.sum(np.exp(q), axis=1), axis=1))\n",
    "    \n",
    "    def predict(self,X):\n",
    "        '''\n",
    "        Predicts class label for each example.\n",
    "        '''\n",
    "        return np.argmax(self.log_likelihood_prior_prod(X), axis=1)"
   ]
  },
  {
   "cell_type": "markdown",
   "metadata": {},
   "source": [
    "## Demo"
   ]
  },
  {
   "cell_type": "markdown",
   "metadata": {},
   "source": [
    "### Binary Classification"
   ]
  },
  {
   "cell_type": "code",
   "execution_count": 6,
   "metadata": {},
   "outputs": [],
   "source": [
    "# feature matrix with shape (4,2). x_1 ~ Bernoulli(w[1,0]) [x1 = 1] and x_2 ~ Bernoulli(w[1,1]) [x2 = 1]\n",
    "X = np.array([\n",
    "    [1, 0],\n",
    "    [0, 1],\n",
    "    [0, 1],\n",
    "    [1, 0],\n",
    "])\n",
    "\n",
    "# label vector with shape (4,)\n",
    "y = np.array([1, 0, 0, 1])"
   ]
  },
  {
   "cell_type": "code",
   "execution_count": 7,
   "metadata": {},
   "outputs": [
    {
     "name": "stdout",
     "output_type": "stream",
     "text": [
      "CCD Weights:\n",
      " [[0.25 0.75]\n",
      " [0.75 0.25]]\n",
      "Priors:\n",
      " [0.5 0.5]\n"
     ]
    }
   ],
   "source": [
    "bernoulli_nb = BernoulliNB()\n",
    "bernoulli_nb.fit(X,y)"
   ]
  },
  {
   "cell_type": "code",
   "execution_count": 8,
   "metadata": {},
   "outputs": [
    {
     "data": {
      "text/plain": [
       "array([1, 0, 0, 1])"
      ]
     },
     "execution_count": 8,
     "metadata": {},
     "output_type": "execute_result"
    }
   ],
   "source": [
    "# Let's predict classes for input example\n",
    "bernoulli_nb.predict(X)"
   ]
  },
  {
   "cell_type": "code",
   "execution_count": 9,
   "metadata": {},
   "outputs": [
    {
     "data": {
      "text/plain": [
       "array([[-3.4657359 , -1.26851133],\n",
       "       [-1.26851133, -3.4657359 ],\n",
       "       [-1.26851133, -3.4657359 ],\n",
       "       [-3.4657359 , -1.26851133]])"
      ]
     },
     "execution_count": 9,
     "metadata": {},
     "output_type": "execute_result"
    }
   ],
   "source": [
    "# The class labels are inferred by selecting the label that results into\n",
    "# the highest value of product of likelihood and priors:\n",
    "bernoulli_nb.log_likelihood_prior_prod(X)"
   ]
  },
  {
   "cell_type": "markdown",
   "metadata": {},
   "source": [
    "Observe that based on this calculation, the first example gets class $1$, the second gets class $0$, the third gets class $0$ and the fourth class $1$, based on the argmax strategy."
   ]
  },
  {
   "cell_type": "code",
   "execution_count": 10,
   "metadata": {},
   "outputs": [
    {
     "data": {
      "text/plain": [
       "array([[0.1, 0.9],\n",
       "       [0.9, 0.1],\n",
       "       [0.9, 0.1],\n",
       "       [0.1, 0.9]])"
      ]
     },
     "execution_count": 10,
     "metadata": {},
     "output_type": "execute_result"
    }
   ],
   "source": [
    "# Let's predict probabilities of each example.\n",
    "bernoulli_nb.predict_prob(X)"
   ]
  },
  {
   "cell_type": "markdown",
   "metadata": {},
   "source": [
    "Based on the probabilities also, the output makes sense."
   ]
  },
  {
   "cell_type": "markdown",
   "metadata": {},
   "source": [
    "### Multiclass Classification"
   ]
  },
  {
   "cell_type": "markdown",
   "metadata": {},
   "source": [
    "The NB implementation also works in the multiclass setting. Here is an example with $3$ classes."
   ]
  },
  {
   "cell_type": "code",
   "execution_count": 11,
   "metadata": {},
   "outputs": [],
   "source": [
    "X = np.array([\n",
    "    [1, 0],\n",
    "    [0, 1],\n",
    "    [0, 1],\n",
    "    [1, 0],\n",
    "    [1, 1],\n",
    "    [1, 1],\n",
    "])\n",
    "\n",
    "y = np.array([1, 0, 0, 1, 2, 2])"
   ]
  },
  {
   "cell_type": "markdown",
   "metadata": {},
   "source": [
    "Estimation of parameters of Bernoulli distributions and class priors."
   ]
  },
  {
   "cell_type": "code",
   "execution_count": 12,
   "metadata": {},
   "outputs": [
    {
     "name": "stdout",
     "output_type": "stream",
     "text": [
      "CCD Weights:\n",
      " [[0.25 0.75]\n",
      " [0.75 0.25]\n",
      " [0.75 0.75]]\n",
      "Priors:\n",
      " [0.33333333 0.33333333 0.33333333]\n"
     ]
    }
   ],
   "source": [
    "bernoulli_nb = BernoulliNB()\n",
    "bernoulli_nb.fit(X, y)"
   ]
  },
  {
   "cell_type": "markdown",
   "metadata": {},
   "source": [
    "Since, we have $3$ classes now, we have $3$ rows in the weights matrix, each row corresponding to the conditional density given the label."
   ]
  },
  {
   "cell_type": "code",
   "execution_count": 13,
   "metadata": {},
   "outputs": [
    {
     "data": {
      "text/plain": [
       "array([1, 0, 0, 1, 2, 2])"
      ]
     },
     "execution_count": 13,
     "metadata": {},
     "output_type": "execute_result"
    }
   ],
   "source": [
    "# Let's predict the classes for input example.\n",
    "bernoulli_nb.predict(X)"
   ]
  },
  {
   "cell_type": "code",
   "execution_count": 14,
   "metadata": {},
   "outputs": [
    {
     "data": {
      "text/plain": [
       "array([[0.07692308, 0.69230769, 0.23076923],\n",
       "       [0.69230769, 0.07692308, 0.23076923],\n",
       "       [0.69230769, 0.07692308, 0.23076923],\n",
       "       [0.07692308, 0.69230769, 0.23076923],\n",
       "       [0.2       , 0.2       , 0.6       ],\n",
       "       [0.2       , 0.2       , 0.6       ]])"
      ]
     },
     "execution_count": 14,
     "metadata": {},
     "output_type": "execute_result"
    }
   ],
   "source": [
    "# Let;s predict the probabilities for each example.\n",
    "bernoulli_nb.predict_prob(X)"
   ]
  },
  {
   "cell_type": "markdown",
   "metadata": {},
   "source": [
    "# Gaussian NB: Implementation\n",
    "\n",
    "## Parametrization\n",
    "\n",
    "Here the features have real numbers or continuous values. And we assume that **each feature given label is drawn from a gaussian distribution**.\n",
    "\n",
    "Formally we write it as:\n",
    "$$x_j|y_c \\sim \\mathcal{N}(\\mu, \\sigma^2)$$\n",
    "\n",
    "There are $2$ parameters in Gaussian/Normal distribution $\\mathcal{N}$:\n",
    "- Mean $\\mu$\n",
    "- Variance $\\sigma^2$\n",
    "\n",
    "There are $m \\times k$ **Gaussian distributions** - one for each feature and label.\n",
    "\n",
    "Each Gaussian distributon has $2$ parameters to estimate, hence the total no. of parameters are $2 \\times m \\times k$.\n",
    "\n",
    "## Alternate Parametrization through Multi-Variate Gaussian\n",
    "\n",
    "Alternatively, for **each label**, we can assume a multi-variate Gaussian distribution with $m$ variables. Such a distribution will have:\n",
    "- A mean vector ($\\vec{\\mu}$) with $m$ components - one mean per feature.\n",
    "- A covariance matrix ($\\Sigma$) with $m \\times m$ entries-\n",
    "    - However, since we are making a conditional independence assumption amongst the variables, the covariance matrix is assumed to be diagonal-\n",
    "        - It's off diagonal entries are $0$, i.e. $\\Sigma_{ij} = 0$ for $i \\ne j$.\n",
    "        - The diagonal entries denote variance for each feature $\\Sigma_{jj} = \\sigma^2$.\n",
    "\n",
    "In this scheme, we need to estimate $k$ multi-variate Gaussian distributions (one per label).\n",
    "\n",
    "For each distribution, we need to estimate:\n",
    "- $m$ means,\n",
    "- $m$ variances\n",
    "\n",
    "As such the no. of parameters are the same in both the representation, the later is more efficient in terms of computation, as this can be vectorized.\n",
    "\n",
    "## Parameter Estimation\n",
    "\n",
    "Let $n_r = \\sum^{n}_{i = 1} \\mathbb{1}_{(y^{(i)} = y_r)}$, i.e. the total no. of samples with label $y_r$.\n",
    "\n",
    "The parameters for multivariate Gaussian for label $y_r$ can be calculated as follows:\n",
    "$$\\vec{\\mu}_r = \\frac{1}{n_r} \\sum^{n}_{i = 1} \\mathbb{1}_{(y^{(i)} = y_r)} \\vec{x}^{(i)} $$\n",
    "$$\\Sigma^{2}_{jjy_r} = \\frac{1}{n_r} \\sum^{n}_{i = 1} \\mathbb{1}_{(y^{(i)} = y_r)} (\\vec{x}^{(i)} - \\vec{\\mu}_r)^2 $$\n",
    "$$\\Sigma^{2}_{ijy_r} = 0$$ \n",
    "for $i \\ne j$\n",
    "\n",
    "## Inference\n",
    "\n",
    "The posterior probability can be calculated based on Bayes Theorem:\n",
    "$$p(y = y_c|\\vec{x}) = \\frac{p(y_c) \\times p(\\vec{x}|y_c)}{p(\\vec{x})}$$\n",
    "\n",
    "The likelihood is computed with the following formulae:\n",
    "$$p(\\vec{x}|y_c; \\vec{\\mu}_c, \\Sigma_c) = \\frac{1}{(2 \\pi)^{\\frac{d}{2}} |\\Sigma_c|^{\\frac{1}{2}}} e^{-\\frac{1}{2} (\\vec{x} - \\vec{\\mu}_c )^T \\Sigma^{-1}_c (\\vec{x} - \\vec{\\mu}_c)} $$\n",
    "\n",
    "Couple of observations:\n",
    "- We calculate the distance between the mean adn sample normalized by the variance: - $-\\frac{1}{2} (\\vec{x} - \\vec{\\mu}_c )^T \\Sigma^{-1}_c (\\vec{x} - \\vec{\\mu}_c)$\n",
    "- We calculate the exponential of this distance and convert it into probability by dividing it with $(2 \\pi)^{\\frac{d}{2}} |\\Sigma_c|^{\\frac{1}{2}}$."
   ]
  },
  {
   "cell_type": "markdown",
   "metadata": {},
   "source": [
    "## Implementation of Gaussian NB Class"
   ]
  },
  {
   "cell_type": "code",
   "execution_count": 15,
   "metadata": {},
   "outputs": [],
   "source": [
    "class GaussianNB(object):\n",
    "    '''\n",
    "    Class Conditional Density following Gaussian Distribution\n",
    "    '''\n",
    "    def fit(self, X, y):\n",
    "        '''\n",
    "        Parameter estimation for Gaussian distribution\n",
    "        '''\n",
    "        n_samples, n_features = X.shape\n",
    "        self._classes = np.unique(y)\n",
    "        n_classes = len(self._classes)\n",
    "\n",
    "        # Calculate the mean, variance and prior for each class.\n",
    "        # initialize the weight vectors.\n",
    "        self._mean = np.zeros((n_classes, n_features), dtype=np.float64)\n",
    "        self._var = np.zeros((n_classes, n_features), dtype=np.float64)\n",
    "        self._priors = np.zeros(n_classes, dtype=np.float64)\n",
    "\n",
    "        for idx,c in enumerate(self._classes): # processing examples from each class separately\n",
    "            # extract examples with label c\n",
    "            X_c = X[y==c]\n",
    "\n",
    "            # estimate mean from the training examples of class 'c'.\n",
    "            self._mean[idx, :] = X_c.mean(axis=0)\n",
    "\n",
    "            # estimate standard deviation from the training examples of class 'c'.\n",
    "            self._var[idx, :] = X_c.var(axis=0)\n",
    "\n",
    "            # esitmate the priors - based on fraction of examples with label c\n",
    "            # amongst all the training examples\n",
    "            self._priors[idx] = X_c.shape[0]/float(n_samples)\n",
    "        \n",
    "        print(\"Mean:\\n\", self._mean)\n",
    "        print(\"Variance:\\n\", self._var)\n",
    "        print(\"Priors:\\n\", self._priors)\n",
    "    \n",
    "    def calc_pdf(self, class_idx, X):\n",
    "        '''\n",
    "        Calculates probability density for samples for class label 'class_idx'\n",
    "\n",
    "        class_idx: Class Index\n",
    "        '''\n",
    "        mean = self._mean[class_idx] # Mean vector\n",
    "        cov = np.diag(self._var[class_idx]) # The covariance matrix\n",
    "        z1 = np.power(2 * np.pi, X.shape[0]/2) * np.power(np.linalg.det(cov), 1/2)\n",
    "        z2 = -(1/2) * (X - mean).T @ (np.linalg.inv(cov)) @ (X - mean)\n",
    "\n",
    "        return (1/z1) * np.exp(z2)\n",
    "\n",
    "    def calc_prod_likelihood_prior(self, X):\n",
    "        '''\n",
    "        Calculates the product of likelihood and prior\n",
    "        '''\n",
    "        self._prod_likelihood_prior = np.zeros((X.shape[0], len(self._classes)), dtype=np.float64)\n",
    "\n",
    "        for x_idx, x in enumerate(X):\n",
    "            for idx, c in enumerate(self._classes):\n",
    "                self._prod_likelihood_prior[x_idx, c] = np.log(self.calc_pdf(idx, x)) + np.log(self._priors[idx])\n",
    "    \n",
    "    def predict_prob(self, X):\n",
    "        '''\n",
    "        Calculates probabilities of each example belonging to different classes.\n",
    "        '''\n",
    "        self.calc_prod_likelihood_prior(X)\n",
    "        return np.exp(self._prod_likelihood_prior)/np.expand_dims(np.sum(np.exp(self._prod_likelihood_prior), axis=1), axis=1)\n",
    "    \n",
    "    def predict(self, X):\n",
    "        '''\n",
    "        Predicts class label for each example.\n",
    "        '''\n",
    "        self.calc_prod_likelihood_prior(X)\n",
    "        return np.argmax(self._prod_likelihood_prior, axis=1)"
   ]
  },
  {
   "cell_type": "markdown",
   "metadata": {},
   "source": [
    "## Demo"
   ]
  },
  {
   "cell_type": "markdown",
   "metadata": {},
   "source": [
    "### Binary Classification\n",
    "\n",
    "- Generates examples from $2$ classes.\n",
    "- Divide the data into train and test split.\n",
    "- Train the model on the examples from training set.\n",
    "- Evaluate the classification performance on the test set."
   ]
  },
  {
   "cell_type": "markdown",
   "metadata": {},
   "source": [
    "**STEP 1:** Generate the training data with $2$ multi-variate Gaussian distribution (one each for each class label) one with mean $[5, 5]$ and the second with mean $[10, 10]$ and standard deviation of 1.5 for each Gaussian.\n",
    "- The number of feature per example = 2\n",
    "- Total no. of examples."
   ]
  },
  {
   "cell_type": "code",
   "execution_count": 16,
   "metadata": {},
   "outputs": [],
   "source": [
    "from sklearn.datasets import make_classification, make_blobs\n",
    "from sklearn.model_selection import train_test_split\n",
    "\n",
    "# generate artificial datapoints\n",
    "X, y = make_blobs(\n",
    "    n_samples=100,\n",
    "    n_features=2,\n",
    "    centers=[[5, 5], [10, 10]],\n",
    "    cluster_std=1.5,\n",
    "    random_state=69\n",
    ")\n",
    "\n",
    "# can also use `make`\n",
    "\n",
    "X_train, X_test, y_train, y_test = train_test_split(X, y, test_size=0.2, random_state=69)"
   ]
  },
  {
   "cell_type": "markdown",
   "metadata": {},
   "source": [
    "**STEP 2:** Train the Gaussian NB Classifier."
   ]
  },
  {
   "cell_type": "code",
   "execution_count": 17,
   "metadata": {},
   "outputs": [
    {
     "name": "stdout",
     "output_type": "stream",
     "text": [
      "Mean:\n",
      " [[ 5.13251504  4.94116123]\n",
      " [ 9.98015005 10.08671234]]\n",
      "Variance:\n",
      " [[2.85916662 2.18891851]\n",
      " [3.09362643 2.09781672]]\n",
      "Priors:\n",
      " [0.5 0.5]\n"
     ]
    }
   ],
   "source": [
    "gaussian_nb = GaussianNB()\n",
    "gaussian_nb.fit(X_train, y_train)"
   ]
  },
  {
   "cell_type": "markdown",
   "metadata": {},
   "source": [
    "Observe that since each example has two features and we have two classes, we have:\n",
    "- Mean vector for each class has $2$ components - mean for feature 1 and feature 2\n",
    "- Variance also has $2$ entries- one for variance of feature 1 and the other for feature 2. \n",
    "\n",
    "(Note that **we are only storing the diagonal elements** of covariance matrix for each class-label.)\n",
    "\n",
    "There are $2$ priors, one for each class.\n",
    "\n",
    "\n",
    "Since we are performing parameter estimation on examples generated from the known distributions, we can compare the estimates means with the actual means.\n",
    "- One distribution has mean close to $[5,5]$ and the other has mean close to [10, 10] which are pretty close to the actual means (which means our model seems to be correct)."
   ]
  },
  {
   "cell_type": "markdown",
   "metadata": {},
   "source": [
    "**STEP 3:** Plot the gaussian distributions."
   ]
  },
  {
   "cell_type": "code",
   "execution_count": 18,
   "metadata": {},
   "outputs": [
    {
     "data": {
      "image/png": "[encoded data removed]",
      "text/plain": [
       "<Figure size 432x288 with 1 Axes>"
      ]
     },
     "metadata": {
      "needs_background": "light"
     },
     "output_type": "display_data"
    }
   ],
   "source": [
    "fig, ax = plt.subplots()\n",
    "ax.scatter(X_train[:, 0], X_train[:, 1], c=y_train, s=50, cmap='RdBu')\n",
    "\n",
    "xlim = (min(X_train[:, 0]) - 1, max(X_train[:, 0]) + 1)\n",
    "ylim = (min(X_train[:, 1]) - 1, max(X_train[:, 1]) + 1)\n",
    "\n",
    "plt.grid(False)\n",
    "ax.set(xlim = xlim, ylim = ylim)\n",
    "\n",
    "plt.xlabel(\"$x_1$\")\n",
    "plt.ylabel(\"$x_2$\")\n",
    "plt.title(\"Gaussian Distribution Data\")\n",
    "plt.show()"
   ]
  },
  {
   "cell_type": "markdown",
   "metadata": {},
   "source": [
    "**STEP 4:** Let's test the inference procedure on the test data.\n",
    "- Let's get the class predictions for the test examples."
   ]
  },
  {
   "cell_type": "code",
   "execution_count": 19,
   "metadata": {},
   "outputs": [
    {
     "name": "stdout",
     "output_type": "stream",
     "text": [
      "[0 0 1 1 0 1 0 0 1 1 1 0 0 0 1 1 1 0 0 1]\n"
     ]
    }
   ],
   "source": [
    "y_test_pred = gaussian_nb.predict(X_test)\n",
    "print(y_test_pred)"
   ]
  },
  {
   "cell_type": "markdown",
   "metadata": {},
   "source": [
    "Now, we generate a classification report containing information about different classification evaluation metrics like precision, recall, F1-score and accuracy."
   ]
  },
  {
   "cell_type": "code",
   "execution_count": 20,
   "metadata": {},
   "outputs": [
    {
     "name": "stdout",
     "output_type": "stream",
     "text": [
      "              precision    recall  f1-score   support\n",
      "\n",
      "           0       1.00      1.00      1.00        10\n",
      "           1       1.00      1.00      1.00        10\n",
      "\n",
      "    accuracy                           1.00        20\n",
      "   macro avg       1.00      1.00      1.00        20\n",
      "weighted avg       1.00      1.00      1.00        20\n",
      "\n"
     ]
    }
   ],
   "source": [
    "from sklearn.metrics import classification_report\n",
    "print(classification_report(y_test, y_test_pred))"
   ]
  },
  {
   "cell_type": "markdown",
   "metadata": {},
   "source": [
    "This seems like a perfect classifier.\n",
    "\n",
    "Let's obtain the probability of each example belonging to each class."
   ]
  },
  {
   "cell_type": "code",
   "execution_count": 21,
   "metadata": {},
   "outputs": [
    {
     "data": {
      "text/plain": [
       "array([[9.99995472e-01, 4.52839932e-06],\n",
       "       [9.99996766e-01, 3.23390275e-06],\n",
       "       [7.16520989e-05, 9.99928348e-01],\n",
       "       [6.66870407e-03, 9.93331296e-01],\n",
       "       [9.99601942e-01, 3.98057726e-04],\n",
       "       [2.85255603e-06, 9.99997147e-01],\n",
       "       [9.50012762e-01, 4.99872380e-02],\n",
       "       [9.99999999e-01, 5.14995390e-10],\n",
       "       [2.38934300e-05, 9.99976107e-01],\n",
       "       [2.35847135e-06, 9.99997642e-01],\n",
       "       [1.07401727e-04, 9.99892598e-01],\n",
       "       [9.12388164e-01, 8.76118356e-02],\n",
       "       [9.99999580e-01, 4.19641315e-07],\n",
       "       [9.99999992e-01, 8.40624938e-09],\n",
       "       [4.04225507e-05, 9.99959577e-01],\n",
       "       [1.01014295e-02, 9.89898570e-01],\n",
       "       [4.46888808e-03, 9.95531112e-01],\n",
       "       [9.99999343e-01, 6.57434234e-07],\n",
       "       [9.99999889e-01, 1.11467083e-07],\n",
       "       [1.28887335e-03, 9.98711127e-01]])"
      ]
     },
     "execution_count": 21,
     "metadata": {},
     "output_type": "execute_result"
    }
   ],
   "source": [
    "gaussian_nb.predict_prob(X_test)"
   ]
  },
  {
   "cell_type": "markdown",
   "metadata": {},
   "source": [
    "Let's make a prediction for a new data point, and try to match our intuition with the prediction."
   ]
  },
  {
   "cell_type": "code",
   "execution_count": 22,
   "metadata": {},
   "outputs": [
    {
     "data": {
      "image/png": "[encoded data removed]",
      "text/plain": [
       "<Figure size 576x432 with 1 Axes>"
      ]
     },
     "metadata": {
      "needs_background": "light"
     },
     "output_type": "display_data"
    }
   ],
   "source": [
    "x_new = np.array([1.5, 6.5])\n",
    "\n",
    "plt.figure(figsize=(8,6))\n",
    "plt.scatter(X[:, 0], X[:, 1], marker='o', c=y, s=50, cmap='RdBu', label=\"Training Points\")\n",
    "# plot the new point\n",
    "plt.scatter(x_new[0], x_new[1], marker='x', c='green', s=250, label=\"New Point\")\n",
    "\n",
    "plt.grid(False)\n",
    "\n",
    "plt.legend()\n",
    "plt.xlabel(\"$x_1$\")\n",
    "plt.ylabel(\"$x_2$\")\n",
    "plt.title(\"Gaussian Distribution Data (including the new point)\")\n",
    "plt.show()"
   ]
  },
  {
   "cell_type": "markdown",
   "metadata": {},
   "source": [
    "Since, the data point is close to the Gaussian distribution wiht mean $[5,5]$, it should get the label of that class, i.e. it should be labelled as $0$."
   ]
  },
  {
   "cell_type": "code",
   "execution_count": 23,
   "metadata": {},
   "outputs": [
    {
     "data": {
      "text/plain": [
       "array([0])"
      ]
     },
     "execution_count": 23,
     "metadata": {},
     "output_type": "execute_result"
    }
   ],
   "source": [
    "gaussian_nb.predict(np.array([x_new]))"
   ]
  },
  {
   "cell_type": "code",
   "execution_count": 24,
   "metadata": {},
   "outputs": [
    {
     "data": {
      "text/plain": [
       "array([[9.99992822e-01, 7.17793196e-06]])"
      ]
     },
     "execution_count": 24,
     "metadata": {},
     "output_type": "execute_result"
    }
   ],
   "source": [
    "gaussian_nb.predict_prob(np.array([x_new]))"
   ]
  },
  {
   "cell_type": "markdown",
   "metadata": {},
   "source": [
    "Notice that the probability of the new example belonging to class $0$, which has a mean of $[5,5]$ is $0.99$, which is much larger than the other class and hence it is assigned the class label of $0$."
   ]
  },
  {
   "cell_type": "markdown",
   "metadata": {},
   "source": [
    "### Multiclass Classification"
   ]
  },
  {
   "cell_type": "markdown",
   "metadata": {},
   "source": [
    "Our implementation also works for the multi-class case. Here is a demo:\n",
    "- We generate $120$ examples from three classes with means $[5,5], [10,10]$ and $[15,15]$.\n",
    "- Each example has $2$ features."
   ]
  },
  {
   "cell_type": "code",
   "execution_count": 25,
   "metadata": {},
   "outputs": [],
   "source": [
    "from sklearn.datasets import make_blobs\n",
    "from sklearn.model_selection import train_test_split\n",
    "\n",
    "# generate synthetic data with 3 classes.\n",
    "# each example has 2 features.\n",
    "X,y = make_blobs(\n",
    "    n_samples = [40, 40, 40],\n",
    "    n_features= 2,\n",
    "    centers= [[5,5], [10,10], [15,15]],\n",
    "    cluster_std = 1.5,\n",
    "    random_state = 69,\n",
    ")\n",
    "\n",
    "X_train, X_test, y_train, y_test = train_test_split(X,y, test_size=1/6, random_state=69)"
   ]
  },
  {
   "cell_type": "markdown",
   "metadata": {},
   "source": [
    "Let's visualize this:"
   ]
  },
  {
   "cell_type": "code",
   "execution_count": 26,
   "metadata": {},
   "outputs": [
    {
     "data": {
      "image/png": "[encoded data removed]",
      "text/plain": [
       "<Figure size 576x432 with 1 Axes>"
      ]
     },
     "metadata": {
      "needs_background": "light"
     },
     "output_type": "display_data"
    }
   ],
   "source": [
    "plt.figure(figsize=(8,6))\n",
    "plt.scatter(X[:, 0], X[:, 1], marker='o', c=y, s=50)\n",
    "plt.grid(False)\n",
    "plt.xlabel(\"$x_1$\")\n",
    "plt.ylabel(\"$x_2$\")\n",
    "plt.title(\"Gaussian Distribution Data\")\n",
    "plt.show()"
   ]
  },
  {
   "cell_type": "markdown",
   "metadata": {},
   "source": [
    "Let's estimate the parameters of the Gaussian distributions."
   ]
  },
  {
   "cell_type": "code",
   "execution_count": 27,
   "metadata": {},
   "outputs": [
    {
     "name": "stdout",
     "output_type": "stream",
     "text": [
      "Mean:\n",
      " [[ 4.84047128  4.6377248 ]\n",
      " [10.18015209  9.96561358]\n",
      " [14.51739548 15.24365634]]\n",
      "Variance:\n",
      " [[2.51342009 2.82258373]\n",
      " [2.83803076 1.86269776]\n",
      " [3.17482332 1.46416694]]\n",
      "Priors:\n",
      " [0.32 0.33 0.35]\n"
     ]
    }
   ],
   "source": [
    "gaussian_nb_multiclass = GaussianNB()\n",
    "gaussian_nb_multiclass.fit(X_train, y_train)"
   ]
  },
  {
   "cell_type": "markdown",
   "metadata": {},
   "source": [
    "As we can see, the estimated means of each class is close to the actual means.\n",
    "\n",
    "Let's use the estimated parameters to make prediction on test examples and generate a classification evaluation report."
   ]
  },
  {
   "cell_type": "code",
   "execution_count": 28,
   "metadata": {},
   "outputs": [
    {
     "name": "stdout",
     "output_type": "stream",
     "text": [
      "              precision    recall  f1-score   support\n",
      "\n",
      "           0       1.00      1.00      1.00         8\n",
      "           1       1.00      1.00      1.00         7\n",
      "           2       1.00      1.00      1.00         5\n",
      "\n",
      "    accuracy                           1.00        20\n",
      "   macro avg       1.00      1.00      1.00        20\n",
      "weighted avg       1.00      1.00      1.00        20\n",
      "\n"
     ]
    }
   ],
   "source": [
    "from sklearn.metrics import classification_report\n",
    "y_test_pred = gaussian_nb_multiclass.predict(X_test)\n",
    "print(classification_report(y_test, y_test_pred))"
   ]
  },
  {
   "cell_type": "markdown",
   "metadata": {},
   "source": [
    "Again, we obtain a perfect classifier.\n",
    "\n",
    "Finally, we can also predict the probability of each test example belonging to the three different classes."
   ]
  },
  {
   "cell_type": "code",
   "execution_count": 29,
   "metadata": {},
   "outputs": [
    {
     "data": {
      "text/plain": [
       "array([[1.69886772e-15, 2.52832565e-05, 9.99974717e-01],\n",
       "       [9.99999992e-01, 8.30058162e-09, 7.34579497e-32],\n",
       "       [9.98922367e-01, 1.07763277e-03, 1.22534553e-18],\n",
       "       [9.99998799e-01, 1.20091775e-06, 4.31005408e-26],\n",
       "       [1.85218427e-06, 9.99986415e-01, 1.17323429e-05],\n",
       "       [9.99999291e-01, 7.08887668e-07, 6.26772528e-25],\n",
       "       [5.93678957e-19, 8.41221966e-06, 9.99991588e-01],\n",
       "       [4.27857031e-06, 9.99697059e-01, 2.98662226e-04],\n",
       "       [2.98858977e-04, 9.99660394e-01, 4.07470382e-05],\n",
       "       [6.24880952e-08, 8.79857884e-01, 1.20142054e-01],\n",
       "       [9.99999782e-01, 2.17947565e-07, 1.68639335e-25],\n",
       "       [9.99806550e-01, 1.93449899e-04, 3.17469704e-21],\n",
       "       [9.99999981e-01, 1.92687808e-08, 2.27274742e-29],\n",
       "       [2.75648140e-16, 6.47929879e-03, 9.93520701e-01],\n",
       "       [2.14250837e-09, 9.60209460e-01, 3.97905378e-02],\n",
       "       [1.21705449e-06, 9.99241908e-01, 7.56874722e-04],\n",
       "       [4.92298819e-18, 4.27455805e-05, 9.99957254e-01],\n",
       "       [6.81873844e-19, 4.16511684e-06, 9.99995835e-01],\n",
       "       [9.99999886e-01, 1.14257846e-07, 7.78290321e-28],\n",
       "       [2.91283311e-05, 9.99846721e-01, 1.24150789e-04]])"
      ]
     },
     "execution_count": 29,
     "metadata": {},
     "output_type": "execute_result"
    }
   ],
   "source": [
    "gaussian_nb_multiclass.predict_prob(X_test)"
   ]
  },
  {
   "cell_type": "markdown",
   "metadata": {},
   "source": [
    "# Multinomial NB: Implementation\n",
    "\n",
    "We use **multinomial NB** for problems like **document classification**.\n",
    "- We represent the $i$-th document with a vector $\\vec{x}^{(i)}$ containing counts of words in the vocabulary $\\{x^{(i)}_1, x^{(i)}_2, \\dots, x^{(i)}_m \\}$.\n",
    "- The sum of all feature count is equal to the total no. of words in the document, i.e. $\\sum^{m}_{j = 1} x^{(i)}_j = l$.\n",
    "\n",
    "Mathematically we can represent this as:\n",
    "$$\\vec{x}|y_r \\sim \\text{Multinomial} (w_{1 y_r}, w_{2 y_r}, \\dots, w_{m y_r}) = \\text{Multinomial} (\\vec{w}_{y_r}) $$\n",
    "$$p(\\vec{x}|y_r; l, \\vec{w_{y_r}}) = \\frac{n !}{x_1 ! x_2 ! \\dots x_m !} \\prod^{m}_{j = 1} w^{x_j}_{j y_r} $$\n",
    "\n",
    "The **total number of parameters** = $m \\times k + k$, where\n",
    "- $m \\times k$ is the total no. of features for $k$ multinomial distributions and\n",
    "- $k$ is total no. of priors.\n",
    "\n",
    "## Parameter Estimation\n",
    "\n",
    "The $j$-th component of parameter vector $w_{y_r}$ for multinomial distribution of class $y_r$ is calculated as follows:\n",
    "$$w_{j y_r} = \\frac{\\sum^{n}_{i = 1} \\mathbb{1}_{(y^{(i)} = y_r)} x^{(i)}_j}{\\sum^{n}_{i = 1} \\mathbb{1}_{(y^{(i)} = y_r)} \\sum^{m}_{j=1} x^{(i)}_j} $$\n",
    "\n",
    "Here,\n",
    "- The numerator is the **sum of features** $x_j$ for $all examples$ from class $y_r$.\n",
    "- The denominator is the total count of features from all exampled from class $y_r$.\n",
    "\n",
    "With **Laplace Correction:**\n",
    "$$w_{j y_r} = \\frac{\\sum^{n}_{i = 1} \\mathbb{1}_{(y^{(i)} = y_r)} x^{(i)}_j + \\alpha}{\\sum^{n}_{i = 1} \\mathbb{1}_{(y^{(i)} = y_r)} \\sum^{m}_{j=1} x^{(i)}_j + m \\alpha} $$\n",
    "\n",
    "> For laplace correction $\\alpha = 1$.\n",
    "\n",
    "## Inference\n",
    "\n",
    "In log space the calculation is performed as follows:\n",
    "- In the numerator, we first multiply the count matrix with transpose of log of weight vector and add it to the log prior probabilities. And exponentiate the resulting value.\n",
    "- In the denominator, we perform the same calculation as numerator but for different class labels and sum them up.\n",
    "- The denominator normalizes the numerator between $0$ and $1$, thus giving the posterior probability of label $y_c$ for the given count vector $\\vec{x}$.\n",
    "$$p(y_c|\\vec{x}; l, \\vec{w}_{y_c}) = \\frac{\\exp (\\vec{x}(\\log \\vec{w}_{y_c})^T) + \\log p(y_c)}{\\sum_{r} \\exp (\\vec{x}(\\log \\vec{w}_{y_r})^T) + \\log p(y_r)}$$\n",
    "> Note, that while giving the output as labels, it is sufficient to calculate the numerator in the log-space."
   ]
  },
  {
   "cell_type": "markdown",
   "metadata": {},
   "source": [
    "## Implementation of Multinomial NB Class"
   ]
  },
  {
   "cell_type": "code",
   "execution_count": 30,
   "metadata": {},
   "outputs": [],
   "source": [
    "class MultinomialNB(object):\n",
    "    '''\n",
    "    Class Conditional Density following Multinomial Distribution\n",
    "    '''\n",
    "\n",
    "    def fit(self, X, y, alpha=1):\n",
    "        '''\n",
    "        Parameter estimation for Multinomial NB\n",
    "        '''\n",
    "        n_samples, n_features = X.shape\n",
    "        self._classes = np.unique(y)\n",
    "        n_classes = len(self._classes)\n",
    "\n",
    "        # calculate the parameters of 'k' multinomial distribution and priors.\n",
    "        # initialize the weight vectors\n",
    "        self.w = np.zeros((n_classes, n_features), dtype=np.float64)\n",
    "        self.w_prior = np.zeros(n_classes, dtype=np.float64)\n",
    "\n",
    "        for idx, c in enumerate(self._classes): # processing examples from each class separately\n",
    "            # extract examples with label c\n",
    "            X_c = X[y==c]\n",
    "\n",
    "            # get the total count of features for class c\n",
    "            total_count = np.sum(np.sum(X_c, axis=1))\n",
    "\n",
    "            # estimate parameters of multinomial distribution for class c\n",
    "            self.w[idx, :] = (np.sum(X_c, axis=0) + alpha) / float(total_count + n_features * alpha)\n",
    "\n",
    "            # estimate class prior for class c\n",
    "            self.w_prior[idx] = (X_c.shape[0] + alpha) / float(n_samples + n_classes * alpha)\n",
    "        \n",
    "        print(\"CCD Weights:\\n\", self.w)\n",
    "        print(\"Priors:\\n\", self.w_prior)\n",
    "\n",
    "    def log_likelihood_prior_prod(self, X):\n",
    "        '''\n",
    "        Calculates the product of likelihood and prior in the log space\n",
    "        '''\n",
    "        return X @ (np.log(self.w).T) + np.log(self.w_prior)\n",
    "\n",
    "    def predict_prob(self, X):\n",
    "        '''\n",
    "        Calculates probabilities of each example belonging to different classes.\n",
    "        '''\n",
    "        q = self.log_likelihood_prior_prod(X)\n",
    "        return np.exp(q)/(np.expand_dims(np.sum(np.exp(q), axis=1), axis=1))\n",
    "\n",
    "    def predict(self,X):\n",
    "        '''\n",
    "        Predicts class label for each example.\n",
    "        '''\n",
    "        return np.argmax(self.log_likelihood_prior_prod(X), axis=1)"
   ]
  },
  {
   "cell_type": "markdown",
   "metadata": {},
   "source": [
    "## Demo"
   ]
  },
  {
   "cell_type": "markdown",
   "metadata": {},
   "source": [
    "Our implementation works for both binary and multiclass settings."
   ]
  },
  {
   "cell_type": "markdown",
   "metadata": {},
   "source": [
    "### Binary Classification"
   ]
  },
  {
   "cell_type": "markdown",
   "metadata": {},
   "source": [
    "Generate synthetic data with $1000$ examples for $2$ classes where each example has $5$ features."
   ]
  },
  {
   "cell_type": "code",
   "execution_count": 31,
   "metadata": {},
   "outputs": [],
   "source": [
    "from sklearn.model_selection import train_test_split\n",
    "\n",
    "rng = np.random.RandomState(1)\n",
    "X = rng.randint(5, size=(1000, 5))\n",
    "y = rng.randint(2, size=(1000,))\n",
    "\n",
    "X_train, X_test, y_train, y_test = train_test_split(X,y, random_state=69)"
   ]
  },
  {
   "cell_type": "code",
   "execution_count": 32,
   "metadata": {},
   "outputs": [
    {
     "name": "stdout",
     "output_type": "stream",
     "text": [
      "(750, 5) (250, 5)\n",
      "(750,) (250,)\n"
     ]
    }
   ],
   "source": [
    "print(X_train.shape, X_test.shape)\n",
    "print(y_train.shape, y_test.shape)"
   ]
  },
  {
   "cell_type": "markdown",
   "metadata": {},
   "source": [
    "Estimate the parameters of multinomial NB."
   ]
  },
  {
   "cell_type": "code",
   "execution_count": 33,
   "metadata": {},
   "outputs": [
    {
     "name": "stdout",
     "output_type": "stream",
     "text": [
      "CCD Weights:\n",
      " [[0.21396523 0.19209198 0.18844644 0.1977005  0.20779585]\n",
      " [0.2104867  0.19643753 0.19944807 0.19894631 0.19468138]]\n",
      "Priors:\n",
      " [0.47606383 0.52393617]\n"
     ]
    }
   ],
   "source": [
    "multinomial_nb = MultinomialNB()\n",
    "multinomial_nb.fit(X_train, y_train)"
   ]
  },
  {
   "cell_type": "markdown",
   "metadata": {},
   "source": [
    "Observe:\n",
    "- Each class is almost equally likely - each has probability of approximately $0.5$.\n",
    "- Sum of probabilies of different features of each class = 1."
   ]
  },
  {
   "cell_type": "markdown",
   "metadata": {},
   "source": [
    "Let's evaluate the classifier."
   ]
  },
  {
   "cell_type": "code",
   "execution_count": 34,
   "metadata": {},
   "outputs": [
    {
     "name": "stdout",
     "output_type": "stream",
     "text": [
      "              precision    recall  f1-score   support\n",
      "\n",
      "           0       0.57      0.25      0.35       128\n",
      "           1       0.51      0.80      0.62       122\n",
      "\n",
      "    accuracy                           0.52       250\n",
      "   macro avg       0.54      0.53      0.48       250\n",
      "weighted avg       0.54      0.52      0.48       250\n",
      "\n"
     ]
    }
   ],
   "source": [
    "from sklearn.metrics import classification_report\n",
    "\n",
    "y_test_pred = multinomial_nb.predict(X_test)\n",
    "print(classification_report(y_test, y_test_pred))"
   ]
  },
  {
   "cell_type": "markdown",
   "metadata": {},
   "source": [
    "Notice that the accuracy isn't that good. This is due to high no. of features adn random label assignment in the synthetic data.\n",
    "\n",
    "Let's calculate the probability of each example belinging to both the one of the classes."
   ]
  },
  {
   "cell_type": "code",
   "execution_count": 35,
   "metadata": {},
   "outputs": [
    {
     "data": {
      "text/plain": [
       "array([[0.48818726, 0.51181274],\n",
       "       [0.4513767 , 0.5486233 ],\n",
       "       [0.4827531 , 0.5172469 ],\n",
       "       [0.46438299, 0.53561701],\n",
       "       [0.47110797, 0.52889203],\n",
       "       [0.49352192, 0.50647808],\n",
       "       [0.45056857, 0.54943143],\n",
       "       [0.48286826, 0.51713174],\n",
       "       [0.42986851, 0.57013149],\n",
       "       [0.48600607, 0.51399393]])"
      ]
     },
     "execution_count": 35,
     "metadata": {},
     "output_type": "execute_result"
    }
   ],
   "source": [
    "multinomial_nb.predict_prob(X_test[:10])"
   ]
  },
  {
   "cell_type": "markdown",
   "metadata": {},
   "source": [
    "As we can see, unlike the previous cases, the probabilities are pretty close to each other (random assignment)."
   ]
  },
  {
   "cell_type": "markdown",
   "metadata": {},
   "source": [
    "## Multiclass Classification"
   ]
  },
  {
   "cell_type": "markdown",
   "metadata": {},
   "source": [
    "Generate synthetic data with $1200$ examples for $3$ classes where each example has $5$ features."
   ]
  },
  {
   "cell_type": "code",
   "execution_count": 36,
   "metadata": {},
   "outputs": [],
   "source": [
    "from sklearn.model_selection import train_test_split\n",
    "\n",
    "rng = np.random.RandomState(1)\n",
    "X = rng.randint(5, size=(1200, 5))\n",
    "y = rng.randint(3, size=(1200,))\n",
    "\n",
    "X_train, X_test, y_train, y_test = train_test_split(X,y, test_size=1/6 ,random_state=69)"
   ]
  },
  {
   "cell_type": "markdown",
   "metadata": {},
   "source": [
    "Let's estimate the parameters of multinomial naive Bayes classifier."
   ]
  },
  {
   "cell_type": "code",
   "execution_count": 37,
   "metadata": {},
   "outputs": [
    {
     "name": "stdout",
     "output_type": "stream",
     "text": [
      "CCD Weights:\n",
      " [[0.20630462 0.19818976 0.20318352 0.1963171  0.19600499]\n",
      " [0.21786198 0.19512855 0.19269283 0.19810555 0.1962111 ]\n",
      " [0.20854271 0.18938442 0.19189698 0.20383166 0.20634422]]\n",
      "Priors:\n",
      " [0.31704885 0.36590229 0.31704885]\n"
     ]
    }
   ],
   "source": [
    "multinomial_nb_multiclass = MultinomialNB()\n",
    "multinomial_nb_multiclass.fit(X_train, y_train)"
   ]
  },
  {
   "cell_type": "markdown",
   "metadata": {},
   "source": [
    "Let's evaluate the learnt classifier."
   ]
  },
  {
   "cell_type": "code",
   "execution_count": 38,
   "metadata": {},
   "outputs": [
    {
     "name": "stdout",
     "output_type": "stream",
     "text": [
      "              precision    recall  f1-score   support\n",
      "\n",
      "           0       0.16      0.06      0.08        54\n",
      "           1       0.40      0.84      0.54        76\n",
      "           2       0.55      0.16      0.24        70\n",
      "\n",
      "    accuracy                           0.39       200\n",
      "   macro avg       0.37      0.35      0.29       200\n",
      "weighted avg       0.39      0.39      0.31       200\n",
      "\n"
     ]
    }
   ],
   "source": [
    "from sklearn.metrics import classification_report\n",
    "\n",
    "y_test_pred = multinomial_nb_multiclass.predict(X_test)\n",
    "print(classification_report(y_test, y_test_pred))"
   ]
  },
  {
   "cell_type": "markdown",
   "metadata": {},
   "source": [
    "The accuracy is even worse. We will get a similar accuracy with just a Baseline constant model (choosing any of the $3$ class for every example). So, the model isn't really learning anything significant. This is because of the random label assignment in the synthetic data.\n",
    "\n",
    "Finally we can predict the probability for test examples of belonging to different classes."
   ]
  },
  {
   "cell_type": "code",
   "execution_count": 40,
   "metadata": {},
   "outputs": [
    {
     "data": {
      "text/plain": [
       "array([[0.34865959, 0.32314016, 0.32820026],\n",
       "       [0.31130459, 0.38882602, 0.29986938],\n",
       "       [0.32289302, 0.37243743, 0.30466954],\n",
       "       [0.2865287 , 0.37783087, 0.33564043],\n",
       "       [0.29152612, 0.40706016, 0.30141372],\n",
       "       [0.34526944, 0.38705191, 0.26767865],\n",
       "       [0.29833396, 0.37882538, 0.32284065],\n",
       "       [0.31917719, 0.35781855, 0.32300427],\n",
       "       [0.30472251, 0.36469221, 0.33058528],\n",
       "       [0.31350061, 0.37905949, 0.3074399 ]])"
      ]
     },
     "execution_count": 40,
     "metadata": {},
     "output_type": "execute_result"
    }
   ],
   "source": [
    "multinomial_nb_multiclass.predict_prob(X_test[:10])"
   ]
  },
  {
   "cell_type": "markdown",
   "metadata": {},
   "source": [
    "As we can see, the model isn't really sure which label to assign as each class is almost equally likely.\n",
    "\n",
    "So, no meaningful learning is happening in this particular case."
   ]
  },
  {
   "cell_type": "markdown",
   "metadata": {},
   "source": [
    "# Summary\n",
    "\n",
    "- We implement **Naive Bayes' Classifiers** from scratch.\n",
    "- We implement these model:\n",
    "    - **Bernoulli Naive Bayes' Model**\n",
    "    - **Gaussian Naive Bayes' Model**\n",
    "    - **Multinomial Naive Bayes' Model**\n",
    "- We analyze the model, estimation of weights and inference in all three of them.\n",
    "- We train the model in binary and multi-class set ups for all three of them and check the performance for each.\n",
    "\n",
    "For mathematical derivation visit this [link](https://github.com/sampadk04/Naive_Bayes_Classifier_from_scratch/blob/main/Naive_Bayes_Classifier_Notes.pdf)."
   ]
  }
 ],
 "metadata": {
  "interpreter": {
   "hash": "ee0777041ec98f607d7fd5b29a894c71a8ff0325c3258b55f9f8e1ee2f7fef34"
  },
  "kernelspec": {
   "display_name": "Python 3.9.7 ('skk-mlp-env')",
   "language": "python",
   "name": "python3"
  },
  "language_info": {
   "codemirror_mode": {
    "name": "ipython",
    "version": 3
   },
   "file_extension": ".py",
   "mimetype": "text/x-python",
   "name": "python",
   "nbconvert_exporter": "python",
   "pygments_lexer": "ipython3",
   "version": "3.9.7"
  },
  "orig_nbformat": 4
 },
 "nbformat": 4,
 "nbformat_minor": 2
}
