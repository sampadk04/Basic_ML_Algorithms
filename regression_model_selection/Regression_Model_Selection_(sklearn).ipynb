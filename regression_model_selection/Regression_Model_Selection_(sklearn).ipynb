{
 "cells": [
  {
   "cell_type": "code",
   "execution_count": 1,
   "metadata": {},
   "outputs": [],
   "source": [
    "# This is imported for proper rendering of Latex in Notebook\n",
    "from IPython.display import display, Math, Latex"
   ]
  },
  {
   "cell_type": "code",
   "execution_count": 2,
   "metadata": {},
   "outputs": [],
   "source": [
    "# Imports\n",
    "import numpy as np\n",
    "import pandas as pd\n",
    "import matplotlib.pyplot as plt\n",
    "import seaborn as sns\n",
    "\n",
    "%matplotlib inline\n",
    "\n",
    "np.random.seed(306)\n",
    "plt.style.use('seaborn')"
   ]
  },
  {
   "cell_type": "markdown",
   "metadata": {},
   "source": [
    "# Linear Regression for Housing Price Prediction\n",
    "\n",
    "In this notebook, we will build different linear regression models for california house prediction:\n",
    "1. Linear regression (with normal equation and iterative optimization (SGD))\n",
    "2. Polynomial regression\n",
    "3. Regularizarized regression models - Ridge, Lasso, Elastinet\n",
    "\n",
    "We will set regularization rate and polynomial degree with hyper-parameter tuning and cross-validation.\n",
    "\n",
    "We will compare different models in terms of their parameter vectors and mean absolute error on train, dev (validation) and test sets."
   ]
  },
  {
   "cell_type": "markdown",
   "metadata": {},
   "source": [
    "## Imports\n",
    "\n",
    "For regression problem, we need to import classes and utilities from `sklearn.linear_model`.\n",
    "- This module has implementations for different regression models like `LinearRegression`, `SGDRegressor`, `Ridge`, `Lasso`, `RidgeCV` and `LassoCV`\n",
    "\n",
    "We will also need to import a bunch of model selection utilities from `sklearn.model_selection` module and metrics from `sklearn.metrics` module.\n",
    "\n",
    "The data preprocessing utilities are imported from `sklearn.preprocessing` modules."
   ]
  },
  {
   "cell_type": "code",
   "execution_count": 3,
   "metadata": {},
   "outputs": [],
   "source": [
    "from scipy.stats import loguniform, uniform\n",
    "\n",
    "from sklearn.datasets import fetch_california_housing\n",
    "\n",
    "from sklearn.dummy import DummyRegressor\n",
    "\n",
    "from sklearn.linear_model import LinearRegression, Lasso, LassoCV, Ridge, RidgeCV, ElasticNet, ElasticNetCV, SGDRegressor\n",
    "\n",
    "from sklearn.metrics import mean_squared_error, mean_absolute_error, mean_absolute_percentage_error\n",
    "\n",
    "from sklearn.model_selection import cross_validate, cross_val_score, train_test_split, ShuffleSplit, validation_curve, GridSearchCV, RandomizedSearchCV\n",
    "\n",
    "from sklearn.preprocessing import PolynomialFeatures, StandardScaler\n",
    "\n",
    "from sklearn.pipeline import Pipeline"
   ]
  },
  {
   "cell_type": "markdown",
   "metadata": {},
   "source": [
    "## Common set up"
   ]
  },
  {
   "cell_type": "markdown",
   "metadata": {},
   "source": [
    "Set up random seed to a number of your choice."
   ]
  },
  {
   "cell_type": "code",
   "execution_count": 4,
   "metadata": {},
   "outputs": [],
   "source": [
    "np.random.seed(306)"
   ]
  },
  {
   "cell_type": "markdown",
   "metadata": {},
   "source": [
    "Let's use `ShuffleSplit` as cv with 10 splits and 20% examples set aside as test examples."
   ]
  },
  {
   "cell_type": "code",
   "execution_count": 8,
   "metadata": {},
   "outputs": [],
   "source": [
    "from sklearn.model_selection import ShuffleSplit\n",
    "\n",
    "ShuffleSplitCV = ShuffleSplit(n_splits=10, test_size=0.2, random_state=42)"
   ]
  },
  {
   "cell_type": "markdown",
   "metadata": {},
   "source": [
    "## Data Loading and splitting\n",
    "\n",
    "We use the california dataset for this demo. We will load this dataset with `fetch_california_housing` API as a dataframe.\n",
    "\n",
    "We wil load the data and split it into three parts- train, dev, test. Train + Dev will be used for cross validation and test will be used for evaluating the trained model."
   ]
  },
  {
   "cell_type": "code",
   "execution_count": 7,
   "metadata": {},
   "outputs": [],
   "source": [
    "from sklearn.datasets import fetch_california_housing\n",
    "from sklearn.model_selection import train_test_split\n",
    "\n",
    "# fetch dataset\n",
    "features, labels = fetch_california_housing(as_frame=True, return_X_y=True)\n",
    "\n",
    "# train-test split\n",
    "com_train_features, test_features, com_train_labels, test_labels = train_test_split(features, labels, random_state=42)\n",
    "\n",
    "# train --> train + dev split\n",
    "train_features, dev_features, train_labels, dev_labels = train_test_split(com_train_features, com_train_labels, random_state=42)"
   ]
  },
  {
   "cell_type": "markdown",
   "metadata": {},
   "source": [
    "## Linear regression with Normal Equation\n",
    "\n",
    "Let's use the normal equation method to train linear regression model.\n",
    "\n",
    "We set up pipeline with two stages:\n",
    "- Feature Scaling to scale features and\n",
    "- Linear regression on the transformed feature matrix.\n",
    "\n",
    "Throughout this notebook, we will have the following pattern for each estimator:\n",
    "- We will be using `Pipeline` for combining the data preprocessing and modelling steps.\n",
    "- `cross_validate` for training the model with `ShuffleSplit` cross validation and `neg_mean_absolute_error` as a scoring metric.\n",
    "- Convert the scores to error and report the mean absolute errors on the dev set."
   ]
  },
  {
   "cell_type": "code",
   "execution_count": 10,
   "metadata": {},
   "outputs": [
    {
     "name": "stdout",
     "output_type": "stream",
     "text": [
      "Mean absolute error of linear regression model on the train set:\n",
      "0.530 +/- 0.002\n",
      "Mean absolute error of linear regression model on the test set:\n",
      "0.527 +/- 0.008\n"
     ]
    }
   ],
   "source": [
    "from sklearn.pipeline import Pipeline\n",
    "from sklearn.preprocessing import StandardScaler\n",
    "from sklearn.linear_model import LinearRegression\n",
    "from sklearn.model_selection import cross_validate\n",
    "\n",
    "lin_reg_pipe = Pipeline([\n",
    "    ('feature_scaler', StandardScaler()),\n",
    "    ('lin_reg', LinearRegression())\n",
    "])\n",
    "\n",
    "lin_reg_cv_results = cross_validate(\n",
    "    lin_reg_pipe,\n",
    "    com_train_features,\n",
    "    com_train_labels,\n",
    "    scoring='neg_mean_absolute_error',\n",
    "    cv = ShuffleSplitCV,\n",
    "    return_train_score=True,\n",
    "    return_estimator=True\n",
    ")\n",
    "\n",
    "lin_reg_train_errors = -1 * lin_reg_cv_results['train_score']\n",
    "lin_reg_test_errors = -1 * lin_reg_cv_results['test_score']\n",
    "\n",
    "print(\n",
    "    f\"Mean absolute error of linear regression model on the train set:\\n\"\n",
    "    f\"{lin_reg_train_errors.mean():.3f} +/- {lin_reg_train_errors.std():.3f}\"\n",
    ")\n",
    "print(\n",
    "    f\"Mean absolute error of linear regression model on the test set:\\n\"\n",
    "    f\"{lin_reg_test_errors.mean():.3f} +/- {lin_reg_test_errors.std():.3f}\"\n",
    ")"
   ]
  },
  {
   "cell_type": "markdown",
   "metadata": {},
   "source": [
    "Both the errors are close, but are not low. This points to possible underfitting. We can address it by adding more features through polynomial regression."
   ]
  },
  {
   "cell_type": "markdown",
   "metadata": {},
   "source": [
    "## Linear Regression with SGD\n",
    "\n",
    "Let's use iterative optimization method to train linear regression model.\n",
    "\n",
    "We set up pipeline with two stages:\n",
    "- Feature scaling to scale features and\n",
    "- SGD regression on the transformed feature matrix."
   ]
  },
  {
   "cell_type": "code",
   "execution_count": 11,
   "metadata": {},
   "outputs": [
    {
     "name": "stdout",
     "output_type": "stream",
     "text": [
      "Mean absolute error of SGD regression model on the train set:\n",
      "0.564 +/- 0.023\n",
      "Mean absolute error of SGD regression model on the test set:\n",
      "0.561 +/- 0.025\n"
     ]
    }
   ],
   "source": [
    "from sklearn.pipeline import Pipeline\n",
    "from sklearn.preprocessing import StandardScaler\n",
    "from sklearn.linear_model import SGDRegressor\n",
    "from sklearn.model_selection import cross_validate\n",
    "\n",
    "sgd_reg_pipe = Pipeline([\n",
    "    ('feature_scaler', StandardScaler()),\n",
    "    ('sgd', SGDRegressor(\n",
    "        max_iter = np.ceil(1e6/com_train_features.shape[0]),\n",
    "        early_stopping=True,\n",
    "        eta0=1e-4,\n",
    "        learning_rate='constant',\n",
    "        tol=1e-5,\n",
    "        validation_fraction=0.1,\n",
    "        n_iter_no_change=5,\n",
    "        average=10,\n",
    "        random_state=42\n",
    "    ))\n",
    "])\n",
    "\n",
    "sgd_reg_cv_results = cross_validate(\n",
    "    sgd_reg_pipe,\n",
    "    com_train_features,\n",
    "    com_train_labels,\n",
    "    scoring='neg_mean_absolute_error',\n",
    "    cv=ShuffleSplitCV,\n",
    "    return_train_score=True,\n",
    "    return_estimator=True\n",
    ")\n",
    "\n",
    "sgd_reg_train_errors = -1 * sgd_reg_cv_results['train_score']\n",
    "sgd_reg_test_errors = -1 * sgd_reg_cv_results['test_score']\n",
    "\n",
    "print(\n",
    "    f\"Mean absolute error of SGD regression model on the train set:\\n\"\n",
    "    f\"{sgd_reg_train_errors.mean():.3f} +/- {sgd_reg_train_errors.std():.3f}\"\n",
    ")\n",
    "print(\n",
    "    f\"Mean absolute error of SGD regression model on the test set:\\n\"\n",
    "    f\"{sgd_reg_test_errors.mean():.3f} +/- {sgd_reg_test_errors.std():.3f}\"\n",
    ")"
   ]
  },
  {
   "cell_type": "markdown",
   "metadata": {},
   "source": [
    "## Polynomial Regression\n",
    "\n",
    "We will train a polynomial model with degree 2 and later we will use `validation_curve` to find out the right degree to use for polynomial models.\n",
    "\n",
    "`PolynomialFeatures` transforms the features to the user specified degree (here it is 2). We perform feature scaling on the transformed features before using them for training the regression model."
   ]
  },
  {
   "cell_type": "code",
   "execution_count": 14,
   "metadata": {},
   "outputs": [
    {
     "name": "stdout",
     "output_type": "stream",
     "text": [
      "Mean absolute error of Polynomial regression model on the train set:\n",
      "0.461 +/- 0.003\n",
      "Mean absolute error of Polynomial regression model on the test set:\n",
      "0.485 +/- 0.030\n"
     ]
    }
   ],
   "source": [
    "from sklearn.pipeline import Pipeline\n",
    "from sklearn.preprocessing import StandardScaler, PolynomialFeatures\n",
    "from sklearn.linear_model import LinearRegression\n",
    "from sklearn.model_selection import cross_validate\n",
    "\n",
    "poly_reg_pipe = Pipeline([\n",
    "    ('poly', PolynomialFeatures(degree=2)),\n",
    "    ('feature_scaler', StandardScaler()),\n",
    "    ('lin_reg', LinearRegression())\n",
    "])\n",
    "\n",
    "poly_reg_cv_results = cross_validate(\n",
    "    poly_reg_pipe,\n",
    "    com_train_features,\n",
    "    com_train_labels,\n",
    "    scoring='neg_mean_absolute_error',\n",
    "    cv = ShuffleSplitCV,\n",
    "    return_train_score=True,\n",
    "    return_estimator=True\n",
    ")\n",
    "\n",
    "poly_reg_train_errors = -1 * poly_reg_cv_results['train_score']\n",
    "poly_reg_test_errors = -1 * poly_reg_cv_results['test_score']\n",
    "\n",
    "print(\n",
    "    f\"Mean absolute error of Polynomial regression model on the train set:\\n\"\n",
    "    f\"{poly_reg_train_errors.mean():.3f} +/- {poly_reg_train_errors.std():.3f}\"\n",
    ")\n",
    "print(\n",
    "    f\"Mean absolute error of Polynomial regression model on the test set:\\n\"\n",
    "    f\"{poly_reg_test_errors.mean():.3f} +/- {poly_reg_test_errors.std():.3f}\"\n",
    ")"
   ]
  },
  {
   "cell_type": "markdown",
   "metadata": {},
   "source": [
    "Notice that the training and validation errors have reduced after using the second order polynomial features to represent the model.\n",
    "\n",
    "Now, instead of using all the polynomial features, we can also use only the interaction feature terms in polynomial model, by setting `interaction_only=True` in the `PolynomialFeatures` and train the linear regression model over it."
   ]
  },
  {
   "cell_type": "code",
   "execution_count": 97,
   "metadata": {},
   "outputs": [
    {
     "name": "stdout",
     "output_type": "stream",
     "text": [
      "Mean absolute error of Polynomial regression model on the train set:\n",
      "0.478 +/- 0.003\n",
      "Mean absolute error of Polynomial regression model on the test set:\n",
      "0.497 +/- 0.024\n"
     ]
    }
   ],
   "source": [
    "from sklearn.pipeline import Pipeline\n",
    "from sklearn.preprocessing import StandardScaler, PolynomialFeatures\n",
    "from sklearn.linear_model import LinearRegression\n",
    "from sklearn.model_selection import cross_validate\n",
    "\n",
    "poly_reg_pipe = Pipeline([\n",
    "    ('poly', PolynomialFeatures(degree=2, interaction_only=True)),\n",
    "    ('feature_scaler', StandardScaler()),\n",
    "    ('lin_reg', LinearRegression())\n",
    "])\n",
    "\n",
    "poly_reg_cv_results = cross_validate(\n",
    "    poly_reg_pipe,\n",
    "    com_train_features,\n",
    "    com_train_labels,\n",
    "    scoring='neg_mean_absolute_error',\n",
    "    cv = ShuffleSplitCV,\n",
    "    return_train_score=True,\n",
    "    return_estimator=True\n",
    ")\n",
    "\n",
    "poly_reg_train_errors = -1 * poly_reg_cv_results['train_score']\n",
    "poly_reg_test_errors = -1 * poly_reg_cv_results['test_score']\n",
    "\n",
    "print(\n",
    "    f\"Mean absolute error of Polynomial regression model on the train set:\\n\"\n",
    "    f\"{poly_reg_train_errors.mean():.3f} +/- {poly_reg_train_errors.std():.3f}\"\n",
    ")\n",
    "print(\n",
    "    f\"Mean absolute error of Polynomial regression model on the test set:\\n\"\n",
    "    f\"{poly_reg_test_errors.mean():.3f} +/- {poly_reg_test_errors.std():.3f}\"\n",
    ")"
   ]
  },
  {
   "cell_type": "markdown",
   "metadata": {},
   "source": [
    "## Hyper Parameter Tuning (HPT) for degree in Polynomial Regression"
   ]
  },
  {
   "cell_type": "markdown",
   "metadata": {},
   "source": [
    "Let's figure out which degree polynomial is better suited for the regression problem at our hand. For that we will use `validation_curve`, which can be considered as a manual hyperparameter tuning.\n",
    "\n",
    "Here, we specify a list of values that we want to try for polynomial degree and specify it as a paramter in `validation_curve`."
   ]
  },
  {
   "cell_type": "code",
   "execution_count": 24,
   "metadata": {},
   "outputs": [],
   "source": [
    "from sklearn.pipeline import Pipeline\n",
    "from sklearn.preprocessing import StandardScaler, PolynomialFeatures\n",
    "from sklearn.linear_model import LinearRegression\n",
    "from sklearn.model_selection import validation_curve\n",
    "\n",
    "poly_reg_pipe = Pipeline([\n",
    "    ('poly', PolynomialFeatures(degree=2, interaction_only=True)),\n",
    "    ('feature_scaler', StandardScaler()),\n",
    "    ('lin_reg', LinearRegression())\n",
    "])\n",
    "\n",
    "deg_list = [1,2,3,4,5]\n",
    "\n",
    "train_scores, test_scores = validation_curve(\n",
    "    poly_reg_pipe,\n",
    "    com_train_features,\n",
    "    com_train_labels,\n",
    "    param_name='poly__degree',\n",
    "    param_range=deg_list,\n",
    "    cv=ShuffleSplitCV,\n",
    "    scoring='neg_mean_absolute_error',\n",
    "    n_jobs=2,\n",
    ")\n",
    "\n",
    "train_errors, test_errors = -train_scores, -test_scores"
   ]
  },
  {
   "cell_type": "code",
   "execution_count": 25,
   "metadata": {},
   "outputs": [
    {
     "data": {
      "text/plain": [
       "numpy.ndarray"
      ]
     },
     "execution_count": 25,
     "metadata": {},
     "output_type": "execute_result"
    }
   ],
   "source": [
    "type(train_scores)"
   ]
  },
  {
   "cell_type": "code",
   "execution_count": 26,
   "metadata": {},
   "outputs": [
    {
     "data": {
      "text/plain": [
       "array([[-0.53432327, -0.52950337, -0.52972591, -0.53233173, -0.52827875,\n",
       "        -0.53088043, -0.52799365, -0.53377084, -0.5269963 , -0.53021738],\n",
       "       [-0.48141199, -0.47536718, -0.47916492, -0.47930188, -0.47349609,\n",
       "        -0.47585904, -0.47495801, -0.48228338, -0.47648715, -0.47986468],\n",
       "       [-0.47737586, -0.45524604, -0.46125937, -0.45971634, -0.45335704,\n",
       "        -0.45690487, -0.45360118, -0.46528159, -0.45931615, -0.46107595],\n",
       "       [-0.44797423, -0.44023681, -0.44259801, -0.44601195, -0.43938662,\n",
       "        -0.44183094, -0.44121656, -0.4482354 , -0.44257338, -0.44484208],\n",
       "       [-0.44351488, -0.43517237, -0.43651576, -0.44018028, -0.43505328,\n",
       "        -0.43647782, -0.4346899 , -0.44166875, -0.43677806, -0.44051523]])"
      ]
     },
     "execution_count": 26,
     "metadata": {},
     "output_type": "execute_result"
    }
   ],
   "source": [
    "train_scores"
   ]
  },
  {
   "cell_type": "markdown",
   "metadata": {},
   "source": [
    "Now, we visualize the training and validation errors for various degree and decide on the best degree parameter."
   ]
  },
  {
   "cell_type": "code",
   "execution_count": 27,
   "metadata": {},
   "outputs": [
    {
     "data": {
      "image/png": "[encoded data removed]",
      "text/plain": [
       "<Figure size 576x396 with 1 Axes>"
      ]
     },
     "metadata": {},
     "output_type": "display_data"
    }
   ],
   "source": [
    "plt.figure()\n",
    "plt.plot(deg_list, train_errors.mean(axis=1), 'b-o', label=\"Training Errors\")\n",
    "plt.plot(deg_list, test_errors.mean(axis=1), 'r-o', label=\"Test Errors\")\n",
    "_ = plt.legend()\n",
    "\n",
    "plt.xlabel(\"degree\")\n",
    "plt.ylabel(\"Mean of MAE over all folds\")\n",
    "plt.title(\"Validation curve for Polynomial regression\")\n",
    "\n",
    "plt.show()"
   ]
  },
  {
   "cell_type": "markdown",
   "metadata": {},
   "source": [
    "We would select a degree for which mean absolute error is the least. In this case `degree = 2` yields the least mean absolute error and that would be selected as an optimal degree for polynomial regression."
   ]
  },
  {
   "cell_type": "markdown",
   "metadata": {},
   "source": [
    "## Ridge Regression\n",
    "\n",
    "The polynomial models have a tendency to overfit - if we use higher order polynomial features. We will use `Ridge` regression - which penalizes for excessive model complexity in the polynomial regression by adding a regularization term. Here, we specify the regularization rate `alpha` as `0.5` and train the regression model. Later we will launch the hyperparameter search for the right value of `alpha` such that it leads to the least cross validation errors."
   ]
  },
  {
   "cell_type": "code",
   "execution_count": 88,
   "metadata": {},
   "outputs": [
    {
     "name": "stdout",
     "output_type": "stream",
     "text": [
      "Mean absolute error of Ridge regression model on the train set:\n",
      "0.481 +/- 0.003\n",
      "Mean absolute error of Ridge regression model on the test set:\n",
      "0.487 +/- 0.006\n"
     ]
    }
   ],
   "source": [
    "from sklearn.pipeline import Pipeline\n",
    "from sklearn.preprocessing import StandardScaler, PolynomialFeatures\n",
    "from sklearn.linear_model import Ridge\n",
    "from sklearn.model_selection import cross_validate\n",
    "\n",
    "ridge_reg_pipe = Pipeline([\n",
    "    ('poly', PolynomialFeatures(degree=2)),\n",
    "    ('feature_scaler', StandardScaler()),\n",
    "    ('ridge', Ridge(alpha=0.5))\n",
    "])\n",
    "\n",
    "ridge_reg_cv_results = cross_validate(\n",
    "    ridge_reg_pipe,\n",
    "    com_train_features,\n",
    "    com_train_labels,\n",
    "    scoring='neg_mean_absolute_error',\n",
    "    cv = ShuffleSplitCV,\n",
    "    return_train_score=True,\n",
    "    return_estimator=True\n",
    ")\n",
    "\n",
    "ridge_reg_train_errors = -1 * ridge_reg_cv_results['train_score']\n",
    "ridge_reg_test_errors = -1 * ridge_reg_cv_results['test_score']\n",
    "\n",
    "print(\n",
    "    f\"Mean absolute error of Ridge regression model on the train set:\\n\"\n",
    "    f\"{ridge_reg_train_errors.mean():.3f} +/- {ridge_reg_train_errors.std():.3f}\"\n",
    ")\n",
    "print(\n",
    "    f\"Mean absolute error of Ridge regression model on the test set:\\n\"\n",
    "    f\"{ridge_reg_test_errors.mean():.3f} +/- {ridge_reg_test_errors.std():.3f}\"\n",
    ")"
   ]
  },
  {
   "cell_type": "markdown",
   "metadata": {},
   "source": [
    "## HPT for Ridge Regularization Rate"
   ]
  },
  {
   "cell_type": "markdown",
   "metadata": {},
   "source": [
    "### With cross-validation via `RidgeCV`"
   ]
  },
  {
   "cell_type": "code",
   "execution_count": 29,
   "metadata": {},
   "outputs": [],
   "source": [
    "alpha_list = np.logspace(-4,0, num=20)"
   ]
  },
  {
   "cell_type": "code",
   "execution_count": 30,
   "metadata": {},
   "outputs": [
    {
     "data": {
      "text/plain": [
       "array([1.00000000e-04, 1.62377674e-04, 2.63665090e-04, 4.28133240e-04,\n",
       "       6.95192796e-04, 1.12883789e-03, 1.83298071e-03, 2.97635144e-03,\n",
       "       4.83293024e-03, 7.84759970e-03, 1.27427499e-02, 2.06913808e-02,\n",
       "       3.35981829e-02, 5.45559478e-02, 8.85866790e-02, 1.43844989e-01,\n",
       "       2.33572147e-01, 3.79269019e-01, 6.15848211e-01, 1.00000000e+00])"
      ]
     },
     "execution_count": 30,
     "metadata": {},
     "output_type": "execute_result"
    }
   ],
   "source": [
    "alpha_list"
   ]
  },
  {
   "cell_type": "code",
   "execution_count": 42,
   "metadata": {},
   "outputs": [
    {
     "name": "stdout",
     "output_type": "stream",
     "text": [
      "The score with best alpha:\n",
      "-0.473\n",
      "The error with best alpha:\n",
      "0.473\n",
      "The best value of alpha:\n",
      "0.008\n"
     ]
    }
   ],
   "source": [
    "from sklearn.pipeline import Pipeline\n",
    "from sklearn.preprocessing import StandardScaler, PolynomialFeatures\n",
    "from sklearn.linear_model import RidgeCV\n",
    "\n",
    "ridge_cv_pipe = Pipeline([\n",
    "    ('poly', PolynomialFeatures(degree=2)),\n",
    "    ('feature_scaler', StandardScaler()),\n",
    "    ('ridge_cv', RidgeCV(\n",
    "        alphas=alpha_list,\n",
    "        cv=ShuffleSplitCV,\n",
    "        scoring='neg_mean_absolute_error'\n",
    "    ))\n",
    "])\n",
    "\n",
    "ridge_cv_results = ridge_cv_pipe.fit(com_train_features, com_train_labels)\n",
    "\n",
    "print(\n",
    "    f\"The score with best alpha:\\n\"\n",
    "    f\"{ridge_cv_results[-1].best_score_:.3f}\"\n",
    ")\n",
    "print(\n",
    "    f\"The error with best alpha:\\n\"\n",
    "    f\"{-ridge_cv_results[-1].best_score_:.3f}\"\n",
    ")\n",
    "print(\n",
    "    f\"The best value of alpha:\\n\"\n",
    "    f\"{ridge_cv_results[-1].alpha_:.3f}\"\n",
    ")"
   ]
  },
  {
   "cell_type": "markdown",
   "metadata": {},
   "source": [
    "### With `GridSearchCV`"
   ]
  },
  {
   "cell_type": "markdown",
   "metadata": {},
   "source": [
    "A more general way of hyperparameter tuning can be via using the `GridSearchCV` method.\n",
    "\n",
    "It has the following useful attributes - \n",
    "- `cv_results_` : dict of numpy (masked) ndarrays : \n",
    "        A dict with keys as column headers and values as columns, that can be imported into a pandas `DataFrame`.\n",
    "- `best_estimator_` : estimator : \n",
    "        Estimator that was chosen by the search, i.e. estimator which gave highest score (or smallest loss if specified) on the left out data.\n",
    "- `best_score_` : float : \n",
    "        Mean cross-validated score of the best_estimator\n",
    "        For multi-metric evaluation, this is present only if `refit` is specified.\n",
    "- `best_params_` : dict : \n",
    "        Parameter setting that gave the best results on the hold out data.\n",
    "- `best_index_` : int : \n",
    "        The index (of the `cv_results_` arrays) which corresponds to the best candidate parameter setting.\n",
    "        The dict at `search.cv_results_['params'][search.best_index_]` gives the parameter setting for the best model, that gives the highest mean score (`search.best_score_`)."
   ]
  },
  {
   "cell_type": "code",
   "execution_count": 44,
   "metadata": {},
   "outputs": [
    {
     "data": {
      "text/plain": [
       "GridSearchCV(cv=ShuffleSplit(n_splits=10, random_state=42, test_size=0.2, train_size=None),\n",
       "             estimator=Pipeline(steps=[('poly', PolynomialFeatures()),\n",
       "                                       ('feature_scaler', StandardScaler()),\n",
       "                                       ('ridge', Ridge())]),\n",
       "             n_jobs=2,\n",
       "             param_grid={'poly__degree': [1, 2, 3, 4, 5],\n",
       "                         'ridge__alpha': array([1.00000000e-04, 1.62377674e-04, 2.63665090e-04, 4.28133240e-04,\n",
       "       6.95192796e-04, 1.12883789e-03, 1.83298071e-03, 2.97635144e-03,\n",
       "       4.83293024e-03, 7.84759970e-03, 1.27427499e-02, 2.06913808e-02,\n",
       "       3.35981829e-02, 5.45559478e-02, 8.85866790e-02, 1.43844989e-01,\n",
       "       2.33572147e-01, 3.79269019e-01, 6.15848211e-01, 1.00000000e+00])},\n",
       "             return_train_score=True, scoring='neg_mean_absolute_error')"
      ]
     },
     "execution_count": 44,
     "metadata": {},
     "output_type": "execute_result"
    }
   ],
   "source": [
    "from sklearn.pipeline import Pipeline\n",
    "from sklearn.preprocessing import StandardScaler, PolynomialFeatures\n",
    "from sklearn.linear_model import Ridge\n",
    "from sklearn.model_selection import GridSearchCV\n",
    "\n",
    "ridge_grid_pipe = Pipeline([\n",
    "    ('poly', PolynomialFeatures()),\n",
    "    ('feature_scaler', StandardScaler()),\n",
    "    ('ridge', Ridge())\n",
    "])\n",
    "\n",
    "param_grid = {\n",
    "    'poly__degree' : [1,2,3,4,5],\n",
    "    'ridge__alpha' : np.logspace(-4,0, num=20),\n",
    "}\n",
    "\n",
    "ridge_grid_search = GridSearchCV(\n",
    "    ridge_grid_pipe,\n",
    "    param_grid=param_grid,\n",
    "    n_jobs=2,\n",
    "    cv=ShuffleSplitCV,\n",
    "    scoring='neg_mean_absolute_error',\n",
    "    return_train_score=True\n",
    ")\n",
    "\n",
    "ridge_grid_search.fit(com_train_features, com_train_labels)"
   ]
  },
  {
   "cell_type": "code",
   "execution_count": 49,
   "metadata": {},
   "outputs": [
    {
     "name": "stdout",
     "output_type": "stream",
     "text": [
      "<class 'dict'>\n",
      "dict_keys(['mean_fit_time', 'std_fit_time', 'mean_score_time', 'std_score_time', 'param_poly__degree', 'param_ridge__alpha', 'params', 'split0_test_score', 'split1_test_score', 'split2_test_score', 'split3_test_score', 'split4_test_score', 'split5_test_score', 'split6_test_score', 'split7_test_score', 'split8_test_score', 'split9_test_score', 'mean_test_score', 'std_test_score', 'rank_test_score', 'split0_train_score', 'split1_train_score', 'split2_train_score', 'split3_train_score', 'split4_train_score', 'split5_train_score', 'split6_train_score', 'split7_train_score', 'split8_train_score', 'split9_train_score', 'mean_train_score', 'std_train_score'])\n",
      "{'poly__degree': 2, 'ridge__alpha': 0.007847599703514606}\n",
      "29\n"
     ]
    }
   ],
   "source": [
    "print(type(ridge_grid_search.cv_results_))\n",
    "print(ridge_grid_search.cv_results_.keys())\n",
    "print(ridge_grid_search.best_params_)\n",
    "print(ridge_grid_search.best_index_)"
   ]
  },
  {
   "cell_type": "code",
   "execution_count": 50,
   "metadata": {},
   "outputs": [
    {
     "name": "stdout",
     "output_type": "stream",
     "text": [
      "Mean absolute error of Polynomial Ridge regression model on the train set:\n",
      "0.463 +/- 0.000\n",
      "Mean absolute error of Polynomial Ridge regression model on the test set:\n",
      "0.474 +/- 0.000\n"
     ]
    }
   ],
   "source": [
    "mean_train_error = -1 * ridge_grid_search.cv_results_['mean_train_score'][ridge_grid_search.best_index_]\n",
    "std_train_error = -1 * ridge_grid_search.cv_results_['std_train_score'][ridge_grid_search.best_index_]\n",
    "mean_test_error = -1 * ridge_grid_search.cv_results_['mean_test_score'][ridge_grid_search.best_index_]\n",
    "std_test_error = -1 * ridge_grid_search.cv_results_['std_test_score'][ridge_grid_search.best_index_]\n",
    "\n",
    "print(\n",
    "    f\"Mean absolute error of Polynomial Ridge regression model on the train set:\\n\"\n",
    "    f\"{mean_train_error:.3f} +/- {std_train_error.std():.3f}\"\n",
    ")\n",
    "print(\n",
    "    f\"Mean absolute error of Polynomial Ridge regression model on the test set:\\n\"\n",
    "    f\"{mean_test_error.mean():.3f} +/- {std_test_error.std():.3f}\"\n",
    ")"
   ]
  },
  {
   "cell_type": "code",
   "execution_count": 51,
   "metadata": {},
   "outputs": [
    {
     "name": "stdout",
     "output_type": "stream",
     "text": [
      "Mean cross validated score of the best estimator is: -0.47386511769959316\n",
      "Mean cross validated error of the best estimator is: 0.47386511769959316\n"
     ]
    }
   ],
   "source": [
    "print(\"Mean cross validated score of the best estimator is: \", ridge_grid_search.best_score_)\n",
    "print(\"Mean cross validated error of the best estimator is: \", -ridge_grid_search.best_score_)"
   ]
  },
  {
   "cell_type": "code",
   "execution_count": 52,
   "metadata": {},
   "outputs": [
    {
     "name": "stdout",
     "output_type": "stream",
     "text": [
      "The best parameter value is:  {'poly__degree': 2, 'ridge__alpha': 0.007847599703514606}\n"
     ]
    }
   ],
   "source": [
    "print(\"The best parameter value is: \", ridge_grid_search.best_params_)"
   ]
  },
  {
   "cell_type": "markdown",
   "metadata": {},
   "source": [
    "Note that the best parameter, and best score obtained here via `GridSearchCV` is the same as the ones that we obtained via Polynomial Regression with `degree=2` on `RidgeCV`."
   ]
  },
  {
   "cell_type": "markdown",
   "metadata": {},
   "source": [
    "## Lasso Regression"
   ]
  },
  {
   "cell_type": "markdown",
   "metadata": {},
   "source": [
    "First, we try a baseline model with a fixed `alpha=0.01`."
   ]
  },
  {
   "cell_type": "code",
   "execution_count": 53,
   "metadata": {},
   "outputs": [
    {
     "name": "stdout",
     "output_type": "stream",
     "text": [
      "Mean absolute error of lasso regression model on the train set:\n",
      "0.529 +/- 0.003\n",
      "Mean absolute error of lasso regression model on the test set:\n",
      "0.528 +/- 0.008\n"
     ]
    }
   ],
   "source": [
    "from sklearn.pipeline import Pipeline\n",
    "from sklearn.preprocessing import StandardScaler, PolynomialFeatures\n",
    "from sklearn.linear_model import Lasso\n",
    "from sklearn.model_selection import cross_validate\n",
    "\n",
    "lasso_reg_pipe = Pipeline([\n",
    "    ('poly', PolynomialFeatures(degree=2)),\n",
    "    ('feature_scaler', StandardScaler()),\n",
    "    ('lasso', Lasso(alpha=0.01))\n",
    "])\n",
    "\n",
    "lasso_reg_cv_results = cross_validate(\n",
    "    lasso_reg_pipe,\n",
    "    com_train_features,\n",
    "    com_train_labels,\n",
    "    scoring='neg_mean_absolute_error',\n",
    "    cv = ShuffleSplitCV,\n",
    "    return_train_score=True,\n",
    "    return_estimator=True\n",
    ")\n",
    "\n",
    "lasso_reg_train_errors = -1 * lasso_reg_cv_results['train_score']\n",
    "lasso_reg_test_errors = -1 * lasso_reg_cv_results['test_score']\n",
    "\n",
    "print(\n",
    "    f\"Mean absolute error of lasso regression model on the train set:\\n\"\n",
    "    f\"{lasso_reg_train_errors.mean():.3f} +/- {lasso_reg_train_errors.std():.3f}\"\n",
    ")\n",
    "print(\n",
    "    f\"Mean absolute error of lasso regression model on the test set:\\n\"\n",
    "    f\"{lasso_reg_test_errors.mean():.3f} +/- {lasso_reg_test_errors.std():.3f}\"\n",
    ")"
   ]
  },
  {
   "cell_type": "markdown",
   "metadata": {},
   "source": [
    "## HPT for lasso regularization rate"
   ]
  },
  {
   "cell_type": "markdown",
   "metadata": {},
   "source": [
    "### With cross validation via `LassoCV`"
   ]
  },
  {
   "cell_type": "code",
   "execution_count": 54,
   "metadata": {},
   "outputs": [],
   "source": [
    "alpha_list = np.logspace(-4,0, num=20)"
   ]
  },
  {
   "cell_type": "code",
   "execution_count": 58,
   "metadata": {},
   "outputs": [
    {
     "name": "stdout",
     "output_type": "stream",
     "text": [
      "The best value of alpha:\n",
      "0.008\n"
     ]
    }
   ],
   "source": [
    "from sklearn.pipeline import Pipeline\n",
    "from sklearn.preprocessing import StandardScaler, PolynomialFeatures\n",
    "from sklearn.linear_model import LassoCV\n",
    "\n",
    "lasso_cv_pipe = Pipeline([\n",
    "    ('poly', PolynomialFeatures(degree=2)),\n",
    "    ('feature_scaler', StandardScaler()),\n",
    "    ('lasso_cv', LassoCV(\n",
    "        alphas=alpha_list,\n",
    "        cv=ShuffleSplitCV\n",
    "    ))\n",
    "])\n",
    "\n",
    "lasso_cv_results = lasso_cv_pipe.fit(com_train_features, com_train_labels)\n",
    "\n",
    "print(\n",
    "    f\"The best value of alpha:\\n\"\n",
    "    f\"{lasso_cv_results[-1].alpha_:.3f}\"\n",
    ")"
   ]
  },
  {
   "cell_type": "markdown",
   "metadata": {},
   "source": [
    "### With `GridSearchCV`"
   ]
  },
  {
   "cell_type": "code",
   "execution_count": 59,
   "metadata": {},
   "outputs": [
    {
     "data": {
      "text/plain": [
       "GridSearchCV(cv=ShuffleSplit(n_splits=10, random_state=42, test_size=0.2, train_size=None),\n",
       "             estimator=Pipeline(steps=[('poly', PolynomialFeatures()),\n",
       "                                       ('feature_scaler', StandardScaler()),\n",
       "                                       ('lasso', Lasso())]),\n",
       "             n_jobs=2,\n",
       "             param_grid={'lasso__alpha': array([1.00000000e-04, 1.62377674e-04, 2.63665090e-04, 4.28133240e-04,\n",
       "       6.95192796e-04, 1.12883789e-03, 1.83298071e-03, 2.97635144e-03,\n",
       "       4.83293024e-03, 7.84759970e-03, 1.27427499e-02, 2.06913808e-02,\n",
       "       3.35981829e-02, 5.45559478e-02, 8.85866790e-02, 1.43844989e-01,\n",
       "       2.33572147e-01, 3.79269019e-01, 6.15848211e-01, 1.00000000e+00]),\n",
       "                         'poly__degree': [1, 2, 3, 4, 5]},\n",
       "             return_train_score=True, scoring='neg_mean_absolute_error')"
      ]
     },
     "execution_count": 59,
     "metadata": {},
     "output_type": "execute_result"
    }
   ],
   "source": [
    "from sklearn.pipeline import Pipeline\n",
    "from sklearn.preprocessing import StandardScaler, PolynomialFeatures\n",
    "from sklearn.linear_model import Lasso\n",
    "from sklearn.model_selection import GridSearchCV\n",
    "\n",
    "lasso_grid_pipe = Pipeline([\n",
    "    ('poly', PolynomialFeatures()),\n",
    "    ('feature_scaler', StandardScaler()),\n",
    "    ('lasso', Lasso())\n",
    "])\n",
    "\n",
    "param_grid = {\n",
    "    'poly__degree' : [1,2,3,4,5],\n",
    "    'lasso__alpha' : np.logspace(-4,0, num=20),\n",
    "}\n",
    "\n",
    "lasso_grid_search = GridSearchCV(\n",
    "    lasso_grid_pipe,\n",
    "    param_grid=param_grid,\n",
    "    n_jobs=2,\n",
    "    cv=ShuffleSplitCV,\n",
    "    scoring='neg_mean_absolute_error',\n",
    "    return_train_score=True\n",
    ")\n",
    "\n",
    "lasso_grid_search.fit(com_train_features, com_train_labels)"
   ]
  },
  {
   "cell_type": "code",
   "execution_count": 61,
   "metadata": {},
   "outputs": [
    {
     "name": "stdout",
     "output_type": "stream",
     "text": [
      "Mean absolute error of Polynomial lasso regression model on the train set:\n",
      "0.449 +/- 0.000\n",
      "Mean absolute error of Polynomial lasso regression model on the test set:\n",
      "0.474 +/- 0.000\n"
     ]
    }
   ],
   "source": [
    "mean_train_error = -1 * lasso_grid_search.cv_results_['mean_train_score'][lasso_grid_search.best_index_]\n",
    "std_train_error = -1 * lasso_grid_search.cv_results_['std_train_score'][lasso_grid_search.best_index_]\n",
    "mean_test_error = -1 * lasso_grid_search.cv_results_['mean_test_score'][lasso_grid_search.best_index_]\n",
    "std_test_error = -1 * lasso_grid_search.cv_results_['std_test_score'][lasso_grid_search.best_index_]\n",
    "\n",
    "print(\n",
    "    f\"Mean absolute error of Polynomial lasso regression model on the train set:\\n\"\n",
    "    f\"{mean_train_error:.3f} +/- {std_train_error.std():.3f}\"\n",
    ")\n",
    "print(\n",
    "    f\"Mean absolute error of Polynomial lasso regression model on the test set:\\n\"\n",
    "    f\"{mean_test_error.mean():.3f} +/- {std_test_error.std():.3f}\"\n",
    ")"
   ]
  },
  {
   "cell_type": "code",
   "execution_count": 62,
   "metadata": {},
   "outputs": [
    {
     "name": "stdout",
     "output_type": "stream",
     "text": [
      "Mean cross validated score of the best estimator is:  -0.4735026141130332\n",
      "Mean cross validated error of the best estimator is:  0.4735026141130332\n"
     ]
    }
   ],
   "source": [
    "print(\"Mean cross validated score of the best estimator is: \", lasso_grid_search.best_score_)\n",
    "print(\"Mean cross validated error of the best estimator is: \", -lasso_grid_search.best_score_)"
   ]
  },
  {
   "cell_type": "code",
   "execution_count": 63,
   "metadata": {},
   "outputs": [
    {
     "name": "stdout",
     "output_type": "stream",
     "text": [
      "The best parameter value is:  {'lasso__alpha': 0.00026366508987303583, 'poly__degree': 5}\n"
     ]
    }
   ],
   "source": [
    "print(\"The best parameter value is: \", lasso_grid_search.best_params_)"
   ]
  },
  {
   "cell_type": "markdown",
   "metadata": {},
   "source": [
    "## SGD: Regularization and HPT\n",
    "\n",
    "We can also perdorm regularization with SGD. `SGDRegressor` has many hyperparameters that require careful tuning to achieve the same performace as with `LinearRegression`, Normal Equation method."
   ]
  },
  {
   "cell_type": "markdown",
   "metadata": {},
   "source": [
    "### Baseline SGD model"
   ]
  },
  {
   "cell_type": "code",
   "execution_count": 65,
   "metadata": {},
   "outputs": [
    {
     "name": "stdout",
     "output_type": "stream",
     "text": [
      "Mean absolute error of Polynomial regression model on the train set:\n",
      "10824283052.546 +/- 4423288211.832\n",
      "Mean absolute error of Polynomial regression model on the test set:\n",
      "10946788540.250 +/- 5396536227.703\n"
     ]
    }
   ],
   "source": [
    "from sklearn.pipeline import Pipeline\n",
    "from sklearn.preprocessing import StandardScaler, PolynomialFeatures\n",
    "from sklearn.linear_model import SGDRegressor\n",
    "from sklearn.model_selection import cross_validate\n",
    "\n",
    "poly_sgd_pipe = Pipeline([\n",
    "    ('poly', PolynomialFeatures(degree=2)),\n",
    "    ('feature_scaler', StandardScaler()),\n",
    "    ('sgd_reg', SGDRegressor(\n",
    "        penalty='elasticnet',\n",
    "        random_state=42\n",
    "    ))\n",
    "])\n",
    "\n",
    "poly_sgd_cv_results = cross_validate(\n",
    "    poly_sgd_pipe,\n",
    "    com_train_features,\n",
    "    com_train_labels,\n",
    "    scoring='neg_mean_absolute_error',\n",
    "    cv = ShuffleSplitCV,\n",
    "    return_train_score=True,\n",
    "    return_estimator=True\n",
    ")\n",
    "\n",
    "poly_sgd_train_errors = -1 * poly_sgd_cv_results['train_score']\n",
    "poly_sgd_test_errors = -1 * poly_sgd_cv_results['test_score']\n",
    "\n",
    "print(\n",
    "    f\"Mean absolute error of Polynomial regression model on the train set:\\n\"\n",
    "    f\"{poly_sgd_train_errors.mean():.3f} +/- {poly_sgd_train_errors.std():.3f}\"\n",
    ")\n",
    "print(\n",
    "    f\"Mean absolute error of Polynomial regression model on the test set:\\n\"\n",
    "    f\"{poly_sgd_test_errors.mean():.3f} +/- {poly_sgd_test_errors.std():.3f}\"\n",
    ")"
   ]
  },
  {
   "cell_type": "markdown",
   "metadata": {},
   "source": [
    "### SGD via `RandomizedSearchCV`"
   ]
  },
  {
   "cell_type": "markdown",
   "metadata": {},
   "source": [
    "Let's search the best set of parameters for polynomial + SGD pipeline with `RandomizedSearchCV`.\n",
    "\n",
    "> Note: In `RandomizedSearchCV`, we need to specify distributions for hyperparameters."
   ]
  },
  {
   "cell_type": "code",
   "execution_count": 64,
   "metadata": {},
   "outputs": [],
   "source": [
    "class uniform_int:\n",
    "    '''Integer valued version of the uniform distribution'''\n",
    "    def __init__(self, a, b):\n",
    "        self._distribution = uniform(a,b)\n",
    "    \n",
    "    def rvs(self, *args, **kwargs):\n",
    "        '''Random Variable Sample'''\n",
    "        return self._distribution.rvs(*args, **kwargs).astype(int)"
   ]
  },
  {
   "cell_type": "markdown",
   "metadata": {},
   "source": [
    "Let's specify `RandomSearchCV` setup."
   ]
  },
  {
   "cell_type": "markdown",
   "metadata": {},
   "source": [
    "Here, `n_jobs=10`, is a way of controlling the budget or the time that we spend in performing the parameter search. So, after 10 iterations performed by `RandomSearchCV`, we get the best possible parameters. Obviously, going through larger no. of iterations gives us a higher chance of hitting the optimum set of parameters."
   ]
  },
  {
   "cell_type": "code",
   "execution_count": 67,
   "metadata": {},
   "outputs": [
    {
     "name": "stdout",
     "output_type": "stream",
     "text": [
      "Fitting 10 folds for each of 10 candidates, totalling 100 fits\n"
     ]
    },
    {
     "data": {
      "text/plain": [
       "RandomizedSearchCV(cv=ShuffleSplit(n_splits=10, random_state=42, test_size=0.2, train_size=None),\n",
       "                   estimator=Pipeline(steps=[('poly', PolynomialFeatures()),\n",
       "                                             ('feature_scaler',\n",
       "                                              StandardScaler()),\n",
       "                                             ('sgd_reg',\n",
       "                                              SGDRegressor(penalty='elasticnet',\n",
       "                                                           random_state=42))]),\n",
       "                   n_jobs=-2,\n",
       "                   param_distributions={'poly__degree': [1, 2, 3],\n",
       "                                        'sgd_reg__eta0': <scipy.stats._distn_infrastructure.rv_frozen object at 0x7fded1379be0>,\n",
       "                                        'sgd_reg__l1_ratio': <scipy.stats._distn_infrastructure.rv_frozen object at 0x7fdf032a1550>,\n",
       "                                        'sgd_reg__learning_rate': ['constant',\n",
       "                                                                   'adaptive',\n",
       "                                                                   'invscaling'],\n",
       "                                        'sgd_reg__power_t': <scipy.stats._distn_infrastructure.rv_frozen object at 0x7fdef1120400>},\n",
       "                   scoring='neg_mean_absolute_error', verbose=1)"
      ]
     },
     "execution_count": 67,
     "metadata": {},
     "output_type": "execute_result"
    }
   ],
   "source": [
    "from sklearn.pipeline import Pipeline\n",
    "from sklearn.preprocessing import StandardScaler, PolynomialFeatures\n",
    "from sklearn.linear_model import SGDRegressor\n",
    "from sklearn.model_selection import RandomizedSearchCV\n",
    "\n",
    "poly_sgd_pipe = Pipeline([\n",
    "    ('poly', PolynomialFeatures(degree=2)),\n",
    "    ('feature_scaler', StandardScaler()),\n",
    "    ('sgd_reg', SGDRegressor(\n",
    "        penalty='elasticnet',\n",
    "        random_state=42\n",
    "    ))\n",
    "])\n",
    "\n",
    "param_distributions = {\n",
    "    'poly__degree': [1,2,3],\n",
    "    'sgd_reg__learning_rate': ['constant', 'adaptive', 'invscaling'],\n",
    "    'sgd_reg__l1_ratio': uniform(0,1),\n",
    "    'sgd_reg__eta0': loguniform(1e-5, 1),\n",
    "    'sgd_reg__power_t': uniform(0,1)\n",
    "}\n",
    "\n",
    "poly_sgd_random_search = RandomizedSearchCV(\n",
    "    poly_sgd_pipe,\n",
    "    param_distributions=param_distributions,\n",
    "    n_iter=10,\n",
    "    cv=ShuffleSplitCV,\n",
    "    scoring='neg_mean_absolute_error',\n",
    "    verbose=1,\n",
    "    n_jobs=-2,\n",
    ")\n",
    "\n",
    "poly_sgd_random_search.fit(com_train_features, com_train_labels)"
   ]
  },
  {
   "cell_type": "markdown",
   "metadata": {},
   "source": [
    "The best score can be obtained as follows:"
   ]
  },
  {
   "cell_type": "code",
   "execution_count": 68,
   "metadata": {},
   "outputs": [
    {
     "data": {
      "text/plain": [
       "-0.5299969639195103"
      ]
     },
     "execution_count": 68,
     "metadata": {},
     "output_type": "execute_result"
    }
   ],
   "source": [
    "poly_sgd_random_search.best_score_"
   ]
  },
  {
   "cell_type": "code",
   "execution_count": 69,
   "metadata": {},
   "outputs": [
    {
     "data": {
      "text/plain": [
       "{'poly__degree': 2,\n",
       " 'sgd_reg__eta0': 2.2259378986364428e-05,\n",
       " 'sgd_reg__l1_ratio': 0.8822531810873846,\n",
       " 'sgd_reg__learning_rate': 'constant',\n",
       " 'sgd_reg__power_t': 0.8805394810951347}"
      ]
     },
     "execution_count": 69,
     "metadata": {},
     "output_type": "execute_result"
    }
   ],
   "source": [
    "poly_sgd_random_search.best_params_"
   ]
  },
  {
   "cell_type": "markdown",
   "metadata": {},
   "source": [
    "And the best estimator can be accessed via the `best_estimator_` variable."
   ]
  },
  {
   "cell_type": "markdown",
   "metadata": {},
   "source": [
    "## Comparison of Weight Vectors\n",
    "\n",
    "Let's look at the weight vectors produced by different models."
   ]
  },
  {
   "cell_type": "markdown",
   "metadata": {},
   "source": [
    "### Polynomial Regression"
   ]
  },
  {
   "cell_type": "code",
   "execution_count": 78,
   "metadata": {},
   "outputs": [
    {
     "data": {
      "text/plain": [
       "array(['1', 'MedInc', 'HouseAge', 'AveRooms', 'AveBedrms', 'Population',\n",
       "       'AveOccup', 'Latitude', 'Longitude', 'MedInc HouseAge',\n",
       "       'MedInc AveRooms', 'MedInc AveBedrms', 'MedInc Population',\n",
       "       'MedInc AveOccup', 'MedInc Latitude', 'MedInc Longitude',\n",
       "       'HouseAge AveRooms', 'HouseAge AveBedrms', 'HouseAge Population',\n",
       "       'HouseAge AveOccup', 'HouseAge Latitude', 'HouseAge Longitude',\n",
       "       'AveRooms AveBedrms', 'AveRooms Population', 'AveRooms AveOccup',\n",
       "       'AveRooms Latitude', 'AveRooms Longitude', 'AveBedrms Population',\n",
       "       'AveBedrms AveOccup', 'AveBedrms Latitude', 'AveBedrms Longitude',\n",
       "       'Population AveOccup', 'Population Latitude',\n",
       "       'Population Longitude', 'AveOccup Latitude', 'AveOccup Longitude',\n",
       "       'Latitude Longitude'], dtype='<U20')"
      ]
     },
     "execution_count": 78,
     "metadata": {},
     "output_type": "execute_result"
    }
   ],
   "source": [
    "feature_names = poly_reg_cv_results['estimator'][0][0].get_feature_names(input_features=train_features.columns)\n",
    "np.transpose(np.array(feature_names))"
   ]
  },
  {
   "cell_type": "code",
   "execution_count": 79,
   "metadata": {},
   "outputs": [],
   "source": [
    "coefs = [est[-1].coef_ for est in poly_reg_cv_results['estimator']]\n",
    "weights_polynomial_regression = pd.DataFrame(coefs, columns=feature_names)"
   ]
  },
  {
   "cell_type": "code",
   "execution_count": 83,
   "metadata": {},
   "outputs": [
    {
     "data": {
      "text/plain": [
       "<Figure size 576x396 with 0 Axes>"
      ]
     },
     "metadata": {},
     "output_type": "display_data"
    },
    {
     "data": {
      "image/png": "[encoded data removed]",
      "text/plain": [
       "<Figure size 1152x432 with 1 Axes>"
      ]
     },
     "metadata": {},
     "output_type": "display_data"
    }
   ],
   "source": [
    "plt.figure()\n",
    "weights_polynomial_regression.plot.box(figsize=(16,6), vert=False)\n",
    "plt.title(\"Polynomial Regression coefficients\")\n",
    "plt.show()"
   ]
  },
  {
   "cell_type": "markdown",
   "metadata": {},
   "source": [
    "### Polynomial Ridge Regression"
   ]
  },
  {
   "cell_type": "code",
   "execution_count": 89,
   "metadata": {},
   "outputs": [
    {
     "data": {
      "text/plain": [
       "array(['1', 'MedInc', 'HouseAge', 'AveRooms', 'AveBedrms', 'Population',\n",
       "       'AveOccup', 'Latitude', 'Longitude', 'MedInc^2', 'MedInc HouseAge',\n",
       "       'MedInc AveRooms', 'MedInc AveBedrms', 'MedInc Population',\n",
       "       'MedInc AveOccup', 'MedInc Latitude', 'MedInc Longitude',\n",
       "       'HouseAge^2', 'HouseAge AveRooms', 'HouseAge AveBedrms',\n",
       "       'HouseAge Population', 'HouseAge AveOccup', 'HouseAge Latitude',\n",
       "       'HouseAge Longitude', 'AveRooms^2', 'AveRooms AveBedrms',\n",
       "       'AveRooms Population', 'AveRooms AveOccup', 'AveRooms Latitude',\n",
       "       'AveRooms Longitude', 'AveBedrms^2', 'AveBedrms Population',\n",
       "       'AveBedrms AveOccup', 'AveBedrms Latitude', 'AveBedrms Longitude',\n",
       "       'Population^2', 'Population AveOccup', 'Population Latitude',\n",
       "       'Population Longitude', 'AveOccup^2', 'AveOccup Latitude',\n",
       "       'AveOccup Longitude', 'Latitude^2', 'Latitude Longitude',\n",
       "       'Longitude^2'], dtype='<U20')"
      ]
     },
     "execution_count": 89,
     "metadata": {},
     "output_type": "execute_result"
    }
   ],
   "source": [
    "feature_names = ridge_reg_cv_results['estimator'][0][0].get_feature_names(input_features=train_features.columns)\n",
    "np.transpose(np.array(feature_names))"
   ]
  },
  {
   "cell_type": "code",
   "execution_count": 90,
   "metadata": {},
   "outputs": [],
   "source": [
    "coefs = [est[-1].coef_ for est in ridge_reg_cv_results['estimator']]\n",
    "weights_ridge_regression = pd.DataFrame(coefs, columns=feature_names)"
   ]
  },
  {
   "cell_type": "code",
   "execution_count": 93,
   "metadata": {},
   "outputs": [
    {
     "data": {
      "text/plain": [
       "<Figure size 576x396 with 0 Axes>"
      ]
     },
     "metadata": {},
     "output_type": "display_data"
    },
    {
     "data": {
      "image/png": "[encoded data removed]",
      "text/plain": [
       "<Figure size 1152x576 with 1 Axes>"
      ]
     },
     "metadata": {},
     "output_type": "display_data"
    }
   ],
   "source": [
    "plt.figure()\n",
    "weights_ridge_regression.plot.box(figsize=(16,8), vert=False)\n",
    "plt.title(\"Polynomial Ridge Regression coefficients\")\n",
    "plt.show()"
   ]
  },
  {
   "cell_type": "markdown",
   "metadata": {},
   "source": [
    "## Performance on the Test Set"
   ]
  },
  {
   "cell_type": "markdown",
   "metadata": {},
   "source": [
    "### Baseline"
   ]
  },
  {
   "cell_type": "code",
   "execution_count": 94,
   "metadata": {},
   "outputs": [
    {
     "data": {
      "text/plain": [
       "0.5329666796008011"
      ]
     },
     "execution_count": 94,
     "metadata": {},
     "output_type": "execute_result"
    }
   ],
   "source": [
    "from sklearn.dummy import DummyRegressor\n",
    "from sklearn.metrics import mean_absolute_percentage_error\n",
    "\n",
    "baseline_model_median = DummyRegressor(strategy='median')\n",
    "baseline_model_median.fit(com_train_features, com_train_labels)\n",
    "mean_absolute_percentage_error(\n",
    "    test_labels, \n",
    "    baseline_model_median.predict(test_features)\n",
    ")"
   ]
  },
  {
   "cell_type": "markdown",
   "metadata": {},
   "source": [
    "### Linear Regression with Normal Equation"
   ]
  },
  {
   "cell_type": "code",
   "execution_count": 95,
   "metadata": {},
   "outputs": [
    {
     "data": {
      "text/plain": [
       "0.32120472175482895"
      ]
     },
     "execution_count": 95,
     "metadata": {},
     "output_type": "execute_result"
    }
   ],
   "source": [
    "mean_absolute_percentage_error(\n",
    "    test_labels, \n",
    "    lin_reg_cv_results['estimator'][0].predict(test_features)\n",
    ")"
   ]
  },
  {
   "cell_type": "markdown",
   "metadata": {},
   "source": [
    "### Polynomial SGD Regressor via `RandomizedSearchCV`"
   ]
  },
  {
   "cell_type": "code",
   "execution_count": 96,
   "metadata": {},
   "outputs": [
    {
     "data": {
      "text/plain": [
       "0.3152640292637166"
      ]
     },
     "execution_count": 96,
     "metadata": {},
     "output_type": "execute_result"
    }
   ],
   "source": [
    "mean_absolute_percentage_error(\n",
    "    test_labels, \n",
    "    poly_sgd_random_search.best_estimator_.predict(test_features)\n",
    ")"
   ]
  },
  {
   "cell_type": "markdown",
   "metadata": {},
   "source": [
    "### Polynomial Regression"
   ]
  },
  {
   "cell_type": "code",
   "execution_count": 98,
   "metadata": {},
   "outputs": [
    {
     "data": {
      "text/plain": [
       "0.28199759082656944"
      ]
     },
     "execution_count": 98,
     "metadata": {},
     "output_type": "execute_result"
    }
   ],
   "source": [
    "# cell 21 - polynomial regression without interaction\n",
    "poly_reg_pipe.fit(com_train_features, com_train_labels)\n",
    "\n",
    "mean_absolute_percentage_error(\n",
    "    test_labels, \n",
    "    poly_reg_pipe.predict(test_features)\n",
    ")"
   ]
  },
  {
   "cell_type": "markdown",
   "metadata": {},
   "source": [
    "### Ridge Regression via `GridSearchCV`"
   ]
  },
  {
   "cell_type": "code",
   "execution_count": 99,
   "metadata": {},
   "outputs": [
    {
     "data": {
      "text/plain": [
       "0.2711033645139322"
      ]
     },
     "execution_count": 99,
     "metadata": {},
     "output_type": "execute_result"
    }
   ],
   "source": [
    "mean_absolute_percentage_error(\n",
    "    test_labels, \n",
    "    ridge_grid_search.best_estimator_.predict(test_features)\n",
    ")"
   ]
  },
  {
   "cell_type": "markdown",
   "metadata": {},
   "source": [
    "### Lasso Regression via `GridSearchCV`"
   ]
  },
  {
   "cell_type": "code",
   "execution_count": 100,
   "metadata": {},
   "outputs": [
    {
     "data": {
      "text/plain": [
       "0.2812589416961285"
      ]
     },
     "execution_count": 100,
     "metadata": {},
     "output_type": "execute_result"
    }
   ],
   "source": [
    "mean_absolute_percentage_error(\n",
    "    test_labels, \n",
    "    lasso_grid_search.best_estimator_.predict(test_features)\n",
    ")"
   ]
  },
  {
   "cell_type": "markdown",
   "metadata": {},
   "source": [
    "## Summary\n",
    "\n",
    "We trained multiple linear regression models on the `California Housing Dataset`.\n",
    "\n",
    "We set their hyperparameters through hyperparameter searching and optimizations.\n",
    "\n",
    "We retrained models with their best values of hyperparameters and then evaluated their performance on the test data (which was held back till the end for fair evaluation).\n",
    "\n",
    "This is how most of the real world problems are solved starting from simple to more sophisticated models."
   ]
  }
 ],
 "metadata": {
  "interpreter": {
   "hash": "c0b4aa3dbf26008a2f5bdb6f96959d9b12aab8bbe92ce96b5c8a3811effcf69d"
  },
  "kernelspec": {
   "display_name": "Python 3.8.8 64-bit ('skk-mlp-env': conda)",
   "language": "python",
   "name": "python3"
  },
  "language_info": {
   "codemirror_mode": {
    "name": "ipython",
    "version": 3
   },
   "file_extension": ".py",
   "mimetype": "text/x-python",
   "name": "python",
   "nbconvert_exporter": "python",
   "pygments_lexer": "ipython3",
   "version": "3.8.8"
  },
  "orig_nbformat": 4
 },
 "nbformat": 4,
 "nbformat_minor": 2
}
