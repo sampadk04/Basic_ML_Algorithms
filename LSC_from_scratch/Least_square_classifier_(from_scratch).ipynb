{
 "cells": [
  {
   "cell_type": "code",
   "execution_count": 2,
   "metadata": {},
   "outputs": [],
   "source": [
    "from IPython.display import display, Math, Latex\n",
    "# This is imported for proper rendering of Latex in Notebook."
   ]
  },
  {
   "cell_type": "code",
   "execution_count": 3,
   "metadata": {},
   "outputs": [],
   "source": [
    "# Imports\n",
    "import numpy as np\n",
    "import pandas as pd\n",
    "import matplotlib.pyplot as plt\n",
    "import seaborn as sns\n",
    "\n",
    "%matplotlib inline\n",
    "\n",
    "np.random.seed(306)\n",
    "plt.style.use('seaborn')"
   ]
  },
  {
   "cell_type": "markdown",
   "metadata": {},
   "source": [
    "# Least Square Classifier (LSC)"
   ]
  },
  {
   "cell_type": "markdown",
   "metadata": {},
   "source": [
    "# Background\n",
    "\n",
    "We will implement the least square classification from scratch in this notebook.\n",
    "\n",
    "A few pointers:\n",
    "- Least square classification is used for estimating parameters of discriminant functions from the given training data.\n",
    "- Least square classification adapts linear regression model for classification.\n",
    "    - It uses **least square error** as a **loss function**.\n",
    "    - It uses **normal equation** method and **gradient descent** for estimating model parameters or weight vector.\n",
    "- Since it is a classifcation algorithm, we should we classification related evaluation metrics such as precision, recall, F-1 score, AUC ROC/PR and accuracy.\n",
    "\n",
    "Additionally note that:\n",
    "- We can make use of polynomial feature transformation to obtain new features and use that representation to learn non-linear decision boundaries between classes using the following equation:\n",
    "$$y = w_0 + w^T \\phi(x)$$\n",
    "where, $\\phi(x)$ is a polynomial feature transformation.\n",
    "- We can tackle issures of overfitting by using ridge or lasso regularization, just like as in linear regression model."
   ]
  },
  {
   "cell_type": "markdown",
   "metadata": {},
   "source": [
    "# Implementation"
   ]
  },
  {
   "cell_type": "markdown",
   "metadata": {},
   "source": [
    "## `polynomial_transform`\n",
    "\n",
    "We define a helper function to transform the feature matrices into their polynomial combination, given the degree."
   ]
  },
  {
   "cell_type": "code",
   "execution_count": 8,
   "metadata": {},
   "outputs": [],
   "source": [
    "import itertools,functools\n",
    "\n",
    "def get_combinations(x, degree):\n",
    "    '''\n",
    "    Return successive r-length combinations of elements in the iterable allowing individual elements to have successive repeats.\n",
    "\n",
    "    combinations_with_replacement('ABC', 2) --> AA AB AC BB BC CC\"\n",
    "    '''\n",
    "    return itertools.combinations_with_replacement(x,degree)\n",
    "\n",
    "def compute_new_feature(items):\n",
    "    '''\n",
    "    reduce(function, sequence[, initial]) -> value\n",
    "\n",
    "    Apply a function of two arguments cumulatively to the items of a sequence, from left to right, so as to reduce the sequence to a single value.\n",
    "\n",
    "    For example: \n",
    "    reduce(lambda x, y: x+y, [1, 2, 3, 4, 5]) calculates ((((1+2)+3)+4)+5). \n",
    "    \n",
    "    If initial is present, it is placed before the items of the sequence in the calculation, and serves as a default when the sequence is empty.\n",
    "\n",
    "    reduce(lambda x,y: x*y, [1, 2, 3, 4, 5]) calculates ((((1*2)*3)*4)*5).\n",
    "    '''\n",
    "    return functools.reduce(lambda x, y: x*y, items)\n",
    "\n",
    "def polynomial_transform(x, degree, logging=False):\n",
    "    '''\n",
    "    Steps for generating polynomial transformations of degree M ---\n",
    "        \n",
    "        1. Generate combination of input features of lengths = {0,1,...,M}.\n",
    "        \n",
    "        2. Perform multiplication operation between features to obtain the required new features.\n",
    "    \n",
    "    logging: Bool - True to print all the combinations and their products.\n",
    "    '''\n",
    "    \n",
    "    # If 'x' is 1-dim, it is first converted to a feature matrix.\n",
    "    # [1,2,3,4] to [[1],[2],[3],[4]]\n",
    "    if x.ndim == 1:\n",
    "        x = x[:,None]\n",
    "    \n",
    "    # Transpose of feature matrix\n",
    "    x_t = x.transpose()\n",
    "\n",
    "    # Populates 1's as first feature for each example, the degree 0 feature.\n",
    "    features  = [np.ones(len(x))]\n",
    "\n",
    "    if logging:\n",
    "        print(\"Input: \",x)\n",
    "    \n",
    "    # for each degree d\n",
    "    for d in range(1, degree+1):\n",
    "        # generate combinations of degree d\n",
    "        for x in get_combinations(x_t, d):\n",
    "            # take product of no.s in x, and combine them into a single feature\n",
    "            features.append(compute_new_feature(x))\n",
    "            if logging:\n",
    "                print(x,compute_new_feature(x), sep = ': ')\n",
    "    \n",
    "    if logging:\n",
    "        print(\"Output: \", np.asarray(features).transpose())\n",
    "    \n",
    "    return np.asarray(features).transpose()"
   ]
  },
  {
   "cell_type": "markdown",
   "metadata": {},
   "source": [
    "## Label Encoding\n",
    "\n",
    "Since, the output $y$ is a discrete quantity, we use one-hot encoding to represent label. For a **binary classification**:\n",
    "- The label `0` is represented with `[1, 0]`, and\n",
    "- The label `1` is represented wiht `[0, 1]`.\n",
    "\n",
    "The same scheme is extended to **multi-class setting**. In general for a $k$ class set up, we use one hot encoding via  $k$ component vector. $[y_1, y_2, y_3, \\dots, y_k]$. For label $1 \\le r \\le k$, $y_r$ would be `1` and other components would be `0`.\n",
    "\n",
    "Concretely, for a three class classification set up,\n",
    "- The label `0` is represented by `[1, 0, 0]`\n",
    "- The label `1` is represented by `[0, 1, 0]`\n",
    "- The label `2` is represented by `[0, 0, 1]`.\n",
    "\n",
    "In the following notebook, we implement the class `LabelTransformer` that converts discrete label into a one hot encoding."
   ]
  },
  {
   "cell_type": "code",
   "execution_count": 5,
   "metadata": {},
   "outputs": [],
   "source": [
    "class LabelTransformer(object):\n",
    "    '''\n",
    "    Label encoder decoder\n",
    "    Attributes\n",
    "    ----------\n",
    "    n_classes : int\n",
    "        number of classes, K\n",
    "    '''\n",
    "\n",
    "    def __init__(self, n_classes:int=None):\n",
    "        self.n_classes = n_classes\n",
    "    \n",
    "    @property\n",
    "    def n_classes(self):\n",
    "        return self.__n_classes\n",
    "    \n",
    "    @n_classes.setter\n",
    "    def n_classes(self, K):\n",
    "        self.__n_classes = K\n",
    "        self.__encoder = None if K is None else np.eye(K)\n",
    "    \n",
    "    @property\n",
    "    def encoder(self):\n",
    "        return self.__encoder\n",
    "    \n",
    "    def encode(self, class_indices:np.ndarray):\n",
    "        '''\n",
    "        encode class index into one-of-k code\n",
    "        Parameters\n",
    "        ----------\n",
    "        class_indices : (N,) np.ndarray\n",
    "            non-negative class index\n",
    "            elements must be integer in [0, n_classes)\n",
    "        Returns\n",
    "        -------\n",
    "        (N, K) np.ndarray\n",
    "            one-of-k encoding of input\n",
    "        '''\n",
    "        if self.n_classes is None:\n",
    "            self.n_classes = np.max(class_indices) + 1\n",
    "        \n",
    "        return self.encoder[class_indices]\n",
    "    \n",
    "    def decode(self, onehot:np.ndarray):\n",
    "        '''\n",
    "        decode one-of-k code into class index\n",
    "        Parameters\n",
    "        ----------\n",
    "        onehot : (N,K) np.ndarray\n",
    "            one-of-k code\n",
    "        Returns\n",
    "        -------\n",
    "        (N,) np.ndarray\n",
    "            class index\n",
    "        '''\n",
    "        return np.argmax(onehot, axis=1)"
   ]
  },
  {
   "cell_type": "markdown",
   "metadata": {},
   "source": [
    "Let's demonstrate the `LabelTransformer`:"
   ]
  },
  {
   "cell_type": "markdown",
   "metadata": {},
   "source": [
    "Binary classification set up:"
   ]
  },
  {
   "cell_type": "code",
   "execution_count": 9,
   "metadata": {},
   "outputs": [
    {
     "data": {
      "text/plain": [
       "array([[0., 1.],\n",
       "       [1., 0.],\n",
       "       [0., 1.],\n",
       "       [1., 0.]])"
      ]
     },
     "execution_count": 9,
     "metadata": {},
     "output_type": "execute_result"
    }
   ],
   "source": [
    "binary_labels = LabelTransformer(2).encode(np.array([1, 0, 1, 0]))\n",
    "binary_labels"
   ]
  },
  {
   "cell_type": "markdown",
   "metadata": {},
   "source": [
    "Multiclass set up with three classes:"
   ]
  },
  {
   "cell_type": "code",
   "execution_count": 10,
   "metadata": {},
   "outputs": [
    {
     "data": {
      "text/plain": [
       "array([[0., 1., 0.],\n",
       "       [1., 0., 0.],\n",
       "       [0., 1., 0.],\n",
       "       [0., 0., 1.]])"
      ]
     },
     "execution_count": 10,
     "metadata": {},
     "output_type": "execute_result"
    }
   ],
   "source": [
    "multiclass_labels = LabelTransformer(3).encode(np.array([1, 0, 1, 2]))\n",
    "multiclass_labels"
   ]
  },
  {
   "cell_type": "markdown",
   "metadata": {},
   "source": [
    "## Least Square Classification (LSC) implementation"
   ]
  },
  {
   "cell_type": "markdown",
   "metadata": {},
   "source": [
    "### Training Data\n",
    "\n",
    "This representation of label has an impact on the learning set up. Now we have\n",
    "- A feature matrix $X$ of shape $(n,m)$, where $n$ is the no. of examples, $m$ is the no. of features.\n",
    "- A label matrix $Y$ of shape $(n,k)$, where $k$ is the no. of class labels. Note that this setup is similar to **multi label regression**.\n",
    "\n",
    "### Model\n",
    "\n",
    "The label matrix is obtained by matrix multiplication of feature matrix and weight matrix. After adding a dummy feature to the feature matrix, its shape becomes $(n,(m+1))$. It follows the following equation:\n",
    "$$Y_{n \\times k} = X_{n \\times (m+1)} W_{(m+1) \\times k}$$\n",
    "- There is one weight vector per output. Hence the total no. of parameters to be estimated = $(m+1) \\times k$.\n",
    "\n",
    "### Loss Function\n",
    "\n",
    "This results into the following loss matrix of shape $(k,k)$.\n",
    "$$J(W) = \\frac{1}{2} (Y_{n \\times k} - X_{n \\times (m+1)} W_{(m+1) \\times k})^T (Y_{n \\times k} - X_{n \\times (m+1)} W_{(m+1) \\times k}) + \\frac{\\lambda}{2} W^T W $$\n",
    "\n",
    "$$= \\frac{1}{2} (E^T E)_{k \\times k} + \\frac{\\lambda}{2} (W^T W)_{k \\times k}$$\n",
    "\n",
    "### Normal Equation\n",
    "\n",
    "There is almost no code change needed in fit function that uses normal equation method for parameter or weight vector estimation:\n",
    "$$W = (X^T X + \\lambda I)^{-1} X^T Y$$\n",
    "\n",
    "### Iterative Optimization (GD, MBGD and SGD)\n",
    "\n",
    "The gradient calculation (`calculate_gradient`) for iterative optimization is performed as follows:\n",
    "$$\\frac{\\partial J(W)}{\\partial W} = X^T (X W - Y) + \\lambda W$$\n",
    "\n",
    "And the new value of $W$ is calculated in vectorized form as:\n",
    "$$W^{\\text{new}} := W^{\\text{old}} - \\alpha \\frac{\\partial J(W)}{\\partial W}$$\n",
    "\n",
    "### Inference\n",
    "\n",
    "The `predict` function for this classification set up is espected to return a discrete quantity (unlike a real number in regression set up)\n",
    "- We return the class label with largest value of linear combination of features amongst all the classes.\n",
    "\n",
    "### Multi-class classification\n",
    "This implementation is generic enough to work on multi-class set up and also polynomial transformation followed by least squares classification."
   ]
  },
  {
   "cell_type": "code",
   "execution_count": 11,
   "metadata": {},
   "outputs": [],
   "source": [
    "class LeastSquareClassification(object):\n",
    "    '''\n",
    "    LSC Model\n",
    "    ---------\n",
    "    y = np.where(X@w >= 0, 1, 0)\n",
    "    X: A feature matrix\n",
    "    w: weight vector\n",
    "    y: label vector\n",
    "    '''\n",
    "\n",
    "    def __init__(self):\n",
    "        self.t0 = 20\n",
    "        self.t1 = 1000\n",
    "    \n",
    "    def predict(self, X:np.ndarray) -> np.ndarray:\n",
    "        '''Prediction of output label for a given input.\n",
    "\n",
    "        Args:\n",
    "            X: Feature matrix for given inputs\n",
    "        \n",
    "        Returns:\n",
    "            y: Output label vector as predicted by the given model\n",
    "        '''\n",
    "        # Check to make sure the shapes are compatible\n",
    "        assert X.shape[-1]==self.w.shape[0], f\"X shape {X.shape} and w shape {self.w.shape}, are not compatible\"\n",
    "\n",
    "        return np.argmax(X@self.w, axis=1)\n",
    "    \n",
    "    def predict_internal(self, X:np.ndarray) -> np.ndarray:\n",
    "        '''Prediction of output label for a given input.\n",
    "\n",
    "        Args:\n",
    "            X: Feature matrix for given inputs\n",
    "        \n",
    "        Returns:\n",
    "            y: Output label matrix encoded in label encoder format\n",
    "        '''\n",
    "        # Check to make sure the shapes are compatible\n",
    "        assert X.shape[-1]==self.w.shape[0], f\"X shape {X.shape} and w shape {self.w.shape}, are not compatible\"\n",
    "\n",
    "        return X@self.w\n",
    "\n",
    "    def loss(self, X:np.ndarray, y:np.ndarray, reg_rate:float=0) -> float:\n",
    "        '''Calculate loss for a model based on actual labels.\n",
    "\n",
    "        Args:\n",
    "            X: Feature matrix for given inputs\n",
    "            y: Output label vector as known from the dataset (one-hot form)\n",
    "            reg_rate: Rate of regularization\n",
    "        \n",
    "        Returns:\n",
    "            Loss\n",
    "        '''\n",
    "\n",
    "        e = y - self.predict_internal(X)\n",
    "        # Here y is in the one-hot encoded form\n",
    "        return (1/2) * (np.transpose(e) @ e) + (reg_rate/2) * (np.transpose(self.w) @ self.w)\n",
    "\n",
    "    # Normal Equation based estimation\n",
    "    def fit(self, X:np.ndarray, y:np.ndarray, reg_rate:float=0) -> np.ndarray:\n",
    "        '''Estimate parameters of linear regression model with normal equation.\n",
    "\n",
    "        Args:\n",
    "            X: Feature matrix for given inputs\n",
    "            y: Output label vector as known from the dataset (one-hot form)\n",
    "            reg_rate: Rate of regularization\n",
    "        \n",
    "        Returns:\n",
    "            Weight vector via normal equation\n",
    "        '''\n",
    "        # self.w = np.linalg.pinv(X) @ y\n",
    "\n",
    "        self.w = np.zeros((X.shape[1],y.shape[1]))\n",
    "        eye = np.eye(np.size(X,1))\n",
    "        self.w = np.linalg.solve(\n",
    "            reg_rate * eye + X.T @ X,\n",
    "            X.T @ y,\n",
    "        )\n",
    "\n",
    "        return self.w\n",
    "\n",
    "    def calculate_gradient(self, X:np.ndarray, y:np.ndarray, reg_rate:float=0) -> np.ndarray:\n",
    "        '''Calculate gradients of loss function w.r.t. weight vector on training set.\n",
    "\n",
    "        Args:\n",
    "            X: Feature matrix for given inputs\n",
    "            y: Output label vector as known from the dataset (one-hot form)\n",
    "            reg_rate: Rate of regularization\n",
    "        \n",
    "        Returns:\n",
    "            A vector of gradients\n",
    "        '''\n",
    "        return np.transpose(X) @ (self.predict_internal(X) - y) + reg_rate * self.w\n",
    "    \n",
    "    def update_weights(self, grad:np.ndarray, lr:float) -> np.ndarray:\n",
    "        '''Update the weights based on the gradient of the loss function.\n",
    "\n",
    "        Weight updates are carried out with the following formula:\n",
    "            w_new := w_old - lr * grad\n",
    "        \n",
    "        Args:\n",
    "            grad: Gradient of loss w.r.t w\n",
    "            lr: Learning rate\n",
    "        \n",
    "        Returns:\n",
    "            Updated weight vector\n",
    "        '''\n",
    "        return self.w - lr * grad\n",
    "    \n",
    "    # Dynamic learning rate\n",
    "    def learning_schedule(self, t):\n",
    "        return self.t0/(t + self.t1)\n",
    "    \n",
    "    # GD - Gradient Descent\n",
    "    def gd(self, X:np.ndarray, y:np.ndarray, num_epochs:int, lr:float, reg_rate:float=0) -> np.ndarray:\n",
    "        '''Estimates parameters of linear regression model through gradient descent.\n",
    "        \n",
    "        Args:\n",
    "            X: Feature matrix for training data\n",
    "            y: Output label (in one-hot form) for training\n",
    "            num_epochs: Number of training steps\n",
    "            lr: Learning rate\n",
    "            reg_rate: Rate of regularization\n",
    "        \n",
    "        Returns:\n",
    "            Weight vector: Final weight vector\n",
    "        '''\n",
    "        self.w = np.zeros((X.shape[1],y.shape[1]))\n",
    "        self.w_all = []\n",
    "        self.err_all = []\n",
    "        \n",
    "        for i in np.arange(0, num_epochs):\n",
    "            dJdW = self.calculate_gradient(X,y,reg_rate)\n",
    "            self.w_all.append(self.w)\n",
    "            self.err_all.append(self.loss(X,y,reg_rate))\n",
    "            self.w = self.update_weights(dJdW, lr)\n",
    "        \n",
    "        return self.w\n",
    "    \n",
    "    # MBGD - Mini-Batch Gradient Descent\n",
    "    def mbgd(self, X:np.ndarray, y:np.ndarray, num_epochs:int, batch_size:int, reg_rate:float=0) -> np.ndarray:\n",
    "        '''Estimates parameters of linear regression model through mini-batch gradient descent.\n",
    "        \n",
    "        Args:\n",
    "            X: Feature matrix for training data\n",
    "            y: Output label (in one-hot form) for training\n",
    "            num_epochs: No. of epochs (no. of times MBGD is done over the whole training set)\n",
    "            batch_size: Size of each mini-batch, after which we update the weights\n",
    "            reg_rate: Rate of regularization\n",
    "        \n",
    "        Returns:\n",
    "            Weight vector: Final weight vector\n",
    "        '''\n",
    "        self.w = np.zeros((X.shape[1],y.shape[1]))\n",
    "        self.w_all = []\n",
    "        self.err_all = []\n",
    "        mini_batch_id = 0\n",
    "\n",
    "        for epoch in range(num_epochs):\n",
    "            shuffled_indices = np.random.permutation(X.shape[0])\n",
    "            X_shuffled = X[shuffled_indices]\n",
    "            y_shuffled = y[shuffled_indices]\n",
    "\n",
    "            for i in range(0, X.shape[0], batch_size):\n",
    "                mini_batch_id += 1\n",
    "                \n",
    "                # ith mini-batch\n",
    "                Xi = X_shuffled[i:i + batch_size]\n",
    "                yi = y_shuffled[i:i + batch_size]\n",
    "\n",
    "                lr = self.learning_schedule(mini_batch_id)\n",
    "                gradients = (2/ batch_size) * self.calculate_gradient(Xi, yi, reg_rate)\n",
    "\n",
    "                self.w_all.append(self.w)\n",
    "                self.err_all.append(self.loss(Xi, yi, reg_rate))\n",
    "                self.w = self.update_weights(gradients, lr)\n",
    "        \n",
    "        return self.w\n",
    "    \n",
    "    # SGD - Stochastic Gradient Descent\n",
    "    def sgd(self, X:np.ndarray, y:np.ndarray, num_epochs:int, reg_rate:float=0) -> np.ndarray:\n",
    "        '''Estimates parameters of linear regression model through stochastic gradient descent.\n",
    "        \n",
    "        Args:\n",
    "            X: Feature matrix for training data\n",
    "            y: Output label for training data vector\n",
    "            num_epochs: No. of epochs (no. of times MBGD is done over the whole training set)\n",
    "            reg_rate: Rate of regularization\n",
    "        \n",
    "        Returns:\n",
    "            Weight vector: Final weight vector\n",
    "        '''\n",
    "        self.w = np.zeros((X.shape[1],y.shape[1]))\n",
    "        self.w_all = []\n",
    "        self.err_all = []\n",
    "\n",
    "        for epoch in range(num_epochs):\n",
    "            for i in range(X.shape[0]):\n",
    "                random_index = np.random.randint(X.shape[0])\n",
    "                Xi = X[random_index:random_index+1]\n",
    "                yi = y[random_index:random_index+1]\n",
    "\n",
    "                lr = self.learning_schedule(epoch * X.shape[0] + i)\n",
    "                gradients = 2 * self.calculate_gradient(Xi, yi, reg_rate)\n",
    "\n",
    "                self.w_all.append(self.w)\n",
    "                self.err_all.append(self.loss(Xi,yi,reg_rate))\n",
    "                self.w = self.update_weights(gradients, lr)\n",
    "        \n",
    "        return self.w\n"
   ]
  },
  {
   "cell_type": "markdown",
   "metadata": {},
   "source": [
    "## Demonstration of LSC\n",
    "\n",
    "We will demonstrate working on least square classification in the following set ups:\n",
    "1. Linearly separable binary classification set up.\n",
    "2. Linearly separable binary classification set up with a few outliers.\n",
    "3. Multi-class classification with $k = 3$.\n",
    "4. Polynomial LSC."
   ]
  },
  {
   "cell_type": "markdown",
   "metadata": {},
   "source": [
    "Let's create a dataset for binary classification with no. of samples, $n = 50$.\n",
    "- It also has facility to add outliers to the generated dataset.\n",
    "- And it can generate samples from multiple classes (`> 2`)."
   ]
  },
  {
   "cell_type": "code",
   "execution_count": 14,
   "metadata": {},
   "outputs": [],
   "source": [
    "##@title Toy dataset creation\n",
    "def create_toy_data(add_outliers=False, add_class=False):\n",
    "    '''\n",
    "    Here we are generating 50 examples with 2 features each.\n",
    "    \n",
    "    If add_outliers=True, we add 5 more outlier examples.\n",
    "    \n",
    "    If add_class=True, we add 25 exaamples more of the third class type, making the total no. of samples to 75.\n",
    "    '''\n",
    "    x0 = np.random.normal(size=50).reshape(-1,2) - 1\n",
    "    x1 = np.random.normal(size=50).reshape(-1,2) + 1\n",
    "    if add_outliers:\n",
    "        x_1 = np.random.normal(size=10).reshape(-1,2) + np.array([5., 10.])\n",
    "        return np.concatenate([x0, x1, x_1]), np.concatenate([np.zeros(25), np.ones(30)]).astype(np.int)\n",
    "    if add_class:\n",
    "        x2 = np.random.normal(size=50).reshape(-1,2) + 2\n",
    "        return np.concatenate([x0, x1, x2]), np.concatenate([np.zeros(25), np.ones(25), 2 + np.zeros(25)]).astype(np.int)\n",
    "    return np.concatenate([x0, x1]), np.concatenate([np.zeros(25), np.ones(25)]).astype(np.int)"
   ]
  },
  {
   "cell_type": "markdown",
   "metadata": {},
   "source": [
    "First let's define a generic data preprocessing function that does the following:\n",
    "1. Generates synthetic data by calling `create_toy_data` function.\n",
    "2. Perform polynomial transformation (default `degree=1`) on the feature set.\n",
    "3. Divides the data into training and evaluation sets with `train_test_split` API from `sklearn` library.\n",
    "4. Perform label transformation for train and test sets."
   ]
  },
  {
   "cell_type": "code",
   "execution_count": 22,
   "metadata": {},
   "outputs": [],
   "source": [
    "##@title Data preprocessing\n",
    "from sklearn.model_selection import train_test_split\n",
    "\n",
    "def preprocess(add_outliers=False, add_class=False, degree=1):\n",
    "    '''\n",
    "    This creates and preprocesses synthetic data using `create_toy_data`\n",
    "    '''\n",
    "    x,y = create_toy_data(add_outliers, add_class)\n",
    "    x_poly = polynomial_transform(x, degree=degree)\n",
    "    x_train, x_test, y_train, y_test = train_test_split(x_poly, y)\n",
    "    y_train_trans = LabelTransformer().encode(y_train)\n",
    "    y_test_trans = LabelTransformer().encode(y_test)\n",
    "\n",
    "    return x_train, x_test, y_train, y_test, y_train_trans, y_test_trans"
   ]
  },
  {
   "cell_type": "code",
   "execution_count": 34,
   "metadata": {},
   "outputs": [],
   "source": [
    "#@title Model Visualization\n",
    "def visualize_model(X_train, labels, lsc_obj, degree=1):\n",
    "\n",
    "    f = plt.figure(figsize=(6,6))\n",
    "\n",
    "    # compute xlim, ylim\n",
    "    # First feature already has the dummy variable attached (because of polnomial transform)\n",
    "    # min,max of feature 1\n",
    "    x1_min = np.min(X_train[:,1])\n",
    "    x1_max = np.max(X_train[:,1])\n",
    "    # min,max of feature 2\n",
    "    x2_min = np.min(X_train[:,2])\n",
    "    x2_max = np.max(X_train[:,2])\n",
    "\n",
    "    x1_test, x2_test = np.meshgrid(np.linspace(x1_min,x1_max, 100), np.linspace(x2_min,x2_max, 100))\n",
    "    x_test = np.array([x1_test, x2_test]).reshape(2,-1).T\n",
    "    x_test_poly = polynomial_transform(x_test, degree=degree)\n",
    "    y_test_pred = lsc_obj.predict(x_test_poly)\n",
    "\n",
    "    sns.scatterplot(data=X_train, x=X_train[:,1], y=X_train[:,2], hue=labels)\n",
    "    plt.xlabel(\"$x_1$\")\n",
    "    plt.ylabel(\"$x_2$\")\n",
    "    plt.xlim(x1_min,x1_max)\n",
    "    plt.ylim(x2_min,x2_max)\n",
    "    \n",
    "    plt.contourf(x1_test, x2_test, y_test_pred.reshape(100,100), alpha=0.5, levels=np.linspace(0,1,3))\n",
    "\n",
    "    plt.show()"
   ]
  },
  {
   "cell_type": "code",
   "execution_count": 41,
   "metadata": {},
   "outputs": [
    {
     "name": "stdout",
     "output_type": "stream",
     "text": [
      "[0.  0.5 1. ] [0. 1.]\n",
      "[[0.  0.5 1. ]\n",
      " [0.  0.5 1. ]]\n",
      "[[0. 0. 0.]\n",
      " [1. 1. 1.]]\n"
     ]
    }
   ],
   "source": [
    "# This is what `np.meshgrid` does\n",
    "nx, ny = (3, 2)\n",
    "x = np.linspace(0, 1, nx)\n",
    "y = np.linspace(0, 1, ny)\n",
    "xv, yv = np.meshgrid(x, y)\n",
    "print(x,y)\n",
    "print(xv,yv, sep = '\\n')"
   ]
  },
  {
   "cell_type": "markdown",
   "metadata": {},
   "source": [
    "## Demo 1: Linearly separable Binary Classification"
   ]
  },
  {
   "cell_type": "code",
   "execution_count": 23,
   "metadata": {},
   "outputs": [],
   "source": [
    "x_train, x_test, y_train, y_test, y_train_trans, y_test_trans = preprocess()"
   ]
  },
  {
   "cell_type": "markdown",
   "metadata": {},
   "source": [
    "Let's examine the datasets."
   ]
  },
  {
   "cell_type": "code",
   "execution_count": 24,
   "metadata": {},
   "outputs": [
    {
     "name": "stdout",
     "output_type": "stream",
     "text": [
      "Shape of training feature matrix (37, 3)\n",
      "Shape of training label vector (37,)\n",
      "Shape of test feature matrix (13, 3)\n",
      "Shape of test label vector (13,)\n"
     ]
    }
   ],
   "source": [
    "print(\"Shape of training feature matrix\", x_train.shape)\n",
    "print(\"Shape of training label vector\", y_train.shape)\n",
    "\n",
    "print(\"Shape of test feature matrix\", x_test.shape)\n",
    "print(\"Shape of test label vector\", y_test.shape)"
   ]
  },
  {
   "cell_type": "markdown",
   "metadata": {},
   "source": [
    "Note that the **first dimension of feature matrix and label vecto matches** in training and test sets, which is how it should be!"
   ]
  },
  {
   "cell_type": "markdown",
   "metadata": {},
   "source": [
    "Let's visualize the created data"
   ]
  },
  {
   "cell_type": "code",
   "execution_count": 26,
   "metadata": {},
   "outputs": [
    {
     "data": {
      "image/png": "[encoded data removed]",
      "text/plain": [
       "<Figure size 432x432 with 1 Axes>"
      ]
     },
     "metadata": {},
     "output_type": "display_data"
    }
   ],
   "source": [
    "plt.figure(figsize=(6,6))\n",
    "sns.scatterplot(data=x_train, x= x_train[:,-2], y = x_train[:,-1], hue=y_train)\n",
    "plt.xlabel(\"$x_1$\")\n",
    "plt.ylabel(\"$x_2$\")\n",
    "plt.show()"
   ]
  },
  {
   "cell_type": "markdown",
   "metadata": {},
   "source": [
    "Now, we begin building the LSC classifier."
   ]
  },
  {
   "cell_type": "code",
   "execution_count": 27,
   "metadata": {},
   "outputs": [],
   "source": [
    "lsc = LeastSquareClassification()"
   ]
  },
  {
   "cell_type": "markdown",
   "metadata": {},
   "source": [
    "### Normal Equation\n",
    "\n",
    "Let's learn the model parameters with the normal equation method:"
   ]
  },
  {
   "cell_type": "code",
   "execution_count": 36,
   "metadata": {},
   "outputs": [
    {
     "name": "stdout",
     "output_type": "stream",
     "text": [
      "Weight vector:\n",
      " [[ 0.52765491  0.47234509]\n",
      " [-0.14953508  0.14953508]\n",
      " [-0.18434585  0.18434585]]\n"
     ]
    },
    {
     "data": {
      "image/png": "[encoded data removed]",
      "text/plain": [
       "<Figure size 432x432 with 1 Axes>"
      ]
     },
     "metadata": {},
     "output_type": "display_data"
    }
   ],
   "source": [
    "lsc.fit(x_train, y_train_trans, reg_rate=0)\n",
    "print(\"Weight vector:\\n\", lsc.w)\n",
    "visualize_model(x_train, y_train, lsc)"
   ]
  },
  {
   "cell_type": "markdown",
   "metadata": {},
   "source": [
    "To visualize the hyperplane (or decision boundary) separating the points:"
   ]
  },
  {
   "cell_type": "code",
   "execution_count": 44,
   "metadata": {},
   "outputs": [
    {
     "data": {
      "image/png": "[encoded data removed]",
      "text/plain": [
       "<Figure size 432x432 with 1 Axes>"
      ]
     },
     "metadata": {},
     "output_type": "display_data"
    }
   ],
   "source": [
    "##@title Visualizing the decision boundary\n",
    "\n",
    "# min,max of feature 1\n",
    "x1_min = np.min(x_train[:,1])\n",
    "x1_max = np.max(x_train[:,1])\n",
    "# min,max of feature 2\n",
    "x2_min = np.min(x_train[:,2])\n",
    "x2_max = np.max(x_train[:,2])\n",
    "\n",
    "plt.figure(figsize=(6,6))\n",
    "\n",
    "w = lsc.w\n",
    "\n",
    "x_arr = np.linspace(x1_min, x1_max, 100)\n",
    "y_arr = 1/(w[2,0]-w[2,1]) * ((w[1,1] - w[1,0])*x_arr + w[0,1]-w[0,0])\n",
    "# Refer to the explanation below to know why this is the equation of hyperplane\n",
    "\n",
    "plt.plot(x_arr,y_arr)\n",
    "plt.xlabel(\"$x_1$\")\n",
    "plt.ylabel(\"$x_2$\")\n",
    "plt.xlim(x1_min,x1_max)\n",
    "plt.ylim(x2_min,x2_max)\n",
    "plt.show()"
   ]
  },
  {
   "cell_type": "markdown",
   "metadata": {},
   "source": [
    "### Explanation for this plot\n",
    "\n",
    "Firstly, we can only visualize the separating hyperplane, because we only have $2$ features here.\n",
    "\n",
    "Now, we have the following model:\n",
    "\n",
    "The label matrix is obtained by matrix multiplication of feature matrix and weight matrix. After adding a dummy feature to the feature matrix, its shape becomes $(n,(m+1))$. It follows the following equation:\n",
    "$$Y_{n \\times k} = X_{n \\times (m+1)} W_{(m+1) \\times k}$$\n",
    "\n",
    "So, basically in linear regression for a single label, where we used to get a single weight vector (of $(m+1)$ dimensions) as output, here instead, like in the multi-label linear regression, we actually obtain $k$ weight vectors of $(m+1)$ dimensions each. \n",
    "\n",
    "The difference this time lies in the output. In multi-label linear regression, the $k$ labeled output that we get for each example is the required output. But here, we still need to extract a single label (to determine class) from these $k$ labels for a single example.\n",
    "\n",
    "In order to do that we employ the `argmax` strategy, basically returning the index of the highest label amongst the $k$ labels. This manages to create hyperplanes which separates the $m$ dimensional points into their relevant classes. Let's visualise this using the above $2$ dimensional example.\n",
    "\n",
    "So, lets say we obtain the weight matrix $W$, using the normal equation method.\n",
    "\n",
    "In the above example -\n",
    "`W = \n",
    " [[ 0.52765491  0.47234509]\n",
    " [-0.14953508  0.14953508]\n",
    " [-0.18434585  0.18434585]]`\n",
    "\n",
    "if `W = [w0, w1]`\n",
    "\n",
    "where `w0 = W[:,0]` and `w1 = W[:,1]` are $(m+1)$ dimensional vectors.\n",
    "\n",
    "Now, consider input: `X = [x1, x2]`\n",
    "After preprocessing: `X' = [1, x1, x2]`\n",
    "We get output matrix: `Y' = [y0, y1]`\n",
    "where `Y' = X' @ W`\n",
    "\n",
    "Now, as decided above -\n",
    "\n",
    "`\n",
    "if y0 > y1:\n",
    "    output label = 0\n",
    "else:\n",
    "    output label = 1\n",
    "`\n",
    "\n",
    "So, we get the separating hyperplane `H` which has the following equation:\n",
    "\n",
    "`\n",
    "if H>0:\n",
    "    output label = 0\n",
    "else:\n",
    "    output label = 1\n",
    "`\n",
    "\n",
    "So, equation of `H = 0` is just `y0 = y1` which translates to ---\n",
    "\n",
    "`y0 = X'@w0` and `y1 = X'@w1` => `X'@w0 = X'@w1` => `X'@(w0-w1) = 0`.\n",
    "\n",
    "Since, we are dealing with bunary classification, only one hyperplane is enough to classify. In general for $k$-labelled classification we would require many hyperplanes (in general $\\binom{k}{2}$), and we would obtain those many equations (each hyperplane corresponding to a pair of indices would tell us which index is more likely, and after $\\binom{k}{2}$ many comparisons, we can conclude which label is most likely with most weights, which is basically what argmax gives us)."
   ]
  },
  {
   "cell_type": "markdown",
   "metadata": {},
   "source": [
    "To plot learning curves:"
   ]
  },
  {
   "cell_type": "code",
   "execution_count": 77,
   "metadata": {},
   "outputs": [],
   "source": [
    "def plot_learning_curve(err_all):\n",
    "    plt.figure(figsize=(8,10))\n",
    "\n",
    "    err0 = [err[0][0] for err in err_all]\n",
    "    plt.subplot(2,1,1)\n",
    "    plt.plot(np.arange(len(err0)), err0, 'r-')\n",
    "    plt.xlabel(\"Iter #\")\n",
    "    plt.ylabel(\"$J(w)[0][0]$\")\n",
    "    plt.title(\"Loss w.r.t. the first label\")\n",
    "\n",
    "    err1 = [err[1][1] for err in err_all]\n",
    "    plt.subplot(2,1,2)\n",
    "    plt.plot(np.arange(len(err1)), err1, 'r-')\n",
    "    plt.xlabel(\"Iter #\")\n",
    "    plt.ylabel(\"$J(w)[1][1]$\")\n",
    "    plt.title(\"Loss w.r.t. the second label\")\n",
    "\n",
    "    plt.show()"
   ]
  },
  {
   "cell_type": "markdown",
   "metadata": {},
   "source": [
    "### SGD\n",
    "\n",
    "Let's train the model with SGD and examine the learning curve."
   ]
  },
  {
   "cell_type": "code",
   "execution_count": 78,
   "metadata": {},
   "outputs": [
    {
     "data": {
      "image/png": "[encoded data removed]",
      "text/plain": [
       "<Figure size 576x720 with 2 Axes>"
      ]
     },
     "metadata": {},
     "output_type": "display_data"
    }
   ],
   "source": [
    "lsc.sgd(x_train, y_train_trans, num_epochs=100, reg_rate=0)\n",
    "plot_learning_curve(lsc.err_all)"
   ]
  },
  {
   "cell_type": "markdown",
   "metadata": {},
   "source": [
    "Let's visualize the decision boundary:"
   ]
  },
  {
   "cell_type": "code",
   "execution_count": 79,
   "metadata": {},
   "outputs": [
    {
     "data": {
      "image/png": "[encoded data removed]",
      "text/plain": [
       "<Figure size 432x432 with 1 Axes>"
      ]
     },
     "metadata": {},
     "output_type": "display_data"
    }
   ],
   "source": [
    "visualize_model(x_train, y_train, lsc)"
   ]
  },
  {
   "cell_type": "markdown",
   "metadata": {},
   "source": [
    "### GD"
   ]
  },
  {
   "cell_type": "code",
   "execution_count": 80,
   "metadata": {},
   "outputs": [
    {
     "data": {
      "text/plain": [
       "array([[ 0.51186334,  0.45882746],\n",
       "       [-0.14133014,  0.15729416],\n",
       "       [-0.18999718,  0.17881844]])"
      ]
     },
     "execution_count": 80,
     "metadata": {},
     "output_type": "execute_result"
    }
   ],
   "source": [
    "lsc.gd(x_train, y_train_trans, num_epochs=100, reg_rate=0, lr=1e-3)"
   ]
  },
  {
   "cell_type": "code",
   "execution_count": 81,
   "metadata": {},
   "outputs": [
    {
     "data": {
      "image/png": "[encoded data removed]",
      "text/plain": [
       "<Figure size 576x720 with 2 Axes>"
      ]
     },
     "metadata": {},
     "output_type": "display_data"
    }
   ],
   "source": [
    "plot_learning_curve(lsc.err_all)"
   ]
  },
  {
   "cell_type": "code",
   "execution_count": 82,
   "metadata": {},
   "outputs": [
    {
     "data": {
      "image/png": "[encoded data removed]",
      "text/plain": [
       "<Figure size 432x432 with 1 Axes>"
      ]
     },
     "metadata": {},
     "output_type": "display_data"
    }
   ],
   "source": [
    "visualize_model(x_train, y_train, lsc)"
   ]
  },
  {
   "cell_type": "markdown",
   "metadata": {},
   "source": [
    "**NOTE :** We can repeat this evercise by implementing other iterative optimization schemes. This would include Mini Batch Gradient Descent and Stochastic Gradient Descent, and with correct hyperparameter, we can expect similar results."
   ]
  },
  {
   "cell_type": "markdown",
   "metadata": {},
   "source": [
    "### Evaluation Metrics\n",
    "\n",
    "We will use the test set, and evaluate the weights fit that we obtained via GD (gradient descent)."
   ]
  },
  {
   "cell_type": "code",
   "execution_count": 83,
   "metadata": {},
   "outputs": [
    {
     "name": "stdout",
     "output_type": "stream",
     "text": [
      "(13, 3)\n"
     ]
    }
   ],
   "source": [
    "print(x_test.shape)\n",
    "y_test_pred = lsc.predict(x_test)"
   ]
  },
  {
   "cell_type": "markdown",
   "metadata": {},
   "source": [
    "Fet the counts of true positive and negatives and false positives and negatives."
   ]
  },
  {
   "cell_type": "code",
   "execution_count": 88,
   "metadata": {},
   "outputs": [],
   "source": [
    "# True positive - True label +, Predicted label +\n",
    "tp = np.where((y_test == 1) & (y_test_pred == 1), 1, 0).sum()\n",
    "# True negative - True label -, Predicted label -\n",
    "tn = np.where((y_test == 0) & (y_test_pred == 0), 1, 0).sum()\n",
    "# False positive - True label -, Predicted label +\n",
    "fp = np.where((y_test == 0) & (y_test_pred == 1), 1, 0).sum()\n",
    "# False negative - True label +, Predicted label -\n",
    "fn = np.where((y_test == 1) & (y_test_pred == 0), 1, 0).sum()"
   ]
  },
  {
   "cell_type": "code",
   "execution_count": 89,
   "metadata": {},
   "outputs": [],
   "source": [
    "# precision = Correct positive prediction / Total positive prediction\n",
    "def precision(tp, fp):\n",
    "    if (tp+fp) == 0: return np.nan\n",
    "    return tp/(tp+fp)"
   ]
  },
  {
   "cell_type": "code",
   "execution_count": 90,
   "metadata": {},
   "outputs": [],
   "source": [
    "# recall = Correct positive prediction / Total positive labels\n",
    "def recall(tp, fn):\n",
    "    if (tp+fn) == 0: return np.nan\n",
    "    return tp/(tp + fn)"
   ]
  },
  {
   "cell_type": "code",
   "execution_count": 91,
   "metadata": {},
   "outputs": [],
   "source": [
    "# accuracy = Correct predictions / Total labels\n",
    "def accuracy(tp, fp, tn, fn):\n",
    "    return (tp+tn)/(tp+tn+fp+fn)"
   ]
  },
  {
   "cell_type": "code",
   "execution_count": 92,
   "metadata": {},
   "outputs": [],
   "source": [
    "# Harmonic mean of precision and recall\n",
    "def f1_score(pr, r):\n",
    "    return 2 * ((pr*r)/(pr+r))"
   ]
  },
  {
   "cell_type": "markdown",
   "metadata": {},
   "source": [
    "### Classification metrics"
   ]
  },
  {
   "cell_type": "code",
   "execution_count": 93,
   "metadata": {},
   "outputs": [
    {
     "name": "stdout",
     "output_type": "stream",
     "text": [
      "Precision:  0.75\n",
      "Recall:  1.0\n",
      "Accuracy:  0.8461538461538461\n",
      "F1 Score:  0.8571428571428571\n"
     ]
    }
   ],
   "source": [
    "pr = precision(tp, fp)\n",
    "r = recall(tp, fn)\n",
    "print(\"Precision: \", pr)\n",
    "print(\"Recall: \", r)\n",
    "print(\"Accuracy: \", accuracy(tp, fp, tn, fn))\n",
    "print(\"F1 Score: \", f1_score(pr, r))"
   ]
  },
  {
   "cell_type": "markdown",
   "metadata": {},
   "source": [
    "## Demo 2: Linearly separable binary classification with outliers\n",
    "\n",
    "Here, we will demonstrate that the least square classifier (LCS) is highky sensitive to outliers, aka few outliers will drastically change the decision boundary."
   ]
  },
  {
   "cell_type": "code",
   "execution_count": 94,
   "metadata": {},
   "outputs": [],
   "source": [
    "x_train, x_test, y_train, y_test, y_train_trans, y_test_trans = preprocess(add_outliers=True)"
   ]
  },
  {
   "cell_type": "markdown",
   "metadata": {},
   "source": [
    "We add $5$ outliers to one class and check what happens to the decision boundary."
   ]
  },
  {
   "cell_type": "code",
   "execution_count": 95,
   "metadata": {},
   "outputs": [
    {
     "name": "stdout",
     "output_type": "stream",
     "text": [
      "Shape of training feature matrix (41, 3)\n",
      "Shape of training label vector (41,)\n",
      "Shape of test feature matrix (14, 3)\n",
      "Shape of test label vector (14,)\n"
     ]
    }
   ],
   "source": [
    "print(\"Shape of training feature matrix\", x_train.shape)\n",
    "print(\"Shape of training label vector\", y_train.shape)\n",
    "\n",
    "print(\"Shape of test feature matrix\", x_test.shape)\n",
    "print(\"Shape of test label vector\", y_test.shape)"
   ]
  },
  {
   "cell_type": "markdown",
   "metadata": {},
   "source": [
    "Let's visualize the training set:"
   ]
  },
  {
   "cell_type": "code",
   "execution_count": 96,
   "metadata": {},
   "outputs": [
    {
     "data": {
      "image/png": "[encoded data removed]",
      "text/plain": [
       "<Figure size 432x432 with 1 Axes>"
      ]
     },
     "metadata": {},
     "output_type": "display_data"
    }
   ],
   "source": [
    "plt.figure(figsize=(6,6))\n",
    "sns.scatterplot(data=x_train, x=x_train[:,-2], y=x_train[:,-1], hue=y_train)\n",
    "plt.xlabel(\"$x_1$\")\n",
    "plt.ylabel(\"$x_2$\")\n",
    "plt.show()"
   ]
  },
  {
   "cell_type": "markdown",
   "metadata": {},
   "source": [
    "The next step is to learn the LSC model on this data and check if it is affected due to the presence of outliers."
   ]
  },
  {
   "cell_type": "code",
   "execution_count": 97,
   "metadata": {},
   "outputs": [
    {
     "data": {
      "image/png": "[encoded data removed]",
      "text/plain": [
       "<Figure size 432x432 with 1 Axes>"
      ]
     },
     "metadata": {},
     "output_type": "display_data"
    }
   ],
   "source": [
    "lsc_outlier = LeastSquareClassification()\n",
    "lsc_outlier.fit(x_train, y_train_trans, reg_rate=0)\n",
    "visualize_model(x_train, y_train, lsc_outlier)"
   ]
  },
  {
   "cell_type": "markdown",
   "metadata": {},
   "source": [
    "As we can see the decision boundaries have changed drastically from the non-outliers case, which shows that LSC is highly sensitive to the presence of outliers.\n",
    "\n",
    "We will get a similar decision boundary, even with the iterative optimization methods."
   ]
  },
  {
   "cell_type": "markdown",
   "metadata": {},
   "source": [
    "### Demo 3: Multi-Class set up"
   ]
  },
  {
   "cell_type": "markdown",
   "metadata": {},
   "source": [
    "In this set up, we will demonstrate multi-class set up with $3$ classes and $2$ features (to visualize the separation)."
   ]
  },
  {
   "cell_type": "code",
   "execution_count": 116,
   "metadata": {},
   "outputs": [],
   "source": [
    "x_train, x_test, y_train, y_test, y_train_trans, y_test_trans = preprocess(add_class=True)"
   ]
  },
  {
   "cell_type": "markdown",
   "metadata": {},
   "source": [
    "Let's visualize the training set:"
   ]
  },
  {
   "cell_type": "code",
   "execution_count": 117,
   "metadata": {},
   "outputs": [
    {
     "data": {
      "image/png": "[encoded data removed]",
      "text/plain": [
       "<Figure size 432x432 with 1 Axes>"
      ]
     },
     "metadata": {},
     "output_type": "display_data"
    }
   ],
   "source": [
    "plt.figure(figsize=(6,6))\n",
    "sns.scatterplot(data=x_train, x=x_train[:,-2], y=x_train[:,-1], hue=y_train)\n",
    "plt.xlabel(\"$x_1$\")\n",
    "plt.ylabel(\"$x_2$\")\n",
    "plt.show()"
   ]
  },
  {
   "cell_type": "markdown",
   "metadata": {},
   "source": [
    "Let's perform a sanity check to see if we indeed have $3$ classes:"
   ]
  },
  {
   "cell_type": "code",
   "execution_count": 118,
   "metadata": {},
   "outputs": [
    {
     "data": {
      "text/plain": [
       "array([0, 1, 2])"
      ]
     },
     "execution_count": 118,
     "metadata": {},
     "output_type": "execute_result"
    }
   ],
   "source": [
    "np.unique(y_train)"
   ]
  },
  {
   "cell_type": "markdown",
   "metadata": {},
   "source": [
    "Now, we train the LCS classifier and visualize the decision boundary."
   ]
  },
  {
   "cell_type": "code",
   "execution_count": 119,
   "metadata": {},
   "outputs": [
    {
     "data": {
      "image/png": "[encoded data removed]",
      "text/plain": [
       "<Figure size 432x432 with 1 Axes>"
      ]
     },
     "metadata": {},
     "output_type": "display_data"
    }
   ],
   "source": [
    "lsc_multi_class = LeastSquareClassification()\n",
    "lsc_multi_class.fit(x_train, y_train_trans, reg_rate=0)\n",
    "visualize_model(x_train, y_train, lsc_multi_class)"
   ]
  },
  {
   "cell_type": "code",
   "execution_count": 120,
   "metadata": {},
   "outputs": [
    {
     "data": {
      "text/plain": [
       "array([[ 0.44839119,  0.36188928,  0.18971953],\n",
       "       [-0.1119001 , -0.03029575,  0.14219586],\n",
       "       [-0.14210809,  0.03211811,  0.10998999]])"
      ]
     },
     "execution_count": 120,
     "metadata": {},
     "output_type": "execute_result"
    }
   ],
   "source": [
    "lsc_multi_class.w"
   ]
  },
  {
   "cell_type": "markdown",
   "metadata": {},
   "source": [
    "We can use `classification_report` methods from `sklearn.metrics` module to obtain evaluation metrics for multi-class classifcation in **one vs all** fashion. This can be implemented from scratch by first calculatinf multi-class confusion matrix followed by metric computations."
   ]
  },
  {
   "cell_type": "code",
   "execution_count": 121,
   "metadata": {},
   "outputs": [
    {
     "name": "stdout",
     "output_type": "stream",
     "text": [
      "              precision    recall  f1-score   support\n",
      "\n",
      "           0       0.89      0.89      0.89         9\n",
      "           1       0.00      0.00      0.00         5\n",
      "           2       0.56      1.00      0.71         5\n",
      "\n",
      "    accuracy                           0.68        19\n",
      "   macro avg       0.48      0.63      0.53        19\n",
      "weighted avg       0.57      0.68      0.61        19\n",
      "\n"
     ]
    }
   ],
   "source": [
    "from sklearn.metrics import classification_report\n",
    "\n",
    "y_test_pred = lsc_multi_class.predict(x_test)\n",
    "print(classification_report(y_test, y_test_pred, zero_division=0))"
   ]
  },
  {
   "cell_type": "markdown",
   "metadata": {},
   "source": [
    "## Demo 4: Polynomial LCS"
   ]
  },
  {
   "cell_type": "markdown",
   "metadata": {},
   "source": [
    "In this demonstration, we will generate points from two classes such that the decision boundary between them is circular. We will make use of `sklearn.datasets` module to generate the synthetic examples. Specifically, we will use `make_circles` method."
   ]
  },
  {
   "cell_type": "code",
   "execution_count": 123,
   "metadata": {},
   "outputs": [],
   "source": [
    "from sklearn.datasets import make_circles\n",
    "x,y = make_circles()"
   ]
  },
  {
   "cell_type": "markdown",
   "metadata": {},
   "source": [
    "We will first transform the feature set to obtain polynoial features of degree $2$ and then train least square classifcation on theh transformed feature set.\n",
    "\n",
    "> Note: We will generally not know with degree to try out for best possible results. So, we will have to use use various learning curves to actually tune the `degree`. But in this case we know for sure that `degree = 2` will suffice, because the decision boundary is circular in nature."
   ]
  },
  {
   "cell_type": "code",
   "execution_count": 124,
   "metadata": {},
   "outputs": [],
   "source": [
    "x_poly = polynomial_transform(x, degree=2)"
   ]
  },
  {
   "cell_type": "code",
   "execution_count": 125,
   "metadata": {},
   "outputs": [
    {
     "name": "stdout",
     "output_type": "stream",
     "text": [
      "Shape of feature matrix before transformation:  (100, 2)\n",
      "Shape of feature matrix after polynomial transformation of degree 2:  (100, 6)\n"
     ]
    }
   ],
   "source": [
    "print(\"Shape of feature matrix before transformation: \", x.shape)\n",
    "print(\"Shape of feature matrix after polynomial transformation of degree 2: \", x_poly.shape)"
   ]
  },
  {
   "cell_type": "code",
   "execution_count": 126,
   "metadata": {},
   "outputs": [
    {
     "data": {
      "text/plain": [
       "array([[ 0.74382119,  0.29449964],\n",
       "       [-0.2472136 ,  0.76084521],\n",
       "       [ 0.79369176,  0.10026659],\n",
       "       [ 0.50993919, -0.61641059],\n",
       "       [ 0.42577929,  0.90482705]])"
      ]
     },
     "execution_count": 126,
     "metadata": {},
     "output_type": "execute_result"
    }
   ],
   "source": [
    "x[:5]"
   ]
  },
  {
   "cell_type": "code",
   "execution_count": 127,
   "metadata": {},
   "outputs": [
    {
     "data": {
      "text/plain": [
       "array([[ 1.        ,  0.74382119,  0.29449964,  0.55326996,  0.21905507,\n",
       "         0.08673004],\n",
       "       [ 1.        , -0.2472136 ,  0.76084521,  0.06111456, -0.18809128,\n",
       "         0.57888544],\n",
       "       [ 1.        ,  0.79369176,  0.10026659,  0.62994661,  0.07958076,\n",
       "         0.01005339],\n",
       "       [ 1.        ,  0.50993919, -0.61641059,  0.26003798, -0.31433192,\n",
       "         0.37996202],\n",
       "       [ 1.        ,  0.42577929,  0.90482705,  0.18128801,  0.38525662,\n",
       "         0.81871199]])"
      ]
     },
     "execution_count": 127,
     "metadata": {},
     "output_type": "execute_result"
    }
   ],
   "source": [
    "x_poly[:5]"
   ]
  },
  {
   "cell_type": "code",
   "execution_count": 128,
   "metadata": {},
   "outputs": [],
   "source": [
    "from sklearn.model_selection import train_test_split\n",
    "x_train, x_test, y_train, y_test = train_test_split(x_poly, y)"
   ]
  },
  {
   "cell_type": "markdown",
   "metadata": {},
   "source": [
    "Let's encode the labels with `LabelTransformer`"
   ]
  },
  {
   "cell_type": "code",
   "execution_count": 129,
   "metadata": {},
   "outputs": [],
   "source": [
    "y_train_trans = LabelTransformer(2).encode(y_train)\n",
    "y_test_trans = LabelTransformer(2).encode(y_test)"
   ]
  },
  {
   "cell_type": "code",
   "execution_count": 130,
   "metadata": {},
   "outputs": [
    {
     "name": "stdout",
     "output_type": "stream",
     "text": [
      "(75, 2) (25, 2)\n"
     ]
    }
   ],
   "source": [
    "print(y_train_trans.shape, y_test_trans.shape)"
   ]
  },
  {
   "cell_type": "markdown",
   "metadata": {},
   "source": [
    "Let's visualize the training data:"
   ]
  },
  {
   "cell_type": "code",
   "execution_count": 131,
   "metadata": {},
   "outputs": [
    {
     "data": {
      "image/png": "[encoded data removed]",
      "text/plain": [
       "<Figure size 432x432 with 1 Axes>"
      ]
     },
     "metadata": {},
     "output_type": "display_data"
    }
   ],
   "source": [
    "plt.figure(figsize=(6,6))\n",
    "sns.scatterplot(data=x_train, x=x_train[:,1], y=x_train[:,2], hue=y_train)\n",
    "plt.xlabel(\"$x_1$\")\n",
    "plt.ylabel(\"$x_2$\")\n",
    "plt.show()"
   ]
  },
  {
   "cell_type": "markdown",
   "metadata": {},
   "source": [
    "Let's build the least square classification model and visualize the decision boundary."
   ]
  },
  {
   "cell_type": "code",
   "execution_count": 132,
   "metadata": {},
   "outputs": [
    {
     "data": {
      "image/png": "[encoded data removed]",
      "text/plain": [
       "<Figure size 432x432 with 1 Axes>"
      ]
     },
     "metadata": {},
     "output_type": "display_data"
    }
   ],
   "source": [
    "lsc_poly = LeastSquareClassification()\n",
    "lsc_poly.fit(x_train, y_train_trans, reg_rate=0)\n",
    "visualize_model(x_train, y_train, lsc_poly, degree=2)"
   ]
  },
  {
   "cell_type": "code",
   "execution_count": 133,
   "metadata": {},
   "outputs": [
    {
     "name": "stdout",
     "output_type": "stream",
     "text": [
      "              precision    recall  f1-score   support\n",
      "\n",
      "           0       1.00      1.00      1.00        13\n",
      "           1       1.00      1.00      1.00        12\n",
      "\n",
      "    accuracy                           1.00        25\n",
      "   macro avg       1.00      1.00      1.00        25\n",
      "weighted avg       1.00      1.00      1.00        25\n",
      "\n"
     ]
    }
   ],
   "source": [
    "from sklearn.metrics import classification_report\n",
    "\n",
    "y_test_pred = lsc_poly.predict(x_test)\n",
    "print(classification_report(y_test, y_test_pred, zero_division=0))"
   ]
  },
  {
   "cell_type": "markdown",
   "metadata": {},
   "source": [
    "# Summary\n",
    "\n",
    "- We implemented Least Square Classifier (LSC) from scratch.\n",
    "- We also implemented **label encoder** to transform the output labels into usable form (for both binary and multi-class) classification setup.\n",
    "- We have looked at four types of problems:\n",
    "    - first with binary linearly separable data without outliers\n",
    "    - second with binary separable data with outliers\n",
    "    - third with multiclass separable data (in our case we looked at separating into three classes)\n",
    "    - fourth with non linearly separable data\n",
    "- The first three problems (binary and multiclass) could be addressed with basic LSC, while the fourth required additional step of **polynomial transformation** before employing LSC.\n",
    "- We concluded from the second case that LSC is highly sensitive to the presence of outliers.\n",
    "- We also analyzed how the decision boundaries work, and visualized the same.\n"
   ]
  }
 ],
 "metadata": {
  "interpreter": {
   "hash": "c0b4aa3dbf26008a2f5bdb6f96959d9b12aab8bbe92ce96b5c8a3811effcf69d"
  },
  "kernelspec": {
   "display_name": "Python 3.8.8 64-bit ('skk-mlp-env': conda)",
   "language": "python",
   "name": "python3"
  },
  "language_info": {
   "codemirror_mode": {
    "name": "ipython",
    "version": 3
   },
   "file_extension": ".py",
   "mimetype": "text/x-python",
   "name": "python",
   "nbconvert_exporter": "python",
   "pygments_lexer": "ipython3",
   "version": "3.8.8"
  },
  "orig_nbformat": 4
 },
 "nbformat": 4,
 "nbformat_minor": 2
}
