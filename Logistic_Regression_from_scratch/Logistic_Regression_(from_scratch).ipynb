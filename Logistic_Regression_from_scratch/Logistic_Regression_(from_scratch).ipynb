{
 "cells": [
  {
   "cell_type": "markdown",
   "metadata": {},
   "source": [
    "# Logistic Regression Implementation\n",
    "\n",
    "- Logistic regression is the **workhorse** of machine learning.\n",
    "- Before deep learning era, logistic regression was the **default choice** for solving real life classification problems with hundreds and thousands of features.\n",
    "- It works in binary, multi-class and multi-label classification set ups."
   ]
  },
  {
   "cell_type": "markdown",
   "metadata": {},
   "source": [
    "# Objective\n",
    "\n",
    "- In this notebook, we will implement **binary logistic regression** from scratch and employ it for solving a couple of classification problems.\n",
    "- In one of the setting, we have linearly separable classes and the other one has non-linear decision boundary between classes.\n",
    "- The first problem can be addressed with basic logistic regression classifier, while the second will require additional step of **polynomial transformation** before using Logistic Regression.\n",
    "- These cases should give an idea as to how to use Logistic Regression to solve classification problems in these two settings."
   ]
  },
  {
   "cell_type": "markdown",
   "metadata": {},
   "source": [
    "Lets import some basic python libraries that are required for the implementation:\n",
    "- `numpy` for implementing components of Logistic Regression in the vectorized form.\n",
    "- `matplotlib` and `seaborn` for visualization.\n",
    "- `Math` and `Latex` libraries for proper rendering of mathematical expression in Markdown."
   ]
  },
  {
   "cell_type": "code",
   "execution_count": 1,
   "metadata": {},
   "outputs": [],
   "source": [
    "#@title [Import Libraries]\n",
    "# Imported for proper rendering of Latex in notebook\n",
    "from IPython.display import display, Math, Latex\n",
    "\n",
    "import numpy as np\n",
    "\n",
    "# Import for generating plots\n",
    "import matplotlib.pyplot as plt\n",
    "import seaborn as sns\n",
    "\n",
    "%matplotlib inline"
   ]
  },
  {
   "cell_type": "markdown",
   "metadata": {},
   "source": [
    "We also set a random seed in otder to reproduce the same results across diferrent runs in this notebook."
   ]
  },
  {
   "cell_type": "code",
   "execution_count": 2,
   "metadata": {},
   "outputs": [],
   "source": [
    "np.random.seed(1234)"
   ]
  },
  {
   "cell_type": "markdown",
   "metadata": {},
   "source": [
    "# Implementation\n",
    "\n",
    "In the first part, we will implement **individual components** of binary logistic regression one by one:"
   ]
  },
  {
   "cell_type": "markdown",
   "metadata": {},
   "source": [
    "## Model\n",
    "- Logistic regression classifier calculates the condition probability of a sample, represented with a feature vector $x$, belonging to a class $1$ given the input $x$ which is represented as : $Pr(y=1 | x)$.\n",
    "- It has 2 steps:\n",
    "    1. **linear combination of features** and\n",
    "    2. **sigmoid activation**\n",
    "\n",
    "\n",
    "- Let's apply these steps on a single example to calculate is probability of belonging to class 1:\n",
    "    1. The first step performs **linear combination of features** and obtain $z = w^T x$\n",
    "    2. The second step applies **sigmoid or logistic activation** on $z$ to obtain the probability:\n",
    "    $$Pr(y = 1| x) = \\text{sigmoid} (z) = \\frac{1}{1 + e^{-z}}$$"
   ]
  },
  {
   "cell_type": "markdown",
   "metadata": {},
   "source": [
    "1. We make the above steps efficient by vectorizing the calculations. This enales us to compute the probabilites for several examples all at once: $z_{n \\times 1} = X_{n \\times (m+1)} w_{(m+1) \\times 1}$.\n",
    "\n",
    "    Here:\n",
    "    - The feature matrix $X$ has shape $(n,m+1)$ (including the dummy feature)\n",
    "    - The weight vector $w$ has $m+1$ components and\n",
    "    - The resulting linear combination $z$ is a vector with $n$ components."
   ]
  },
  {
   "cell_type": "code",
   "execution_count": 3,
   "metadata": {},
   "outputs": [],
   "source": [
    "# Let's implement linear combination in vectorized form\n",
    "def linear_combination(X:np.ndarray, w:np.ndarray) -> np.ndarray:\n",
    "    '''Calculates linear combination of features\n",
    "\n",
    "    The linear combination is calculated with the following vectorized form:\n",
    "        z = Xw\n",
    "    \n",
    "    Args:\n",
    "        X: feature matrix with shape (n, m+1)\n",
    "        w: weight vector with shape (m+1,)\n",
    "    \n",
    "    Returns:\n",
    "        Linear combination of features with shape (n,)\n",
    "    '''\n",
    "    return X@w"
   ]
  },
  {
   "cell_type": "markdown",
   "metadata": {},
   "source": [
    "2. We vectorize **sigmoid or logistic activation** to obtain a vector of probability or activation: \n",
    "$$Pr(y_{n \\times 1}=1|X_{n \\times (m+1)}) = \\text{sigmoid} (z_{n \\times 1})$$\n",
    "\n",
    "- The sigmoid function is applied on the vector $z$ with $n$ components and the result is a **probability** or an **activation vector** with $n$ components."
   ]
  },
  {
   "cell_type": "code",
   "execution_count": 4,
   "metadata": {},
   "outputs": [],
   "source": [
    "# Let's implement sigmoid function in a vectorized form\n",
    "def sigmoid(z:np.ndarray) -> np.ndarray:\n",
    "    '''Calculates sigmoid of linear combination of features contained in z.\n",
    "    \n",
    "    Args:\n",
    "        z: list of floats\n",
    "    \n",
    "    Returns:\n",
    "        List of outputs of sigmoid function\n",
    "    '''\n",
    "    return 1/(1 + np.exp(-z))"
   ]
  },
  {
   "cell_type": "markdown",
   "metadata": {},
   "source": [
    "3. Lastly, we apply the vectorized prediction or inference funtion on activations to obtain a class label. Specifically, if **activation or probability > threshold**, then we label the sample with class $1$ or $0$."
   ]
  },
  {
   "cell_type": "code",
   "execution_count": 5,
   "metadata": {},
   "outputs": [],
   "source": [
    "def predict(X:np.ndarray, w:np.ndarray, threshold:float=0.5) -> np.ndarray:\n",
    "    '''Predict class label for samples.\n",
    "    \n",
    "    The samples are represented with a bunch of features and are presented in the form of a feature matrix X.\n",
    "    The class label is predicted as follows:\n",
    "    * if sigmoid(Xw) > threshold, the sample is labeled with 1.\n",
    "    * otherwise, the sample is labeled with 0.\n",
    "\n",
    "    Args:\n",
    "        X: feature vector of shape (n,m+1)\n",
    "        w: weight vector of shape (m+1,)\n",
    "        threshold: probability threshold for classification\n",
    "\n",
    "    Returns:\n",
    "        A list of class labels of shape (n,)\n",
    "    '''\n",
    "    return np.where(sigmoid(linear_combination(X,w)) > threshold, 1, 0)"
   ]
  },
  {
   "cell_type": "markdown",
   "metadata": {},
   "source": [
    "## Loss Function\n",
    "\n",
    "Next we implement Binary Cross Entropy (BCE) loss with regularization. The base loss without regularization can be obtained by setting the regularization rate $\\lambda$ to $0$.\n",
    "\n",
    "The generic form of loss is as follows:\n",
    "$$\\text{BCE} = \\text{BCE on training examples} + \\lambda * \\text{regularization penalty}$$\n",
    "\n",
    "Note that the **regularization rate** $\\lambda$ **controls** the **amount of regularization penalty** to be used.\n",
    "By setting $\\lambda = 0$, we get **binary cross entropy loss** on the training.\n",
    "\n",
    "First, we derive the BCE loss on training. We can define the loss the following way:\n",
    "- Firstly, lets assume the model - $Pr(y=1|x) = h_w(x)$ and $Pr(y=0|x) = (1 - h_w(x))$.\n",
    "- We can write this in the combined form as - $Pr(y|x; w) = (h_w(x))^y (1 - h_w(x))^{(1-y)}$.\n",
    "- We can now, compute the maximum likelooh of the weight vector in the following way:\n",
    "    - $L(w) = Pr(y_{n \\times 1} | X_{n \\times (m+1)}; w) = \\prod_{i=1}^{n} Pr(y^{(i)}|x^{(i)}; w) = \\prod_{i=1}^{n} (h_w(x^{(i)}))^{y^{(i)}} (1 - h_w(x^{(i)}))^{(1-y^{(i)})}$.\n",
    "    - Taking `log` on both sides as maximizing the log likelihood is easier: $\\log (L(w)) = \\log (\\prod_{i=1}^{n} (h_w(x^{(i)}))^{y^{(i)}} (1 - h_w(x^{(i)}))^{(1-y^{(i)})}) $, which gives us the log likelihood: $l(w) = \\sum_{i = 1}^{n} y^{(i)} \\log (h_w (x^{(i)})) + (1 - y^{(i)}) \\log (1 - h_w(x^{(i)}))$.\n",
    "    - We want to find the parameter $w$ such the that $l(w)$ is maximized.\n",
    "    - Equivalently we can minimize the **negative log likelihood** (NLL) to maintain the uniformity with other algorithm. This can be considered a loss fucntion, also known as the **log likelihood loss** or **binary cross entropy loss**.\n",
    "- So, $J(w) = - l(w)$.\n",
    "\n",
    "We use $L_1$ and $L_2$ regularization in logistic regression.\n",
    "\n",
    "With $L_1$ regularization, the loss function is calculated as follows:\n",
    "$$J(w) = - (\\sum_{i = 1}^{n} y^{(i)} \\log (\\text{sigmoid} (w^T x^{(i)})) + (1 - y^{(i)}) \\log (1 - \\text{sigmoid} (w^T x^{(i)}))) + \\lambda ||w||_1 $$\n",
    "\n",
    "With $L_2$ regularization, the loss function is calculates as follows:\n",
    "$$J(w) = - (\\sum_{i = 1}^{n} y^{(i)} \\log (\\text{sigmoid} (w^T x^{(i)})) + (1 - y^{(i)}) \\log (1 - \\text{sigmoid} (w^T x^{(i)}))) + \\lambda ||w||_2^2 $$\n",
    "\n",
    "In order to write the loss in vectorized form, we first calculate the term inside summation in vectorized form:\n",
    "$$e = y \\log (\\text{sigmoid} (Xw)) + (1-y) \\log (1 - \\text{sigmoid} (Xw))$$\n",
    "\n",
    "With this, the loss becomes:\n",
    "$$J(w) = -1^T_{1 \\times n} e_{n \\times 1}$$\n",
    "\n",
    "Adding $L_1$ penalty, we get:\n",
    "$$J(w) = -1^T e + \\lambda 1^T |w|$$\n",
    "\n",
    "Adding $L_2$ penalty, we get:\n",
    "$$J(w) = -1^T e + \\lambda w^T w$$\n",
    "\n",
    "The `loss` function implements vectorized loss calculation with actual label vector, activation vector, and $L_1$ and $L_2$ regularization rates.\n",
    "> Set the regularization rate that is not needed to $0$.\n",
    "> If we set the regularization rates suc that there sum is 1, we get **elastic net regularization**. In other words, for elastic net classifier, we have `l1_reg_rate + l2_reg_rate = 1`.\n",
    "\n",
    "The loss function returns a scalar quantity that denotes the loss on all training examples for a particular choice of weight vectors."
   ]
  },
  {
   "cell_type": "code",
   "execution_count": 6,
   "metadata": {},
   "outputs": [],
   "source": [
    "def loss(y, sigmoid_vector, weight_vector, l1_reg_rate, l2_reg_rate):\n",
    "    return (-1 * (np.sum(y*np.log(sigmoid_vector) + (1-y) * np.log(1 - sigmoid_vector))) \n",
    "    + l1_reg_rate * np.sum(np.abs(weight_vector)) \n",
    "    + l2_reg_rate * np.dot(np.transpose(weight_vector), weight_vector)\n",
    "    )"
   ]
  },
  {
   "cell_type": "markdown",
   "metadata": {},
   "source": [
    "In this notebook, we will only be focussing on $L_2$ regularization."
   ]
  },
  {
   "cell_type": "markdown",
   "metadata": {},
   "source": [
    "## Optimization\n",
    "\n",
    "Next, we will implement optimization. For that we wil make use of iterative optimization techniques like gradient descent (GD), mini-batch gradient descent (MBGD) or stochastic gradient descent (SGD).\n",
    "\n",
    "We will demonstrate Gradient Descent GD in this notebook, for which we adopt the GD implementation Linear Regression.\n",
    "\n",
    "We need to modify the gradient update rule to make it suitable for logistic regression loss:\n",
    "- **STEP 1:** Calculate the **gradient of loss function** and\n",
    "- **STEP 2:** Scale the gradient with learning rate and use it for **updating the weight vector**.\n",
    "\n",
    "### Gradient of loss function\n",
    "\n",
    "The gradient of the loss function can be calculated (in vectorized form):\n",
    "$$\\frac{\\partial J(w)}{\\partial w} = X^T (\\text{sigmoid} (Xw) - y) + \\lambda w$$\n",
    "where\n",
    "- $\\text{sigmoid} (Xw)$ is the sigmoid activation vector of samples and\n",
    "- $y$ is the label vector\n",
    "- $w$ is the weight vector\n",
    "- $\\lambda$ is the regularization rate.\n",
    "\n",
    "It is implemented with `calculate_gradient` function that takes in feature matrix $X$, label vector $y$, weight vector $w$ and regularization rate $\\lambda$ as arguments and efficiently calculates the gradient loss function w.r.t. the weight vector in the vectorized form."
   ]
  },
  {
   "cell_type": "code",
   "execution_count": 7,
   "metadata": {},
   "outputs": [],
   "source": [
    "def calculate_gradient(X:np.ndarray, y:np.ndarray, w:np.ndarray, reg_rate:float=0) -> np.ndarray:\n",
    "    '''Calculates gradients of loss function w.r.t. weight vector on the training set.\n",
    "    \n",
    "    The gradient is calculated with the following vectorized operation:\n",
    "        np.transpose(X) @ (sigmoid(Xw) - y) + λ w\n",
    "    \n",
    "    Args:\n",
    "        X: Feature matrix for training data.\n",
    "        y: Label vector for training data.\n",
    "        reg_rate: Regularization rate.\n",
    "    \n",
    "    Returns:\n",
    "        A vector of gradients.\n",
    "    '''\n",
    "    return np.transpose(X) @ (sigmoid(linear_combination(X,w)) - y) + reg_rate * w"
   ]
  },
  {
   "cell_type": "markdown",
   "metadata": {},
   "source": [
    "As part of the implementation, we store the loss and weight vevtors in each GD step as a class member variable.\n",
    "- The step-wise loss is used for plotting a learning curve in order to ensure that the model is trained as expected.\n",
    "- The step-wise weight vector is useful in studying the **trajectory of gradient descent** in the loss landscape.\n",
    "\n",
    "We do the same for SGD, MBGD implementations as well."
   ]
  },
  {
   "cell_type": "markdown",
   "metadata": {},
   "source": [
    "## Logistic Regression Class implementation\n",
    "\n",
    "We combine these different components into a single python class with name `LogisticRegression`.\n",
    "\n",
    "It has the following class member variables:\n",
    "1. Weight Vector\n",
    "2. Loss and Weight vectors in each GD, MBGD, SGD step."
   ]
  },
  {
   "cell_type": "code",
   "execution_count": 8,
   "metadata": {},
   "outputs": [],
   "source": [
    "class LogisticRegression(object):\n",
    "    '''Logistic Regression Model\n",
    "        y = sigmoid(X@w)\n",
    "    '''\n",
    "    def __init__(self):\n",
    "        self.t0 = 20\n",
    "        self.t1 = 1000\n",
    "\n",
    "    def set_weight_vector(self, w):\n",
    "        self.w = w\n",
    "    \n",
    "    def linear_combination(self, X:np.ndarray) -> np.ndarray:\n",
    "        '''Calculates linear combination of features\n",
    "\n",
    "        The linear combination is calculated with the following vectorized form:\n",
    "            z = Xw\n",
    "        \n",
    "        Args:\n",
    "            X: feature matrix with shape (n, m+1)\n",
    "        \n",
    "        Returns:\n",
    "            Linear combination of features with shape (n,)\n",
    "        '''\n",
    "        return X @ self.w\n",
    "    \n",
    "    def sigmoid(self, z:np.ndarray) -> np.ndarray:\n",
    "        '''Calculates sigmoid of linear combination of features contained in z.\n",
    "        \n",
    "        Args:\n",
    "            z: list of floats\n",
    "        \n",
    "        Returns:\n",
    "            List of outputs of sigmoid function\n",
    "        '''\n",
    "        return 1/(1 + np.exp(-z))\n",
    "    \n",
    "    def activation(self, X:np.ndarray) -> np.ndarray:\n",
    "        '''Calculates sigmoid activation for logistic regression.\n",
    "        \n",
    "        The sigmoid activation is calculated with the following vectorized form:\n",
    "            act = sigmoid(Xw)\n",
    "        \n",
    "        Args:\n",
    "            X: feature matrix with shape (n, m+1)\n",
    "        \n",
    "        Returns:\n",
    "            activation vector with shape(n,)\n",
    "        '''\n",
    "        return self.sigmoid(self.linear_combination(X))\n",
    "\n",
    "    def predict(self, X:np.ndarray, threshold:float=0.5) -> np.ndarray:\n",
    "        '''Predict class label for samples.\n",
    "        \n",
    "        The samples are represented with a bunch of features and are presented in the form of a feature matrix X.\n",
    "        The class label is predicted as follows:\n",
    "        * if sigmoid(Xw) > threshold, the sample is labeled with 1.\n",
    "        * otherwise, the sample is labeled with 0.\n",
    "\n",
    "        Args:\n",
    "            X: feature vector of shape (n,m+1)\n",
    "            threshold: float, optional\n",
    "                probability threshold for binary classification (default is 0.5)\n",
    "\n",
    "        Returns:\n",
    "            A list of class labels of shape (n,)\n",
    "        '''\n",
    "        return (self.activation(X) > threshold).astype(int)\n",
    "\n",
    "    def loss(self, X:np.ndarray, y:np.ndarray, reg_rate:float=0) -> float:\n",
    "        '''Calculates Binary Cross Entropy Loss on the training set.\n",
    "        \n",
    "        Args:\n",
    "            X: Feature matrix for training data.\n",
    "            y: Label vector for training data.\n",
    "            reg_rate: Regularization rate.\n",
    "        \n",
    "        Returns:\n",
    "            L2 loss\n",
    "        '''\n",
    "        predicted_prob = self.activation(X)\n",
    "        return (\n",
    "            -1 * (np.sum(y * np.log(predicted_prob) + (1-y) * np.log(1 - predicted_prob)))\n",
    "            + reg_rate * np.dot(np.transpose(self.w), self.w)\n",
    "        )\n",
    "\n",
    "    def calculate_gradient(self, X:np.ndarray, y:np.ndarray, reg_rate:float=0) -> np.ndarray:\n",
    "        '''Calculate gradients of loss function w.r.t. weight vector on training set.\n",
    "\n",
    "        Args:\n",
    "            X: Feature matrix for given inputs\n",
    "            y: Output label vector as known from the dataset (one-hot form)\n",
    "            reg_rate: Rate of regularization\n",
    "        \n",
    "        Returns:\n",
    "            A vector of gradients\n",
    "        '''\n",
    "        return np.transpose(X) @ (self.activation(X) - y) + reg_rate * self.w\n",
    "\n",
    "    def update_weights(self, grad:np.ndarray, lr:float) -> np.ndarray:\n",
    "        '''Update the weights based on the gradient of the loss function.\n",
    "\n",
    "        Weight updates are carried out with the following formula:\n",
    "            w_new := w_old - lr * grad\n",
    "        \n",
    "        Args:\n",
    "            grad: Gradient of loss w.r.t w\n",
    "            lr: Learning rate\n",
    "        \n",
    "        Returns:\n",
    "            Updated weight vector\n",
    "        '''\n",
    "        return self.w - lr * grad\n",
    "\n",
    "    # Dynamic learning rate\n",
    "    def learning_schedule(self, t):\n",
    "        return self.t0/(t + self.t1)\n",
    "\n",
    "    # Gradient Descent\n",
    "    def gd(self, X:np.ndarray, y:np.ndarray, num_epochs:int, lr:float, reg_rate:float=0) -> np.ndarray:\n",
    "        '''Estimates parameters of logistic regression model through gradient descent.\n",
    "        \n",
    "        Args:\n",
    "            X: Feature matrix for training data\n",
    "            y: Output label for training\n",
    "            num_epochs: Number of training steps\n",
    "            lr: Learning rate\n",
    "            reg_rate: Rate of regularization\n",
    "        \n",
    "        Returns:\n",
    "            Weight vector: Final weight vector\n",
    "        '''\n",
    "        self.w = np.zeros(X.shape[1])\n",
    "        self.w_all = []\n",
    "        self.err_all = []\n",
    "        \n",
    "        for i in np.arange(0, num_epochs):\n",
    "            dJdW = self.calculate_gradient(X,y,reg_rate)\n",
    "            self.w_all.append(self.w)\n",
    "            self.err_all.append(self.loss(X,y,reg_rate))\n",
    "            self.w = self.update_weights(dJdW, lr)\n",
    "        \n",
    "        return self.w\n",
    "\n",
    "    # MBGD - Mini-Batch Gradient Descent\n",
    "    def mbgd(self, X:np.ndarray, y:np.ndarray, num_epochs:int, batch_size:int, reg_rate:float=0) -> np.ndarray:\n",
    "        '''Estimates parameters of logistic regression model through mini-batch gradient descent.\n",
    "        \n",
    "        Args:\n",
    "            X: Feature matrix for training data\n",
    "            y: Output label for training\n",
    "            num_epochs: No. of epochs (no. of times MBGD is done over the whole training set)\n",
    "            batch_size: Size of each mini-batch, after which we update the weights\n",
    "            reg_rate: Rate of regularization\n",
    "        \n",
    "        Returns:\n",
    "            Weight vector: Final weight vector\n",
    "        '''\n",
    "        self.w = np.zeros(X.shape[1])\n",
    "        self.w_all = []\n",
    "        self.err_all = []\n",
    "        mini_batch_id = 0\n",
    "\n",
    "        for epoch in range(num_epochs):\n",
    "            shuffled_indices = np.random.permutation(X.shape[0])\n",
    "            X_shuffled = X[shuffled_indices]\n",
    "            y_shuffled = y[shuffled_indices]\n",
    "\n",
    "            for i in range(0, X.shape[0], batch_size):\n",
    "                mini_batch_id += 1\n",
    "                \n",
    "                # ith mini-batch\n",
    "                Xi = X_shuffled[i:i + batch_size]\n",
    "                yi = y_shuffled[i:i + batch_size]\n",
    "\n",
    "                lr = self.learning_schedule(mini_batch_id)\n",
    "                gradients = (2/ batch_size) * self.calculate_gradient(Xi, yi, reg_rate)\n",
    "\n",
    "                self.w_all.append(self.w)\n",
    "                self.err_all.append(self.loss(Xi, yi, reg_rate))\n",
    "                self.w = self.update_weights(gradients, lr)\n",
    "        \n",
    "        return self.w\n",
    "    \n",
    "    # SGD - Stochastic Gradient Descent\n",
    "    def sgd(self, X:np.ndarray, y:np.ndarray, num_epochs:int, reg_rate:float=0) -> np.ndarray:\n",
    "        '''Estimates parameters of Logisticregression model through stochastic gradient descent.\n",
    "        \n",
    "        Args:\n",
    "            X: Feature matrix for training data\n",
    "            y: Output label for training data vector\n",
    "            num_epochs: No. of epochs (no. of times MBGD is done over the whole training set)\n",
    "            reg_rate: Rate of regularization\n",
    "        \n",
    "        Returns:\n",
    "            Weight vector: Final weight vector\n",
    "        '''\n",
    "        self.w = np.zeros(X.shape[1])\n",
    "        self.w_all = []\n",
    "        self.err_all = []\n",
    "\n",
    "        for epoch in range(num_epochs):\n",
    "            for i in range(X.shape[0]):\n",
    "                random_index = np.random.randint(X.shape[0])\n",
    "                Xi = X[random_index:random_index+1]\n",
    "                yi = y[random_index:random_index+1]\n",
    "\n",
    "                lr = self.learning_schedule(epoch * X.shape[0] + i)\n",
    "                gradients = 2 * self.calculate_gradient(Xi, yi, reg_rate)\n",
    "\n",
    "                self.w_all.append(self.w)\n",
    "                self.err_all.append(self.loss(Xi,yi,reg_rate))\n",
    "                self.w = self.update_weights(gradients, lr)\n",
    "        \n",
    "        return self.w\n"
   ]
  },
  {
   "cell_type": "markdown",
   "metadata": {},
   "source": [
    "# Demo 1: Logistic Regression for linearly separable binary classification"
   ]
  },
  {
   "cell_type": "markdown",
   "metadata": {},
   "source": [
    "In the first experiment we will use logistic regression to learn decision boundary between two linearly separable classes.\n",
    "\n",
    "**STEP 1:** As the first step, we will generate 2 linearly separable classes with 50 samples each. Each example is represented with two features."
   ]
  },
  {
   "cell_type": "code",
   "execution_count": 9,
   "metadata": {},
   "outputs": [],
   "source": [
    "#@title [Toy dataset creation]\n",
    "def create_toy_data(add_outliers=False, add_class=False):\n",
    "    '''\n",
    "    Here we are generating 50 examples with 2 features each.\n",
    "    \n",
    "    If add_outliers=True, we add 5 more outlier examples.\n",
    "    \n",
    "    If add_class=True, we add 25 exaamples more of the third class type, making the total no. of samples to 75.\n",
    "    '''\n",
    "    x0 = np.random.normal(size=50).reshape(-1,2) - 1\n",
    "    x1 = np.random.normal(size=50).reshape(-1,2) + 1\n",
    "    if add_outliers:\n",
    "        x_1 = np.random.normal(size=10).reshape(-1,2) + np.array([5., 10.])\n",
    "        return np.concatenate([x0, x1, x_1]), np.concatenate([np.zeros(25), np.ones(30)]).astype(np.int)\n",
    "    if add_class:\n",
    "        x2 = np.random.normal(size=50).reshape(-1,2) + 2\n",
    "        return np.concatenate([x0, x1, x2]), np.concatenate([np.zeros(25), np.ones(25), 2 + np.zeros(25)]).astype(np.int)\n",
    "    return np.concatenate([x0, x1]), np.concatenate([np.zeros(25), np.ones(25)]).astype(np.int)"
   ]
  },
  {
   "cell_type": "code",
   "execution_count": 10,
   "metadata": {},
   "outputs": [
    {
     "name": "stdout",
     "output_type": "stream",
     "text": [
      "(50, 2) (50,)\n"
     ]
    }
   ],
   "source": [
    "feature_matrix, label_vector = create_toy_data()\n",
    "print(feature_matrix.shape, label_vector.shape)"
   ]
  },
  {
   "cell_type": "markdown",
   "metadata": {},
   "source": [
    "**STEP 2:** Add a dummy feature corresponding to the bias. We make use of polynomial feature transformation code that we have been using in the previous notebooks.\n",
    "\n",
    "> The dummy feature can be added by performing polynomial transformation of degree 1."
   ]
  },
  {
   "cell_type": "code",
   "execution_count": 11,
   "metadata": {},
   "outputs": [],
   "source": [
    "#@title [Polynomial Transformation]\n",
    "import itertools,functools\n",
    "\n",
    "def get_combinations(x, degree):\n",
    "    '''\n",
    "    Return successive r-length combinations of elements in the iterable allowing individual elements to have successive repeats.\n",
    "\n",
    "    combinations_with_replacement('ABC', 2) --> AA AB AC BB BC CC\"\n",
    "    '''\n",
    "    return itertools.combinations_with_replacement(x,degree)\n",
    "\n",
    "def compute_new_feature(items):\n",
    "    '''\n",
    "    reduce(function, sequence[, initial]) -> value\n",
    "\n",
    "    Apply a function of two arguments cumulatively to the items of a sequence, from left to right, so as to reduce the sequence to a single value.\n",
    "\n",
    "    For example: \n",
    "    reduce(lambda x, y: x+y, [1, 2, 3, 4, 5]) calculates ((((1+2)+3)+4)+5). \n",
    "    \n",
    "    If initial is present, it is placed before the items of the sequence in the calculation, and serves as a default when the sequence is empty.\n",
    "\n",
    "    reduce(lambda x,y: x*y, [1, 2, 3, 4, 5]) calculates ((((1*2)*3)*4)*5).\n",
    "    '''\n",
    "    return functools.reduce(lambda x, y: x*y, items)\n",
    "\n",
    "def polynomial_transform(x, degree, logging=False):\n",
    "    '''\n",
    "    Steps for generating polynomial transformations of degree M ---\n",
    "        \n",
    "        1. Generate combination of input features of lengths = {0,1,...,M}.\n",
    "        \n",
    "        2. Perform multiplication operation between features to obtain the required new features.\n",
    "    \n",
    "    logging: Bool - True to print all the combinations and their products.\n",
    "    '''\n",
    "    \n",
    "    # If 'x' is 1-dim, it is first converted to a feature matrix.\n",
    "    # [1,2,3,4] to [[1],[2],[3],[4]]\n",
    "    if x.ndim == 1:\n",
    "        x = x[:,None]\n",
    "    \n",
    "    # Transpose of feature matrix\n",
    "    x_t = x.transpose()\n",
    "\n",
    "    # Populates 1's as first feature for each example, the degree 0 feature.\n",
    "    features  = [np.ones(len(x))]\n",
    "\n",
    "    if logging:\n",
    "        print(\"Input: \",x)\n",
    "    \n",
    "    # for each degree d\n",
    "    for d in range(1, degree+1):\n",
    "        # generate combinations of degree d\n",
    "        for x in get_combinations(x_t, d):\n",
    "            # take product of no.s in x, and combine them into a single feature\n",
    "            features.append(compute_new_feature(x))\n",
    "            if logging:\n",
    "                print(x,compute_new_feature(x), sep = ': ')\n",
    "    \n",
    "    if logging:\n",
    "        print(\"Output: \", np.asarray(features).transpose())\n",
    "    \n",
    "    return np.asarray(features).transpose()"
   ]
  },
  {
   "cell_type": "code",
   "execution_count": 12,
   "metadata": {},
   "outputs": [],
   "source": [
    "feature_matrix_bias = polynomial_transform(feature_matrix, degree=1)"
   ]
  },
  {
   "cell_type": "markdown",
   "metadata": {},
   "source": [
    "**STEP 3:** Separate data into training and test sets."
   ]
  },
  {
   "cell_type": "code",
   "execution_count": 13,
   "metadata": {},
   "outputs": [],
   "source": [
    "from sklearn.model_selection import train_test_split\n",
    "X_train, X_test, y_train, y_test = train_test_split(feature_matrix_bias, label_vector)"
   ]
  },
  {
   "cell_type": "code",
   "execution_count": 14,
   "metadata": {},
   "outputs": [
    {
     "name": "stdout",
     "output_type": "stream",
     "text": [
      "(37, 3) (37,)\n",
      "(13, 3) (13,)\n"
     ]
    }
   ],
   "source": [
    "print(X_train.shape, y_train.shape)\n",
    "print(X_test.shape, y_test.shape)"
   ]
  },
  {
   "cell_type": "markdown",
   "metadata": {},
   "source": [
    "**STEP 4:** Let's visualize the training data to get an idea about its distribution.\n",
    "\n",
    "Note that, it won't be possible to visualize real world datasets as there are many features. In this case, we have only two features in our dataset and hence we can visualize it in a 2D graph."
   ]
  },
  {
   "cell_type": "code",
   "execution_count": 15,
   "metadata": {},
   "outputs": [
    {
     "data": {
      "image/png": "[encoded data removed]",
      "text/plain": [
       "<Figure size 576x576 with 1 Axes>"
      ]
     },
     "metadata": {
      "needs_background": "light"
     },
     "output_type": "display_data"
    }
   ],
   "source": [
    "f = plt.figure(figsize=(8,8))\n",
    "sns.scatterplot(data=X_train, x=X_train[:,1], y=X_train[:,2], hue=y_train)\n",
    "plt.xlabel(\"$x_1$\")\n",
    "plt.ylabel(\"$x_2$\")\n",
    "plt.show()"
   ]
  },
  {
   "cell_type": "markdown",
   "metadata": {},
   "source": [
    "Note that the two classes are linearly separable with most points with in the boundary of their classes.\n",
    "\n",
    "**STEP 5:** We are all set to train a logistic regression model onto this problem.\n",
    "1. First we instantiate a logistic regression object.\n",
    "2. We train the model on the training data via GD, MBGD, SGD and analyse the learning curve and model."
   ]
  },
  {
   "cell_type": "markdown",
   "metadata": {},
   "source": [
    "## Some helper functions"
   ]
  },
  {
   "cell_type": "markdown",
   "metadata": {},
   "source": [
    "### Helper function for plotting learning curves"
   ]
  },
  {
   "cell_type": "code",
   "execution_count": 16,
   "metadata": {},
   "outputs": [],
   "source": [
    "#@title [Learning Curve]\n",
    "def plot_learning_curve(err):\n",
    "    plt.figure()\n",
    "    plt.plot(np.arange(len(err)), err, 'r-')\n",
    "    plt.xlabel(\"Iteration no.\")\n",
    "    plt.ylabel(\"$J(w)$\")\n",
    "    plt.title(\"Learning curve\")\n",
    "    plt.show()"
   ]
  },
  {
   "cell_type": "markdown",
   "metadata": {},
   "source": [
    "### Helper function for model visualization"
   ]
  },
  {
   "cell_type": "code",
   "execution_count": 17,
   "metadata": {},
   "outputs": [],
   "source": [
    "#@title Model Visualization\n",
    "def visualize_model(X_train, labels, lsc_obj, degree=1):\n",
    "\n",
    "    f = plt.figure(figsize=(6,6))\n",
    "\n",
    "    # compute xlim, ylim\n",
    "    # First feature already has the dummy variable attached (because of polnomial transform)\n",
    "    # min,max of feature 1\n",
    "    x1_min = np.min(X_train[:,1])\n",
    "    x1_max = np.max(X_train[:,1])\n",
    "    # min,max of feature 2\n",
    "    x2_min = np.min(X_train[:,2])\n",
    "    x2_max = np.max(X_train[:,2])\n",
    "\n",
    "    x1_test, x2_test = np.meshgrid(np.linspace(x1_min,x1_max, 100), np.linspace(x2_min,x2_max, 100))\n",
    "    x_test = np.array([x1_test, x2_test]).reshape(2,-1).T\n",
    "    x_test_poly = polynomial_transform(x_test, degree=degree)\n",
    "    y_test_pred = lsc_obj.predict(x_test_poly)\n",
    "\n",
    "    sns.scatterplot(data=X_train, x=X_train[:,1], y=X_train[:,2], hue=labels)\n",
    "    plt.xlabel(\"$x_1$\")\n",
    "    plt.ylabel(\"$x_2$\")\n",
    "    plt.xlim(x1_min,x1_max)\n",
    "    plt.ylim(x2_min,x2_max)\n",
    "    \n",
    "    plt.contourf(x1_test, x2_test, y_test_pred.reshape(100,100), alpha=0.5, levels=np.linspace(0,1,3))\n",
    "\n",
    "    plt.show()"
   ]
  },
  {
   "cell_type": "markdown",
   "metadata": {},
   "source": [
    "## Fitting different Models"
   ]
  },
  {
   "cell_type": "markdown",
   "metadata": {},
   "source": [
    "### Gradient Descent"
   ]
  },
  {
   "cell_type": "code",
   "execution_count": 18,
   "metadata": {},
   "outputs": [
    {
     "data": {
      "text/plain": [
       "array([-0.14559758,  4.43289743,  1.94514132])"
      ]
     },
     "execution_count": 18,
     "metadata": {},
     "output_type": "execute_result"
    }
   ],
   "source": [
    "log_reg_gd = LogisticRegression()\n",
    "log_reg_gd.gd(X_train, y_train, num_epochs=1000, lr=1e-2, reg_rate=0)"
   ]
  },
  {
   "cell_type": "markdown",
   "metadata": {},
   "source": [
    "### Learning Curve"
   ]
  },
  {
   "cell_type": "markdown",
   "metadata": {},
   "source": [
    "Now, we examine the learning curve to make sure the model is able to learn with the current training set up. In cases, where the model is learning, the loss will reduce from one iteration to the next in gradient descent in a smooth manner."
   ]
  },
  {
   "cell_type": "markdown",
   "metadata": {},
   "source": [
    "We use the loss values stored during each step of Gradient Descent for plotting the learning curve.\n",
    "\n",
    "Here is our learning curve:\n",
    "- the iteration number is on the x-axis\n",
    "- the loss is on the y-axis."
   ]
  },
  {
   "cell_type": "code",
   "execution_count": 19,
   "metadata": {},
   "outputs": [
    {
     "data": {
      "image/png": "[encoded data removed]",
      "text/plain": [
       "<Figure size 432x288 with 1 Axes>"
      ]
     },
     "metadata": {
      "needs_background": "light"
     },
     "output_type": "display_data"
    }
   ],
   "source": [
    "plot_learning_curve(log_reg_gd.err_all)"
   ]
  },
  {
   "cell_type": "markdown",
   "metadata": {},
   "source": [
    "Note that the loss drops smoothly as we proceed with the GD.\n",
    "> This is an ideal learning curve for the model training task.\n",
    "\n",
    "Let's look at the final weight vector learnt by the model."
   ]
  },
  {
   "cell_type": "code",
   "execution_count": 20,
   "metadata": {},
   "outputs": [
    {
     "name": "stdout",
     "output_type": "stream",
     "text": [
      "Weight vector:  [-0.14559758  4.43289743  1.94514132]\n"
     ]
    }
   ],
   "source": [
    "print(\"Weight vector: \", log_reg_gd.w)"
   ]
  },
  {
   "cell_type": "markdown",
   "metadata": {},
   "source": [
    "### Model Visualization"
   ]
  },
  {
   "cell_type": "code",
   "execution_count": 21,
   "metadata": {},
   "outputs": [
    {
     "data": {
      "image/png": "[encoded data removed]",
      "text/plain": [
       "<Figure size 432x432 with 1 Axes>"
      ]
     },
     "metadata": {
      "needs_background": "light"
     },
     "output_type": "display_data"
    }
   ],
   "source": [
    "visualize_model(X_train, y_train, log_reg_gd)"
   ]
  },
  {
   "cell_type": "markdown",
   "metadata": {},
   "source": [
    "As we can see above, our model has learnt a reasonable decision boundary that is able to separate most points from two classes.\n",
    "\n",
    "We repeat the same for MBGD and SGD as well."
   ]
  },
  {
   "cell_type": "markdown",
   "metadata": {},
   "source": [
    "### Mini Batch Gradient Descent"
   ]
  },
  {
   "cell_type": "code",
   "execution_count": 22,
   "metadata": {},
   "outputs": [
    {
     "data": {
      "text/plain": [
       "array([-0.06465622,  1.65861172,  1.03777787])"
      ]
     },
     "execution_count": 22,
     "metadata": {},
     "output_type": "execute_result"
    }
   ],
   "source": [
    "log_reg_mbgd = LogisticRegression()\n",
    "log_reg_mbgd.mbgd(X_train, y_train, num_epochs=100, batch_size=10, reg_rate=0)"
   ]
  },
  {
   "cell_type": "code",
   "execution_count": 23,
   "metadata": {},
   "outputs": [
    {
     "data": {
      "image/png": "[encoded data removed]",
      "text/plain": [
       "<Figure size 432x288 with 1 Axes>"
      ]
     },
     "metadata": {
      "needs_background": "light"
     },
     "output_type": "display_data"
    },
    {
     "name": "stdout",
     "output_type": "stream",
     "text": [
      "Weight vector:  [-0.06465622  1.65861172  1.03777787]\n"
     ]
    }
   ],
   "source": [
    "plot_learning_curve(log_reg_mbgd.err_all)\n",
    "print(\"Weight vector: \", log_reg_mbgd.w)"
   ]
  },
  {
   "cell_type": "code",
   "execution_count": 24,
   "metadata": {},
   "outputs": [
    {
     "data": {
      "image/png": "[encoded data removed]",
      "text/plain": [
       "<Figure size 432x432 with 1 Axes>"
      ]
     },
     "metadata": {
      "needs_background": "light"
     },
     "output_type": "display_data"
    }
   ],
   "source": [
    "visualize_model(X_train, y_train, log_reg_mbgd)"
   ]
  },
  {
   "cell_type": "markdown",
   "metadata": {},
   "source": [
    "### Stochastic Gradient Descent"
   ]
  },
  {
   "cell_type": "code",
   "execution_count": 25,
   "metadata": {},
   "outputs": [
    {
     "data": {
      "text/plain": [
       "array([-0.02644315,  3.00706384,  1.4517139 ])"
      ]
     },
     "execution_count": 25,
     "metadata": {},
     "output_type": "execute_result"
    }
   ],
   "source": [
    "log_reg_sgd = LogisticRegression()\n",
    "log_reg_sgd.sgd(X_train, y_train, num_epochs=100, reg_rate=0)"
   ]
  },
  {
   "cell_type": "code",
   "execution_count": 26,
   "metadata": {},
   "outputs": [
    {
     "data": {
      "image/png": "[encoded data removed]",
      "text/plain": [
       "<Figure size 432x288 with 1 Axes>"
      ]
     },
     "metadata": {
      "needs_background": "light"
     },
     "output_type": "display_data"
    },
    {
     "name": "stdout",
     "output_type": "stream",
     "text": [
      "Weight vector:  [-0.02644315  3.00706384  1.4517139 ]\n"
     ]
    }
   ],
   "source": [
    "plot_learning_curve(log_reg_sgd.err_all)\n",
    "print(\"Weight vector: \", log_reg_sgd.w)"
   ]
  },
  {
   "cell_type": "code",
   "execution_count": 27,
   "metadata": {},
   "outputs": [
    {
     "data": {
      "image/png": "[encoded data removed]",
      "text/plain": [
       "<Figure size 432x432 with 1 Axes>"
      ]
     },
     "metadata": {
      "needs_background": "light"
     },
     "output_type": "display_data"
    }
   ],
   "source": [
    "visualize_model(X_train, y_train, log_reg_mbgd)"
   ]
  },
  {
   "cell_type": "code",
   "execution_count": 28,
   "metadata": {},
   "outputs": [
    {
     "data": {
      "image/png": "[encoded data removed]",
      "text/plain": [
       "<Figure size 432x432 with 1 Axes>"
      ]
     },
     "metadata": {
      "needs_background": "light"
     },
     "output_type": "display_data"
    }
   ],
   "source": [
    "visualize_model(X_train, y_train, log_reg_sgd)"
   ]
  },
  {
   "cell_type": "markdown",
   "metadata": {},
   "source": [
    "**STEP 6:** Model Evaluation\n",
    "\n",
    "The next step is to use the model for making predictions on the new inputs. Let's predict labels on the test set - that was set aside for evaluating model performance."
   ]
  },
  {
   "cell_type": "markdown",
   "metadata": {},
   "source": [
    "### Gradient Descent"
   ]
  },
  {
   "cell_type": "code",
   "execution_count": 29,
   "metadata": {},
   "outputs": [],
   "source": [
    "y_test_hat = log_reg_gd.predict(X_test)"
   ]
  },
  {
   "cell_type": "markdown",
   "metadata": {},
   "source": [
    "We compare these predictions with the actual labels and generate a classification report that includes several metrics like confusion matrix, precision, recall, F1-score, accuracy etc."
   ]
  },
  {
   "cell_type": "code",
   "execution_count": 30,
   "metadata": {},
   "outputs": [
    {
     "name": "stdout",
     "output_type": "stream",
     "text": [
      "              precision    recall  f1-score   support\n",
      "\n",
      "           0       1.00      0.67      0.80         6\n",
      "           1       0.78      1.00      0.88         7\n",
      "\n",
      "    accuracy                           0.85        13\n",
      "   macro avg       0.89      0.83      0.84        13\n",
      "weighted avg       0.88      0.85      0.84        13\n",
      "\n"
     ]
    }
   ],
   "source": [
    "from sklearn.metrics import classification_report\n",
    "print(classification_report(y_test, y_test_hat, zero_division=0))"
   ]
  },
  {
   "cell_type": "markdown",
   "metadata": {},
   "source": [
    "Note, our gradient descent classifier has `precision` of `0.78`, `recall` of `1.00` and `f1-score` of `0.88` on class label `1`."
   ]
  },
  {
   "cell_type": "markdown",
   "metadata": {},
   "source": [
    "### Mini Batch Gradient Descent"
   ]
  },
  {
   "cell_type": "code",
   "execution_count": 31,
   "metadata": {},
   "outputs": [
    {
     "name": "stdout",
     "output_type": "stream",
     "text": [
      "              precision    recall  f1-score   support\n",
      "\n",
      "           0       1.00      0.67      0.80         6\n",
      "           1       0.78      1.00      0.88         7\n",
      "\n",
      "    accuracy                           0.85        13\n",
      "   macro avg       0.89      0.83      0.84        13\n",
      "weighted avg       0.88      0.85      0.84        13\n",
      "\n"
     ]
    }
   ],
   "source": [
    "from sklearn.metrics import classification_report\n",
    "y_test_hat = log_reg_mbgd.predict(X_test)\n",
    "print(classification_report(y_test, y_test_hat, zero_division=0))"
   ]
  },
  {
   "cell_type": "markdown",
   "metadata": {},
   "source": [
    "### Stochastic Gradient Descent"
   ]
  },
  {
   "cell_type": "code",
   "execution_count": 32,
   "metadata": {},
   "outputs": [
    {
     "name": "stdout",
     "output_type": "stream",
     "text": [
      "              precision    recall  f1-score   support\n",
      "\n",
      "           0       1.00      0.67      0.80         6\n",
      "           1       0.78      1.00      0.88         7\n",
      "\n",
      "    accuracy                           0.85        13\n",
      "   macro avg       0.89      0.83      0.84        13\n",
      "weighted avg       0.88      0.85      0.84        13\n",
      "\n"
     ]
    }
   ],
   "source": [
    "from sklearn.metrics import classification_report\n",
    "y_test_hat = log_reg_sgd.predict(X_test)\n",
    "print(classification_report(y_test, y_test_hat, zero_division=0))"
   ]
  },
  {
   "cell_type": "markdown",
   "metadata": {},
   "source": [
    "# Demo 2: Polynomial Logistic Regression for non-linear binary classification"
   ]
  },
  {
   "cell_type": "markdown",
   "metadata": {},
   "source": [
    "In this second demonstation, we will use logistic regression to fit a circular decision boundary between two classes.\n",
    "\n",
    "**STEP 1:** For this demonstration, we will generate samples from two classes such that theu are separated by a circular decision boundary. We make use of the `make_circles` method from `sklearn.datasets` module for that. "
   ]
  },
  {
   "cell_type": "code",
   "execution_count": 33,
   "metadata": {},
   "outputs": [],
   "source": [
    "from sklearn.datasets import make_circles\n",
    "feature_matrix, label_vector = make_circles()"
   ]
  },
  {
   "cell_type": "code",
   "execution_count": 34,
   "metadata": {},
   "outputs": [
    {
     "name": "stdout",
     "output_type": "stream",
     "text": [
      "(100, 2) (100,)\n"
     ]
    }
   ],
   "source": [
    "print(feature_matrix.shape, label_vector.shape)"
   ]
  },
  {
   "cell_type": "markdown",
   "metadata": {},
   "source": [
    "**STEP 2:** As the next step, we will make use of the polynomial feature transformation to transform the features of polynominals to the desired degree.\n",
    "\n",
    "**Note:**\n",
    "- Generally we would not have an idea about an appropriate degree for polynomial transformation in a reak world problem setting.\n",
    "- For, that we perform hyperparameter search to determine the right degree for polynomial transformation. (Using `GridSearchCV`, `RandomizedSearchCV` or other methods)\n",
    "- Another option is to use model diagnostic tools- in case the model is underfitting, we can make the model fit better by increasing the degree of the polynomial. On the other hand, if the model is overfitting, we can either reduce the degree of the polynomial or increase the regularization penalty."
   ]
  },
  {
   "cell_type": "markdown",
   "metadata": {},
   "source": [
    "We use `polynomial_transform` with `degree=2` for transforming input features into the second order polynomial features."
   ]
  },
  {
   "cell_type": "code",
   "execution_count": 35,
   "metadata": {},
   "outputs": [],
   "source": [
    "features_poly_matrix = polynomial_transform(feature_matrix, degree=2)"
   ]
  },
  {
   "cell_type": "markdown",
   "metadata": {},
   "source": [
    "This results in more features. Let's look at the shape of the feature matrix before and after transformation."
   ]
  },
  {
   "cell_type": "code",
   "execution_count": 36,
   "metadata": {},
   "outputs": [
    {
     "name": "stdout",
     "output_type": "stream",
     "text": [
      "(100, 2) (100, 6)\n"
     ]
    }
   ],
   "source": [
    "print(feature_matrix.shape, features_poly_matrix.shape)"
   ]
  },
  {
   "cell_type": "markdown",
   "metadata": {},
   "source": [
    "The four additional features are as follows:\n",
    "1. Dummy feature corresponding to bias. It is set to 1.\n",
    "2. Squares of the original features - that adds two more features: $x_1^2, x_2^2$.\n",
    "3. One more feature corresponding to interaction between two features: $x_1 x_2$."
   ]
  },
  {
   "cell_type": "code",
   "execution_count": 37,
   "metadata": {},
   "outputs": [
    {
     "data": {
      "text/plain": [
       "array([[ 0.63742399, -0.77051324],\n",
       "       [ 0.5831749 ,  0.54763768],\n",
       "       [-0.92977649, -0.36812455],\n",
       "       [ 0.63742399,  0.77051324],\n",
       "       [-0.70104534,  0.38540294]])"
      ]
     },
     "execution_count": 37,
     "metadata": {},
     "output_type": "execute_result"
    }
   ],
   "source": [
    "feature_matrix[:5]"
   ]
  },
  {
   "cell_type": "code",
   "execution_count": 38,
   "metadata": {},
   "outputs": [
    {
     "data": {
      "text/plain": [
       "array([[ 1.        ,  0.63742399, -0.77051324,  0.40630934, -0.49114363,\n",
       "         0.59369066],\n",
       "       [ 1.        ,  0.5831749 ,  0.54763768,  0.34009297,  0.31936855,\n",
       "         0.29990703],\n",
       "       [ 1.        , -0.92977649, -0.36812455,  0.86448431,  0.34227355,\n",
       "         0.13551569],\n",
       "       [ 1.        ,  0.63742399,  0.77051324,  0.40630934,  0.49114363,\n",
       "         0.59369066],\n",
       "       [ 1.        , -0.70104534,  0.38540294,  0.49146457, -0.27018494,\n",
       "         0.14853543]])"
      ]
     },
     "execution_count": 38,
     "metadata": {},
     "output_type": "execute_result"
    }
   ],
   "source": [
    "features_poly_matrix[:5]"
   ]
  },
  {
   "cell_type": "markdown",
   "metadata": {},
   "source": [
    "Note that the second and third feature are the original input features, whereas the first, fourth, fifth and sixth features are newly added features during transformation."
   ]
  },
  {
   "cell_type": "markdown",
   "metadata": {},
   "source": [
    "**STEP 3:** Split the training set consisting of transformed feature matrix label vector into train and test sets.\n",
    "\n",
    "For this- we will make use of `train_test_split` util from `sklearn.model_selection`."
   ]
  },
  {
   "cell_type": "code",
   "execution_count": 39,
   "metadata": {},
   "outputs": [],
   "source": [
    "from sklearn.model_selection import train_test_split\n",
    "X_train, X_test, y_train, y_test = train_test_split(features_poly_matrix, label_vector)"
   ]
  },
  {
   "cell_type": "code",
   "execution_count": 40,
   "metadata": {},
   "outputs": [
    {
     "name": "stdout",
     "output_type": "stream",
     "text": [
      "(75, 6) (25, 6)\n"
     ]
    }
   ],
   "source": [
    "print(X_train.shape, X_test.shape)"
   ]
  },
  {
   "cell_type": "markdown",
   "metadata": {},
   "source": [
    "**STEP 4:** We plot the training data in the original featre space and check its distribution."
   ]
  },
  {
   "cell_type": "code",
   "execution_count": 41,
   "metadata": {},
   "outputs": [
    {
     "data": {
      "image/png": "[encoded data removed]",
      "text/plain": [
       "<Figure size 576x576 with 1 Axes>"
      ]
     },
     "metadata": {
      "needs_background": "light"
     },
     "output_type": "display_data"
    }
   ],
   "source": [
    "f = plt.figure(figsize=(8,8))\n",
    "sns.scatterplot(data=X_train, x=X_train[:,1], y=X_train[:,2], hue=y_train)\n",
    "plt.xlabel(\"$x_1$\")\n",
    "plt.ylabel(\"$x_2$\")\n",
    "plt.show()"
   ]
  },
  {
   "cell_type": "markdown",
   "metadata": {},
   "source": [
    "**STEP 5:** Train logistic regression model on the training set and visulize the model and the learning curves.\n",
    "\n",
    "We perform this step individually for GD, MBGD and SGD."
   ]
  },
  {
   "cell_type": "markdown",
   "metadata": {},
   "source": [
    "### Gradient Descent"
   ]
  },
  {
   "cell_type": "code",
   "execution_count": 44,
   "metadata": {},
   "outputs": [
    {
     "data": {
      "text/plain": [
       "array([ 2.02615834e+01, -6.37927885e-02, -1.81908023e-02, -2.46394308e+01,\n",
       "       -3.53230237e-01, -2.49474060e+01])"
      ]
     },
     "execution_count": 44,
     "metadata": {},
     "output_type": "execute_result"
    }
   ],
   "source": [
    "log_reg_gd = LogisticRegression()\n",
    "log_reg_gd.gd(X_train, y_train, num_epochs=10000, lr=1e-2, reg_rate=0)"
   ]
  },
  {
   "cell_type": "markdown",
   "metadata": {},
   "source": [
    "We make use of the loss values stores during each step of GD for plotting the learning curve.\n",
    "\n",
    "Here is our learning curve:\n",
    "- x-axis shows the no. of iterations.\n",
    "- y-axis shows the variation of loss."
   ]
  },
  {
   "cell_type": "code",
   "execution_count": 45,
   "metadata": {},
   "outputs": [
    {
     "data": {
      "image/png": "[encoded data removed]",
      "text/plain": [
       "<Figure size 432x288 with 1 Axes>"
      ]
     },
     "metadata": {
      "needs_background": "light"
     },
     "output_type": "display_data"
    }
   ],
   "source": [
    "plot_learning_curve(log_reg_gd.err_all)"
   ]
  },
  {
   "cell_type": "markdown",
   "metadata": {},
   "source": [
    "We will visualize the decision boundary learnt by the logistic regression classifier."
   ]
  },
  {
   "cell_type": "code",
   "execution_count": 46,
   "metadata": {},
   "outputs": [
    {
     "data": {
      "image/png": "[encoded data removed]",
      "text/plain": [
       "<Figure size 432x432 with 1 Axes>"
      ]
     },
     "metadata": {
      "needs_background": "light"
     },
     "output_type": "display_data"
    }
   ],
   "source": [
    "visualize_model(X_train, y_train, log_reg_gd, degree=2)"
   ]
  },
  {
   "cell_type": "markdown",
   "metadata": {},
   "source": [
    "As we can see, the model has learnt the circular decision boundary.\n",
    "\n",
    "Note: We are able to fit such a decision boundary due to the polynomial transformation of degree 2."
   ]
  },
  {
   "cell_type": "markdown",
   "metadata": {},
   "source": [
    "We repeat the same steps for MBGD and SGD as well."
   ]
  },
  {
   "cell_type": "markdown",
   "metadata": {},
   "source": [
    "### Mini Batch Gradient Descent"
   ]
  },
  {
   "cell_type": "code",
   "execution_count": 67,
   "metadata": {},
   "outputs": [
    {
     "data": {
      "text/plain": [
       "array([ 2.56062114, -0.09955667, -0.02780291, -3.01176449, -0.52340628,\n",
       "       -3.48851049])"
      ]
     },
     "execution_count": 67,
     "metadata": {},
     "output_type": "execute_result"
    }
   ],
   "source": [
    "log_reg_mbgd = LogisticRegression()\n",
    "log_reg_mbgd.mbgd(X_train, y_train, num_epochs=2500, batch_size=10, reg_rate=0)"
   ]
  },
  {
   "cell_type": "code",
   "execution_count": 68,
   "metadata": {},
   "outputs": [
    {
     "data": {
      "image/png": "[encoded data removed]",
      "text/plain": [
       "<Figure size 432x288 with 1 Axes>"
      ]
     },
     "metadata": {
      "needs_background": "light"
     },
     "output_type": "display_data"
    }
   ],
   "source": [
    "plot_learning_curve(log_reg_mbgd.err_all)"
   ]
  },
  {
   "cell_type": "code",
   "execution_count": 69,
   "metadata": {},
   "outputs": [
    {
     "data": {
      "image/png": "[encoded data removed]",
      "text/plain": [
       "<Figure size 432x432 with 1 Axes>"
      ]
     },
     "metadata": {
      "needs_background": "light"
     },
     "output_type": "display_data"
    }
   ],
   "source": [
    "visualize_model(X_train, y_train, log_reg_mbgd, degree=2)"
   ]
  },
  {
   "cell_type": "markdown",
   "metadata": {},
   "source": [
    "### Stochastic Gradient Descent"
   ]
  },
  {
   "cell_type": "code",
   "execution_count": 65,
   "metadata": {},
   "outputs": [
    {
     "data": {
      "text/plain": [
       "array([ 3.15951863, -0.08747402, -0.05103097, -3.75449642, -0.52648139,\n",
       "       -4.20206671])"
      ]
     },
     "execution_count": 65,
     "metadata": {},
     "output_type": "execute_result"
    }
   ],
   "source": [
    "log_reg_sgd = LogisticRegression()\n",
    "log_reg_sgd.sgd(X_train, y_train, num_epochs=500, reg_rate=0)"
   ]
  },
  {
   "cell_type": "code",
   "execution_count": 66,
   "metadata": {},
   "outputs": [
    {
     "data": {
      "image/png": "[encoded data removed]",
      "text/plain": [
       "<Figure size 432x288 with 1 Axes>"
      ]
     },
     "metadata": {
      "needs_background": "light"
     },
     "output_type": "display_data"
    }
   ],
   "source": [
    "plot_learning_curve(log_reg_sgd.err_all)"
   ]
  },
  {
   "cell_type": "code",
   "execution_count": 70,
   "metadata": {},
   "outputs": [
    {
     "data": {
      "image/png": "[encoded data removed]",
      "text/plain": [
       "<Figure size 432x432 with 1 Axes>"
      ]
     },
     "metadata": {
      "needs_background": "light"
     },
     "output_type": "display_data"
    }
   ],
   "source": [
    "visualize_model(X_train, y_train, log_reg_sgd, degree=2)"
   ]
  },
  {
   "cell_type": "markdown",
   "metadata": {},
   "source": [
    "**STEP 6:** Model Evaluation\n",
    "\n",
    "The next step is to use the model for making predictions on new inputs.\n",
    "\n",
    "Let's predict labels on the test set - that we set aside for evaluating model performance."
   ]
  },
  {
   "cell_type": "markdown",
   "metadata": {},
   "source": [
    "### Gradient Descent"
   ]
  },
  {
   "cell_type": "code",
   "execution_count": 71,
   "metadata": {},
   "outputs": [],
   "source": [
    "y_test_hat = log_reg_gd.predict(X_test)"
   ]
  },
  {
   "cell_type": "markdown",
   "metadata": {},
   "source": [
    "We compare these predictions with the actual labels and generate a classification report that includes several metrics like confusion matric, precision, recall, F1-score, accuracy etc."
   ]
  },
  {
   "cell_type": "code",
   "execution_count": 72,
   "metadata": {},
   "outputs": [
    {
     "name": "stdout",
     "output_type": "stream",
     "text": [
      "              precision    recall  f1-score   support\n",
      "\n",
      "           0       1.00      1.00      1.00        12\n",
      "           1       1.00      1.00      1.00        13\n",
      "\n",
      "    accuracy                           1.00        25\n",
      "   macro avg       1.00      1.00      1.00        25\n",
      "weighted avg       1.00      1.00      1.00        25\n",
      "\n"
     ]
    }
   ],
   "source": [
    "from sklearn.metrics import classification_report\n",
    "print(classification_report(y_test, y_test_hat, zero_division=0))"
   ]
  },
  {
   "cell_type": "markdown",
   "metadata": {},
   "source": [
    "**Note:** We have a perfect classifir here. It was a toy-setting- however such a thing may not be possible on the real world dataset."
   ]
  },
  {
   "cell_type": "markdown",
   "metadata": {},
   "source": [
    "### Mini Batch Gradient Descent"
   ]
  },
  {
   "cell_type": "code",
   "execution_count": 73,
   "metadata": {},
   "outputs": [
    {
     "name": "stdout",
     "output_type": "stream",
     "text": [
      "              precision    recall  f1-score   support\n",
      "\n",
      "           0       1.00      1.00      1.00        12\n",
      "           1       1.00      1.00      1.00        13\n",
      "\n",
      "    accuracy                           1.00        25\n",
      "   macro avg       1.00      1.00      1.00        25\n",
      "weighted avg       1.00      1.00      1.00        25\n",
      "\n"
     ]
    }
   ],
   "source": [
    "from sklearn.metrics import classification_report\n",
    "y_test_hat = log_reg_mbgd.predict(X_test)\n",
    "print(classification_report(y_test, y_test_hat, zero_division=0))"
   ]
  },
  {
   "cell_type": "markdown",
   "metadata": {},
   "source": [
    "### Stochastic Gradient Descent"
   ]
  },
  {
   "cell_type": "code",
   "execution_count": 74,
   "metadata": {},
   "outputs": [
    {
     "name": "stdout",
     "output_type": "stream",
     "text": [
      "              precision    recall  f1-score   support\n",
      "\n",
      "           0       1.00      1.00      1.00        12\n",
      "           1       1.00      1.00      1.00        13\n",
      "\n",
      "    accuracy                           1.00        25\n",
      "   macro avg       1.00      1.00      1.00        25\n",
      "weighted avg       1.00      1.00      1.00        25\n",
      "\n"
     ]
    }
   ],
   "source": [
    "from sklearn.metrics import classification_report\n",
    "y_test_hat = log_reg_sgd.predict(X_test)\n",
    "print(classification_report(y_test, y_test_hat, zero_division=0))"
   ]
  },
  {
   "cell_type": "markdown",
   "metadata": {},
   "source": [
    "# Logistic Regression Loss Surface Visualization"
   ]
  },
  {
   "cell_type": "markdown",
   "metadata": {},
   "source": [
    "Here is the step by step process to generate this visualization:\n",
    "1. Generate a grid of weights- $w_1$ and $w_2$.\n",
    "2. For each point on the grid, calculate cross entropy loss on the fixed training set.\n",
    "3. Plot contour of weights and loss.\n",
    "\n",
    "The basic idea here is to calculate loss for a given weight vector on a fixed estimator and training set."
   ]
  },
  {
   "cell_type": "code",
   "execution_count": 75,
   "metadata": {},
   "outputs": [],
   "source": [
    "from matplotlib import cm # Colormaps\n",
    "from matplotlib.colors import colorConverter, ListedColormap"
   ]
  },
  {
   "cell_type": "markdown",
   "metadata": {},
   "source": [
    "We nee to instatiate a logistic regression estimator for cross entropy calculation."
   ]
  },
  {
   "cell_type": "code",
   "execution_count": 76,
   "metadata": {},
   "outputs": [],
   "source": [
    "log_reg_vis = LogisticRegression()"
   ]
  },
  {
   "cell_type": "markdown",
   "metadata": {},
   "source": [
    "We also need training data for calculation of loss for a given weight vector."
   ]
  },
  {
   "cell_type": "code",
   "execution_count": 80,
   "metadata": {},
   "outputs": [],
   "source": [
    "feature_matrix, label_vector = create_toy_data()\n",
    "feature_matrix_bias = polynomial_transform(feature_matrix, degree=1)\n",
    "X_train, X_test, y_train, y_test = train_test_split(feature_matrix_bias, label_vector, test_size=0.2)"
   ]
  },
  {
   "cell_type": "code",
   "execution_count": 81,
   "metadata": {},
   "outputs": [
    {
     "name": "stdout",
     "output_type": "stream",
     "text": [
      "(40, 3)\n"
     ]
    }
   ],
   "source": [
    "print(X_train.shape)"
   ]
  },
  {
   "cell_type": "markdown",
   "metadata": {},
   "source": [
    "Next we generate a grid of 25 weights."
   ]
  },
  {
   "cell_type": "code",
   "execution_count": 84,
   "metadata": {},
   "outputs": [],
   "source": [
    "point_count = 25"
   ]
  },
  {
   "cell_type": "code",
   "execution_count": 85,
   "metadata": {},
   "outputs": [],
   "source": [
    "w1 = np.linspace(-5, 5, num=point_count)\n",
    "w2 = np.linspace(-5, 5, num=point_count)\n",
    "w1_list, w2_list = np.meshgrid(w1,w2) # generate the grid"
   ]
  },
  {
   "cell_type": "markdown",
   "metadata": {},
   "source": [
    "Calculate the loss at each point on the grid."
   ]
  },
  {
   "cell_type": "code",
   "execution_count": 86,
   "metadata": {},
   "outputs": [],
   "source": [
    "loss = np.zeros((point_count, point_count)) # Initialize the loss matrix\n",
    "\n",
    "# Fill the loss matrix for each combination of weights\n",
    "for i in range(point_count):\n",
    "    for j in range(point_count):\n",
    "        weight_vector = np.array([0, w1_list[i,j], w2_list[i,j]])\n",
    "        log_reg_vis.set_weight_vector(weight_vector)\n",
    "        loss[i,j] = log_reg_vis.loss(X_train, y_train, reg_rate=0)"
   ]
  },
  {
   "cell_type": "markdown",
   "metadata": {},
   "source": [
    "Now, we plot the loss surface."
   ]
  },
  {
   "cell_type": "code",
   "execution_count": 89,
   "metadata": {},
   "outputs": [
    {
     "data": {
      "image/png": "[encoded data removed]",
      "text/plain": [
       "<Figure size 576x432 with 2 Axes>"
      ]
     },
     "metadata": {
      "needs_background": "light"
     },
     "output_type": "display_data"
    }
   ],
   "source": [
    "# Plot the loss function surface\n",
    "\n",
    "plt.figure(figsize=(8,6))\n",
    "plt.contourf(w1_list, w2_list, loss, 20, cmap=cm.viridis)\n",
    "cbar = plt.colorbar()\n",
    "cbar.ax.set_ylabel(\"$J(w)$\")\n",
    "plt.xlabel(\"$w_1$\")\n",
    "plt.ylabel(\"$w_2$\")\n",
    "plt.title(\"Loss Function Surface\")\n",
    "plt.grid()\n",
    "plt.show()"
   ]
  },
  {
   "cell_type": "markdown",
   "metadata": {},
   "source": [
    "## Model Trajactory on Loss Surface"
   ]
  },
  {
   "cell_type": "markdown",
   "metadata": {},
   "source": [
    "### Gradient Descent"
   ]
  },
  {
   "cell_type": "code",
   "execution_count": 96,
   "metadata": {},
   "outputs": [
    {
     "data": {
      "text/plain": [
       "array([-0.23179098,  4.09042028,  2.32627146])"
      ]
     },
     "execution_count": 96,
     "metadata": {},
     "output_type": "execute_result"
    }
   ],
   "source": [
    "log_reg_vis.gd(X_train, y_train, num_epochs=1000, lr=1e-2, reg_rate=0)"
   ]
  },
  {
   "cell_type": "markdown",
   "metadata": {},
   "source": [
    "We make use of the weights stored during the gradient descent procedure."
   ]
  },
  {
   "cell_type": "code",
   "execution_count": 98,
   "metadata": {},
   "outputs": [
    {
     "data": {
      "image/png": "[encoded data removed]",
      "text/plain": [
       "<Figure size 576x432 with 2 Axes>"
      ]
     },
     "metadata": {
      "needs_background": "light"
     },
     "output_type": "display_data"
    }
   ],
   "source": [
    "# First, plot the loss contours based on grid as drawn in the previous section.\n",
    "plt.figure(figsize=(8,6))\n",
    "plt.contourf(w1_list, w2_list, loss, 20, cmap=cm.viridis)\n",
    "cbar = plt.colorbar()\n",
    "cbar.ax.set_ylabel(\"Loss\")\n",
    "\n",
    "\n",
    "# Plot weights after 100 iterations\n",
    "for i in range(1, len(log_reg_vis.w_all), 100):\n",
    "    if i+100 < len(log_reg_vis.w_all):\n",
    "        w1 = log_reg_vis.w_all[(i-1)]\n",
    "        w2 = log_reg_vis.w_all[(i+100)]\n",
    "\n",
    "        # Plot the weight-loss values that represent the update\n",
    "        plt.plot(w1[1], w1[2], marker='o', color='c') # Plots the weight-loss value\n",
    "        plt.plot([w1[1], w2[1]], [w1[2], w2[2]], linestyle='-', color='b')\n",
    "\n",
    "# Plot the last weight\n",
    "w1 = log_reg_vis.w_all[-1]\n",
    "plt.plot(w1[1], w1[2], marker='x', color='r')\n",
    "\n",
    "# Show figure\n",
    "plt.xlabel(\"$w_1$\")\n",
    "plt.ylabel(\"$w_2$\")\n",
    "plt.title(\"Gradient Descent updates on Loss Surface\")\n",
    "plt.grid()\n",
    "plt.show()"
   ]
  },
  {
   "cell_type": "markdown",
   "metadata": {},
   "source": [
    "### Mini Batch Gradient Descent"
   ]
  },
  {
   "cell_type": "code",
   "execution_count": 107,
   "metadata": {},
   "outputs": [
    {
     "data": {
      "text/plain": [
       "array([0.08018585, 1.88665718, 1.66035654])"
      ]
     },
     "execution_count": 107,
     "metadata": {},
     "output_type": "execute_result"
    }
   ],
   "source": [
    "log_reg_vis.mbgd(X_train, y_train, num_epochs=250, batch_size=10, reg_rate=0)"
   ]
  },
  {
   "cell_type": "code",
   "execution_count": 108,
   "metadata": {},
   "outputs": [
    {
     "data": {
      "image/png": "[encoded data removed]",
      "text/plain": [
       "<Figure size 576x432 with 2 Axes>"
      ]
     },
     "metadata": {
      "needs_background": "light"
     },
     "output_type": "display_data"
    }
   ],
   "source": [
    "# First, plot the loss contours based on grid as drawn in the previous section.\n",
    "plt.figure(figsize=(8,6))\n",
    "plt.contourf(w1_list, w2_list, loss, 20, cmap=cm.viridis)\n",
    "cbar = plt.colorbar()\n",
    "cbar.ax.set_ylabel(\"Loss\")\n",
    "\n",
    "\n",
    "# Plot weights after 100 iterations\n",
    "for i in range(1, len(log_reg_vis.w_all), 100):\n",
    "    if i+100 < len(log_reg_vis.w_all):\n",
    "        w1 = log_reg_vis.w_all[(i-1)]\n",
    "        w2 = log_reg_vis.w_all[(i+100)]\n",
    "\n",
    "        # Plot the weight-loss values that represent the update\n",
    "        plt.plot(w1[1], w1[2], marker='o', color='c') # Plots the weight-loss value\n",
    "        plt.plot([w1[1], w2[1]], [w1[2], w2[2]], linestyle='-', color='b')\n",
    "\n",
    "# Plot the last weight\n",
    "w1 = log_reg_vis.w_all[-1]\n",
    "plt.plot(w1[1], w1[2], marker='x', color='r')\n",
    "\n",
    "# Show figure\n",
    "plt.xlabel(\"$w_1$\")\n",
    "plt.ylabel(\"$w_2$\")\n",
    "plt.title(\"Mini Batch Gradient Descent updates on Loss Surface\")\n",
    "plt.grid()\n",
    "plt.show()"
   ]
  },
  {
   "cell_type": "markdown",
   "metadata": {},
   "source": [
    "### Stochastic Gradient Descent"
   ]
  },
  {
   "cell_type": "code",
   "execution_count": 109,
   "metadata": {},
   "outputs": [
    {
     "data": {
      "text/plain": [
       "array([0.04129785, 2.5289713 , 1.81665705])"
      ]
     },
     "execution_count": 109,
     "metadata": {},
     "output_type": "execute_result"
    }
   ],
   "source": [
    "log_reg_vis.sgd(X_train, y_train, num_epochs=100, reg_rate=0)"
   ]
  },
  {
   "cell_type": "code",
   "execution_count": 110,
   "metadata": {},
   "outputs": [
    {
     "data": {
      "image/png": "[encoded data removed]",
      "text/plain": [
       "<Figure size 576x432 with 2 Axes>"
      ]
     },
     "metadata": {
      "needs_background": "light"
     },
     "output_type": "display_data"
    }
   ],
   "source": [
    "# First, plot the loss contours based on grid as drawn in the previous section.\n",
    "plt.figure(figsize=(8,6))\n",
    "plt.contourf(w1_list, w2_list, loss, 20, cmap=cm.viridis)\n",
    "cbar = plt.colorbar()\n",
    "cbar.ax.set_ylabel(\"Loss\")\n",
    "\n",
    "\n",
    "# Plot weights after 100 iterations\n",
    "for i in range(1, len(log_reg_vis.w_all), 100):\n",
    "    if i+100 < len(log_reg_vis.w_all):\n",
    "        w1 = log_reg_vis.w_all[(i-1)]\n",
    "        w2 = log_reg_vis.w_all[(i+100)]\n",
    "\n",
    "        # Plot the weight-loss values that represent the update\n",
    "        plt.plot(w1[1], w1[2], marker='o', color='c') # Plots the weight-loss value\n",
    "        plt.plot([w1[1], w2[1]], [w1[2], w2[2]], linestyle='-', color='b')\n",
    "\n",
    "# Plot the last weight\n",
    "w1 = log_reg_vis.w_all[-1]\n",
    "plt.plot(w1[1], w1[2], marker='x', color='r')\n",
    "\n",
    "# Show figure\n",
    "plt.xlabel(\"$w_1$\")\n",
    "plt.ylabel(\"$w_2$\")\n",
    "plt.title(\" Stochastic Gradient Descent updates on Loss Surface\")\n",
    "plt.grid()\n",
    "plt.show()"
   ]
  },
  {
   "cell_type": "markdown",
   "metadata": {},
   "source": [
    "# Summary\n",
    "\n",
    "- We implemented **binary logistic regression** from scratch and employed it for solving a couple of classification problems.\n",
    "- In one of the setting, we have linearly separable classes and the other one has non-linear decision boundary between classes.\n",
    "- The first problem could be addressed with basic logistic regression classifier, while the second required additional step of **polynomial transformation** before using Logistic Regression.\n",
    "- We also analysed the learning curves of individual models of iterative optimization, i.e. Gradient Descent, Mini Batch Gradient Descent for both the linear and non-linear cases.\n",
    "- We also visualized the decision boundaries, since we limited ourselves to only 2 features.\n",
    "- We also evaluated their performance on the test set via various classification performance metrics.\n",
    "- Finally we visualized the loss surface and saw the paths taken by each of the iterative optimization model separately."
   ]
  }
 ],
 "metadata": {
  "interpreter": {
   "hash": "ee0777041ec98f607d7fd5b29a894c71a8ff0325c3258b55f9f8e1ee2f7fef34"
  },
  "kernelspec": {
   "display_name": "Python 3.9.7 64-bit ('skk-mlp-env': conda)",
   "language": "python",
   "name": "python3"
  },
  "language_info": {
   "codemirror_mode": {
    "name": "ipython",
    "version": 3
   },
   "file_extension": ".py",
   "mimetype": "text/x-python",
   "name": "python",
   "nbconvert_exporter": "python",
   "pygments_lexer": "ipython3",
   "version": "3.9.7"
  },
  "orig_nbformat": 4
 },
 "nbformat": 4,
 "nbformat_minor": 2
}
