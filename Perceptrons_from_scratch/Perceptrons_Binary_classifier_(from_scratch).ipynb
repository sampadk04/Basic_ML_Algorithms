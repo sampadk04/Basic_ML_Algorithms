{
 "cells": [
  {
   "cell_type": "code",
   "execution_count": 1,
   "metadata": {},
   "outputs": [],
   "source": [
    "# This is imported for proper rendering of Latex in notebook\n",
    "from IPython.display import display, Math, Latex"
   ]
  },
  {
   "cell_type": "code",
   "execution_count": 3,
   "metadata": {},
   "outputs": [],
   "source": [
    "# Imports\n",
    "import numpy as np\n",
    "import pandas as pd\n",
    "import matplotlib.pyplot as plt\n",
    "import seaborn as sns\n",
    "\n",
    "%matplotlib inline\n",
    "\n",
    "np.random.seed(306)\n",
    "plt.style.use('seaborn')"
   ]
  },
  {
   "cell_type": "markdown",
   "metadata": {},
   "source": [
    "# Perceptron"
   ]
  },
  {
   "cell_type": "markdown",
   "metadata": {},
   "source": [
    "In this notebook, we will implement perceptron algorithm from scratch."
   ]
  },
  {
   "cell_type": "markdown",
   "metadata": {},
   "source": [
    "## Perceptron Components:\n",
    "\n",
    "### Training Data\n",
    "- Feature matrix: $X_{n \\times (m+1)}$ includes a dummy feature $x_0$ that set is set to $1$.\n",
    "- Label vector: $y_{n \\times 1}$\n",
    "\n",
    "> Note: Perceptron can only solve only **Binary Classification** problems.\n",
    "\n",
    "### Model\n",
    "$$h_w : y = \\text{sign} (w^T \\phi(x)) = \\text{sign}(z)$$\n",
    "where\n",
    "- $w$ is a weight vector in $\\mathbb{R}^{m+1}$\n",
    "- $\\text{sign}(z) = 1$ if $z \\ge 0$ and $-1$ otherwise\n",
    "\n",
    "### Loss Function\n",
    "$$J(w) = \\sum^{n}_{i=1} e^{(i)} = \\sum^{n}_{i=1} \\text{max} (-h_w (x^{(i)})y^{(i)}, 0)$$\n",
    "\n",
    "### Optimization Procedure (Perceptron update rule)\n",
    "1. Initialize $w^{(0)} = 0$\n",
    "2. For each training example ($x^{(i)}, y^{(i)}$):\n",
    "    - $\\hat y ^{(i)} = \\text{sign}(w^T \\phi(x^{(i)}))$ [Calculate the output value]\n",
    "    - $w^{(t+1)} := w^{(t)} + \\alpha (y^{(i)} - \\hat y ^{(i)}) \\phi(x^{(i)})$ [Update the weights]\n",
    "\n",
    "> Note: Linearly separable examples lead to convergence of the algorithm with zero training loss, else it oscillates.\n",
    "\n",
    "### Evaluation metrics\n",
    "- Confusion matrix\n",
    "- Precision/Recall/F1 Score"
   ]
  },
  {
   "cell_type": "markdown",
   "metadata": {},
   "source": [
    "## Implementation"
   ]
  },
  {
   "cell_type": "markdown",
   "metadata": {},
   "source": [
    "We will use polynomial transformation code from previous colab for feature transformation."
   ]
  },
  {
   "cell_type": "code",
   "execution_count": 4,
   "metadata": {},
   "outputs": [],
   "source": [
    "##@title Polynomial Transform\n",
    "import itertools,functools\n",
    "\n",
    "def get_combinations(x, degree):\n",
    "    '''\n",
    "    Return successive r-length combinations of elements in the iterable allowing individual elements to have successive repeats.\n",
    "\n",
    "    combinations_with_replacement('ABC', 2) --> AA AB AC BB BC CC\"\n",
    "    '''\n",
    "    return itertools.combinations_with_replacement(x,degree)\n",
    "\n",
    "def compute_new_feature(items):\n",
    "    '''\n",
    "    reduce(function, sequence[, initial]) -> value\n",
    "\n",
    "    Apply a function of two arguments cumulatively to the items of a sequence, from left to right, so as to reduce the sequence to a single value.\n",
    "\n",
    "    For example: \n",
    "    reduce(lambda x, y: x+y, [1, 2, 3, 4, 5]) calculates ((((1+2)+3)+4)+5). \n",
    "    \n",
    "    If initial is present, it is placed before the items of the sequence in the calculation, and serves as a default when the sequence is empty.\n",
    "\n",
    "    reduce(lambda x,y: x*y, [1, 2, 3, 4, 5]) calculates ((((1*2)*3)*4)*5).\n",
    "    '''\n",
    "    return functools.reduce(lambda x, y: x*y, items)\n",
    "\n",
    "def polynomial_transform(x, degree, logging=False):\n",
    "    '''\n",
    "    Steps for generating polynomial transformations of degree M ---\n",
    "        \n",
    "        1. Generate combination of input features of lengths = {0,1,...,M}.\n",
    "        \n",
    "        2. Perform multiplication operation between features to obtain the required new features.\n",
    "    \n",
    "    logging: Bool - True to print all the combinations and their products.\n",
    "    '''\n",
    "    \n",
    "    # If 'x' is 1-dim, it is first converted to a feature matrix.\n",
    "    # [1,2,3,4] to [[1],[2],[3],[4]]\n",
    "    if x.ndim == 1:\n",
    "        x = x[:,None]\n",
    "    \n",
    "    # Transpose of feature matrix\n",
    "    x_t = x.transpose()\n",
    "\n",
    "    # Populates 1's as first feature for each example, the degree 0 feature.\n",
    "    features  = [np.ones(len(x))]\n",
    "\n",
    "    if logging:\n",
    "        print(\"Input: \",x)\n",
    "    \n",
    "    # for each degree d\n",
    "    for d in range(1, degree+1):\n",
    "        # generate combinations of degree d\n",
    "        for x in get_combinations(x_t, d):\n",
    "            # take product of no.s in x, and combine them into a single feature\n",
    "            features.append(compute_new_feature(x))\n",
    "            if logging:\n",
    "                print(x,compute_new_feature(x), sep = ': ')\n",
    "    \n",
    "    if logging:\n",
    "        print(\"Output: \", np.asarray(features).transpose())\n",
    "    \n",
    "    return np.asarray(features).transpose()"
   ]
  },
  {
   "cell_type": "markdown",
   "metadata": {},
   "source": [
    "### Perceptron Class"
   ]
  },
  {
   "cell_type": "code",
   "execution_count": 5,
   "metadata": {},
   "outputs": [],
   "source": [
    "class Perceptron:\n",
    "    '''Implements perceptron class.\n",
    "\n",
    "    It uses the following class variables:\n",
    "\n",
    "    w: stores the final weight vector\n",
    "    w_all: stores all weight vectors in training iterations\n",
    "    error_all: stores all errors in training iterations\n",
    "    '''\n",
    "    def __init__(self):\n",
    "        return\n",
    "    \n",
    "    def predict(self, X):\n",
    "        ''' Predicts labels for input feature matrix X.\n",
    "        '''\n",
    "        z = X @ self.w\n",
    "        # z>= 0 return a boolean array, and we return 1 for True and -1 for False\n",
    "        return np.where(z>=0, 1, -1)\n",
    "    \n",
    "    def loss(self, X, y):\n",
    "        '''Calculates loss.\n",
    "\n",
    "        Calculates loss due to current weight vector w on feature matrix X and label vector y.\n",
    "\n",
    "        Args:\n",
    "            x: Feature matrix\n",
    "            y: Label vector\n",
    "        \n",
    "        Returns:\n",
    "            None\n",
    "        '''\n",
    "        return np.sum(np.maximum(\n",
    "            -1*self.predict(X)*y,\n",
    "            np.zeros(y.shape[0])\n",
    "        ))\n",
    "    \n",
    "    def train(self, X, y, epochs=10, lr=0.001):\n",
    "        '''Implementsthe perceptron update rule.\n",
    "\n",
    "        Args:\n",
    "            x: Feature matrix\n",
    "            y: Label vector\n",
    "            epochs: Number of epochs\n",
    "            lr: Learning rate\n",
    "        \n",
    "        Returns:\n",
    "            None\n",
    "        '''\n",
    "        # Initialization to all zeros vector\n",
    "        self.w = np.zeros(X.shape[1])\n",
    "        \n",
    "        self.error_all = []\n",
    "        self.w_all = []\n",
    "\n",
    "        for _ in range(epochs):\n",
    "            errors = 0\n",
    "            for xi, target in zip(X,y):\n",
    "                self.w += lr * (target - self.predict(xi)) * xi\n",
    "                errors += (max(\n",
    "                    -1 * self.predict(xi) * target,\n",
    "                    0\n",
    "                ))\n",
    "            \n",
    "            self.error_all.append(errors)\n",
    "            self.w_all.append(self.w)\n",
    "            \n",
    "            # Logging\n",
    "            print(\"w: \", self.w_all[-1])\n",
    "            print(\"J(w)\", self.error_all[-1])\n",
    "\n",
    "            # Note: This part below has been commented for visualization!\n",
    "            # Uncomment THIS in ACTUAL implementation\n",
    "            '''if self.loss(X,y) == 0:\n",
    "                break'''"
   ]
  },
  {
   "cell_type": "markdown",
   "metadata": {},
   "source": [
    "### Synthetic data generator"
   ]
  },
  {
   "cell_type": "code",
   "execution_count": 6,
   "metadata": {},
   "outputs": [],
   "source": [
    "#@title Synthetic data generator\n",
    "def create_toy_data(factor=3):\n",
    "    '''\n",
    "    This generates 50 synthetic examples of 2 classes 1 and -1.\n",
    "    '''\n",
    "    x0 = np.random.normal(size=50).reshape(-1,2) - factor\n",
    "    x1 = np.random.normal(size=50).reshape(-1,2) + factor\n",
    "    return np.concatenate([x0, x1]), np.concatenate([np.zeros(25)-1, np.zeros(25)+1])"
   ]
  },
  {
   "cell_type": "markdown",
   "metadata": {},
   "source": [
    "### Model visualization"
   ]
  },
  {
   "cell_type": "code",
   "execution_count": 15,
   "metadata": {},
   "outputs": [],
   "source": [
    "#@title Model visualization\n",
    "def visualize_model(X_train, labels, perceptron_obj, degree=1):\n",
    "\n",
    "    f = plt.figure(figsize=(6,6))\n",
    "\n",
    "    # compute xlim, ylim\n",
    "    # First feature already has the dummy variable attached (because of polnomial transform)\n",
    "    # min,max of feature 1\n",
    "    x1_min = np.min(X_train[:,1])\n",
    "    x1_max = np.max(X_train[:,1])\n",
    "    # min,max of feature 2\n",
    "    x2_min = np.min(X_train[:,2])\n",
    "    x2_max = np.max(X_train[:,2])\n",
    "\n",
    "    x1_test, x2_test = np.meshgrid(np.linspace(x1_min,x1_max, 100), np.linspace(x2_min,x2_max, 100))\n",
    "    x_test = np.array([x1_test, x2_test]).reshape(2,-1).T\n",
    "    x_test_poly = polynomial_transform(x_test, degree=degree)\n",
    "    y_test_pred = perceptron_obj.predict(x_test_poly)\n",
    "\n",
    "    sns.scatterplot(data=X_train, x=X_train[:,1], y=X_train[:,2], hue=labels)\n",
    "    plt.xlabel(\"$x_1$\")\n",
    "    plt.ylabel(\"$x_2$\")\n",
    "    plt.xlim(x1_min,x1_max)\n",
    "    plt.ylim(x2_min,x2_max)\n",
    "    \n",
    "    plt.contourf(x1_test, x2_test, y_test_pred.reshape(100,100), alpha=0.5, levels=np.linspace(0,1,3))\n",
    "\n",
    "    plt.show()"
   ]
  },
  {
   "cell_type": "markdown",
   "metadata": {},
   "source": [
    "## Demonstration"
   ]
  },
  {
   "cell_type": "markdown",
   "metadata": {},
   "source": [
    "### Demo 1: Linearly separable Case"
   ]
  },
  {
   "cell_type": "code",
   "execution_count": 16,
   "metadata": {},
   "outputs": [],
   "source": [
    "from sklearn.model_selection import train_test_split\n",
    "x,y = create_toy_data()\n",
    "x_poly = polynomial_transform(x, degree=1)\n",
    "x_train, x_test, y_train, y_test = train_test_split(x_poly, y)"
   ]
  },
  {
   "cell_type": "code",
   "execution_count": 17,
   "metadata": {},
   "outputs": [
    {
     "name": "stdout",
     "output_type": "stream",
     "text": [
      "w:  [-2.          7.70110871 -0.15181427]\n",
      "J(w) 0\n",
      "w:  [-2.          7.70110871 -0.15181427]\n",
      "J(w) 0\n",
      "w:  [-2.          7.70110871 -0.15181427]\n",
      "J(w) 0\n",
      "w:  [-2.          7.70110871 -0.15181427]\n",
      "J(w) 0\n",
      "w:  [-2.          7.70110871 -0.15181427]\n",
      "J(w) 0\n",
      "w:  [-2.          7.70110871 -0.15181427]\n",
      "J(w) 0\n",
      "w:  [-2.          7.70110871 -0.15181427]\n",
      "J(w) 0\n",
      "w:  [-2.          7.70110871 -0.15181427]\n",
      "J(w) 0\n",
      "w:  [-2.          7.70110871 -0.15181427]\n",
      "J(w) 0\n",
      "w:  [-2.          7.70110871 -0.15181427]\n",
      "J(w) 0\n"
     ]
    },
    {
     "data": {
      "image/png": "[encoded data removed]",
      "text/plain": [
       "<Figure size 432x432 with 1 Axes>"
      ]
     },
     "metadata": {},
     "output_type": "display_data"
    }
   ],
   "source": [
    "perceptron_obj = Perceptron()\n",
    "perceptron_obj.train(x_train, y_train, lr=1)\n",
    "visualize_model(x_train, y_train, perceptron_obj, degree=1)"
   ]
  },
  {
   "cell_type": "code",
   "execution_count": 18,
   "metadata": {},
   "outputs": [
    {
     "data": {
      "text/plain": [
       "[0, 0, 0, 0, 0, 0, 0, 0, 0, 0]"
      ]
     },
     "execution_count": 18,
     "metadata": {},
     "output_type": "execute_result"
    }
   ],
   "source": [
    "perceptron_obj.error_all"
   ]
  },
  {
   "cell_type": "markdown",
   "metadata": {},
   "source": [
    "Let's look at the learning curve:"
   ]
  },
  {
   "cell_type": "code",
   "execution_count": 19,
   "metadata": {},
   "outputs": [
    {
     "data": {
      "image/png": "[encoded data removed]",
      "text/plain": [
       "<Figure size 432x432 with 1 Axes>"
      ]
     },
     "metadata": {},
     "output_type": "display_data"
    }
   ],
   "source": [
    "plt.figure(figsize=(6,6))\n",
    "plt.plot(np.arange(len(perceptron_obj.error_all)), perceptron_obj.error_all, 'b-')\n",
    "plt.xlabel(\"Iter #\")\n",
    "plt.ylabel(\"$J(w)$\")\n",
    "plt.title(\"Learning Curve\")\n",
    "plt.show()"
   ]
  },
  {
   "cell_type": "markdown",
   "metadata": {},
   "source": [
    "### Demo 2: Linearly inseparable Case"
   ]
  },
  {
   "cell_type": "code",
   "execution_count": 20,
   "metadata": {},
   "outputs": [
    {
     "name": "stdout",
     "output_type": "stream",
     "text": [
      "w:  [ 0.         -0.20445729  2.5761775 ]\n",
      "J(w) 2.0\n",
      "w:  [2.         1.28105826 3.36561549]\n",
      "J(w) 2.0\n",
      "w:  [0.         2.93643174 2.84286459]\n",
      "J(w) 3.0\n",
      "w:  [2.         1.59044505 1.51156108]\n",
      "J(w) 1.0\n",
      "w:  [2.         0.34616552 3.49818264]\n",
      "J(w) 3.0\n",
      "w:  [0.         3.32785621 4.00149667]\n",
      "J(w) 2.0\n",
      "w:  [2.         3.75745882 4.04104261]\n",
      "J(w) 1.0\n",
      "w:  [0.         1.43852411 1.53303241]\n",
      "J(w) 3.0\n",
      "w:  [0.         0.57149973 1.02269706]\n",
      "J(w) 1.0\n",
      "w:  [2.         1.91448962 3.74953554]\n",
      "J(w) 1.0\n"
     ]
    }
   ],
   "source": [
    "x,y = create_toy_data(factor=0.5)\n",
    "x_poly = polynomial_transform(x, degree=1)\n",
    "x_train, x_test, y_train, y_test = train_test_split(x_poly, y)\n",
    "\n",
    "perceptron_obj = Perceptron()\n",
    "perceptron_obj.train(x_train, y_train, lr=1)"
   ]
  },
  {
   "cell_type": "code",
   "execution_count": 21,
   "metadata": {},
   "outputs": [
    {
     "data": {
      "image/png": "[encoded data removed]",
      "text/plain": [
       "<Figure size 432x432 with 1 Axes>"
      ]
     },
     "metadata": {},
     "output_type": "display_data"
    }
   ],
   "source": [
    "visualize_model(x_train, y_train, perceptron_obj, degree=1)"
   ]
  },
  {
   "cell_type": "markdown",
   "metadata": {},
   "source": [
    "Looking at the learning curves again:"
   ]
  },
  {
   "cell_type": "code",
   "execution_count": 22,
   "metadata": {},
   "outputs": [
    {
     "data": {
      "image/png": "[encoded data removed]",
      "text/plain": [
       "<Figure size 432x432 with 1 Axes>"
      ]
     },
     "metadata": {},
     "output_type": "display_data"
    }
   ],
   "source": [
    "plt.figure(figsize=(6,6))\n",
    "plt.plot(np.arange(len(perceptron_obj.error_all)), perceptron_obj.error_all, 'b-')\n",
    "plt.xlabel(\"Iter #\")\n",
    "plt.ylabel(\"$J(w)$\")\n",
    "plt.title(\"Learning Curve\")\n",
    "plt.show()"
   ]
  },
  {
   "cell_type": "markdown",
   "metadata": {},
   "source": [
    "As we can see, the value of loss actually fluctuates a lot when data isn't perfectly separable."
   ]
  },
  {
   "cell_type": "markdown",
   "metadata": {},
   "source": [
    "### Demo 3: Linearly inseparable Case"
   ]
  },
  {
   "cell_type": "markdown",
   "metadata": {},
   "source": [
    "In this demonstration, we will generate points from two classes such that the decision boundary between them is circular. We will make use of `sklearn.datasets` module to generate the synthetic examples. Specifically, we will use `make_circles` method."
   ]
  },
  {
   "cell_type": "code",
   "execution_count": 23,
   "metadata": {},
   "outputs": [],
   "source": [
    "from sklearn.datasets import make_circles\n",
    "x,y = make_circles()"
   ]
  },
  {
   "cell_type": "markdown",
   "metadata": {},
   "source": [
    "We will first transform the feature set to obtain polynomial features of degree $2$ and then train least square classifcation on theh transformed feature set.\n",
    "\n",
    "> Note: We will generally not know with degree to try out for best possible results. So, we will have to use use various learning curves to actually tune the `degree`. But in this case we know for sure that `degree = 2` will suffice, because the decision boundary is circular in nature."
   ]
  },
  {
   "cell_type": "markdown",
   "metadata": {},
   "source": [
    "We first implement the `polynomial_transform` function."
   ]
  },
  {
   "cell_type": "code",
   "execution_count": 24,
   "metadata": {},
   "outputs": [],
   "source": [
    "import itertools,functools\n",
    "\n",
    "def get_combinations(x, degree):\n",
    "    '''\n",
    "    Return successive r-length combinations of elements in the iterable allowing individual elements to have successive repeats.\n",
    "\n",
    "    combinations_with_replacement('ABC', 2) --> AA AB AC BB BC CC\"\n",
    "    '''\n",
    "    return itertools.combinations_with_replacement(x,degree)\n",
    "\n",
    "def compute_new_feature(items):\n",
    "    '''\n",
    "    reduce(function, sequence[, initial]) -> value\n",
    "\n",
    "    Apply a function of two arguments cumulatively to the items of a sequence, from left to right, so as to reduce the sequence to a single value.\n",
    "\n",
    "    For example: \n",
    "    reduce(lambda x, y: x+y, [1, 2, 3, 4, 5]) calculates ((((1+2)+3)+4)+5). \n",
    "    \n",
    "    If initial is present, it is placed before the items of the sequence in the calculation, and serves as a default when the sequence is empty.\n",
    "\n",
    "    reduce(lambda x,y: x*y, [1, 2, 3, 4, 5]) calculates ((((1*2)*3)*4)*5).\n",
    "    '''\n",
    "    return functools.reduce(lambda x, y: x*y, items)\n",
    "\n",
    "def polynomial_transform(x, degree, logging=False):\n",
    "    '''\n",
    "    Steps for generating polynomial transformations of degree M ---\n",
    "        \n",
    "        1. Generate combination of input features of lengths = {0,1,...,M}.\n",
    "        \n",
    "        2. Perform multiplication operation between features to obtain the required new features.\n",
    "    \n",
    "    logging: Bool - True to print all the combinations and their products.\n",
    "    '''\n",
    "    \n",
    "    # If 'x' is 1-dim, it is first converted to a feature matrix.\n",
    "    # [1,2,3,4] to [[1],[2],[3],[4]]\n",
    "    if x.ndim == 1:\n",
    "        x = x[:,None]\n",
    "    \n",
    "    # Transpose of feature matrix\n",
    "    x_t = x.transpose()\n",
    "\n",
    "    # Populates 1's as first feature for each example, the degree 0 feature.\n",
    "    features  = [np.ones(len(x))]\n",
    "\n",
    "    if logging:\n",
    "        print(\"Input: \",x)\n",
    "    \n",
    "    # for each degree d\n",
    "    for d in range(1, degree+1):\n",
    "        # generate combinations of degree d\n",
    "        for x in get_combinations(x_t, d):\n",
    "            # take product of no.s in x, and combine them into a single feature\n",
    "            features.append(compute_new_feature(x))\n",
    "            if logging:\n",
    "                print(x,compute_new_feature(x), sep = ': ')\n",
    "    \n",
    "    if logging:\n",
    "        print(\"Output: \", np.asarray(features).transpose())\n",
    "    \n",
    "    return np.asarray(features).transpose()"
   ]
  },
  {
   "cell_type": "code",
   "execution_count": 25,
   "metadata": {},
   "outputs": [],
   "source": [
    "x_poly = polynomial_transform(x, degree=2)"
   ]
  },
  {
   "cell_type": "code",
   "execution_count": 26,
   "metadata": {},
   "outputs": [
    {
     "name": "stdout",
     "output_type": "stream",
     "text": [
      "Shape of feature matrix before transformation:  (100, 2)\n",
      "Shape of feature matrix after polynomial transformation of degree 2:  (100, 6)\n"
     ]
    }
   ],
   "source": [
    "print(\"Shape of feature matrix before transformation: \", x.shape)\n",
    "print(\"Shape of feature matrix after polynomial transformation of degree 2: \", x_poly.shape)"
   ]
  },
  {
   "cell_type": "code",
   "execution_count": 27,
   "metadata": {},
   "outputs": [],
   "source": [
    "from sklearn.model_selection import train_test_split\n",
    "x_train, x_test, y_train, y_test = train_test_split(x_poly, y)"
   ]
  },
  {
   "cell_type": "code",
   "execution_count": 30,
   "metadata": {},
   "outputs": [
    {
     "data": {
      "text/plain": [
       "array([0, 0, 1, 0, 1])"
      ]
     },
     "execution_count": 30,
     "metadata": {},
     "output_type": "execute_result"
    }
   ],
   "source": [
    "y_train[:5]"
   ]
  },
  {
   "cell_type": "markdown",
   "metadata": {},
   "source": [
    "Now, we pre-process the labels from $0, 1$ to $+1, -1$ inorder to use our perceptron.\n",
    "\n",
    "For, that I define my own `label_binarizer` method."
   ]
  },
  {
   "cell_type": "code",
   "execution_count": 29,
   "metadata": {},
   "outputs": [],
   "source": [
    "def label_binarizer(y):\n",
    "    '''This converts all labels of 1 -> +1 and all labels of 0 -> -1'''\n",
    "    return np.where(y == 1, 1, -1)"
   ]
  },
  {
   "cell_type": "code",
   "execution_count": 31,
   "metadata": {},
   "outputs": [],
   "source": [
    "y_train, y_test = label_binarizer(y_train), label_binarizer(y_test)"
   ]
  },
  {
   "cell_type": "code",
   "execution_count": 32,
   "metadata": {},
   "outputs": [
    {
     "data": {
      "text/plain": [
       "array([-1, -1,  1, -1,  1])"
      ]
     },
     "execution_count": 32,
     "metadata": {},
     "output_type": "execute_result"
    }
   ],
   "source": [
    "y_train[:5]"
   ]
  },
  {
   "cell_type": "markdown",
   "metadata": {},
   "source": [
    "Let's visualize the training data."
   ]
  },
  {
   "cell_type": "code",
   "execution_count": 33,
   "metadata": {},
   "outputs": [
    {
     "data": {
      "image/png": "[encoded data removed]",
      "text/plain": [
       "<Figure size 432x432 with 1 Axes>"
      ]
     },
     "metadata": {},
     "output_type": "display_data"
    }
   ],
   "source": [
    "plt.figure(figsize=(6,6))\n",
    "sns.scatterplot(data=x_train, x=x_train[:,1], y=x_train[:,2], hue=y_train)\n",
    "plt.xlabel(\"$x_1$\")\n",
    "plt.ylabel(\"$x_2$\")\n",
    "plt.show()"
   ]
  },
  {
   "cell_type": "markdown",
   "metadata": {},
   "source": [
    "Let's build the perceptron model and visualize the training boundary and loss."
   ]
  },
  {
   "cell_type": "code",
   "execution_count": 34,
   "metadata": {},
   "outputs": [
    {
     "name": "stdout",
     "output_type": "stream",
     "text": [
      "w:  [ 6.          0.60438286 -0.63853499 -2.83200166  0.98316752 -4.84799834]\n",
      "J(w) 3\n",
      "w:  [ 8.          0.69255383  0.36564107 -7.83553147 -0.67894358 -7.92446853]\n",
      "J(w) 0\n",
      "w:  [  8.           0.18428638   0.43000461  -9.01874754  -1.28568611\n",
      " -10.34125246]\n",
      "J(w) 0\n",
      "w:  [  8.           0.18428638   0.43000461  -9.01874754  -1.28568611\n",
      " -10.34125246]\n",
      "J(w) 0\n",
      "w:  [  8.           0.18428638   0.43000461  -9.01874754  -1.28568611\n",
      " -10.34125246]\n",
      "J(w) 0\n",
      "w:  [  8.           0.18428638   0.43000461  -9.01874754  -1.28568611\n",
      " -10.34125246]\n",
      "J(w) 0\n",
      "w:  [  8.           0.18428638   0.43000461  -9.01874754  -1.28568611\n",
      " -10.34125246]\n",
      "J(w) 0\n",
      "w:  [  8.           0.18428638   0.43000461  -9.01874754  -1.28568611\n",
      " -10.34125246]\n",
      "J(w) 0\n",
      "w:  [  8.           0.18428638   0.43000461  -9.01874754  -1.28568611\n",
      " -10.34125246]\n",
      "J(w) 0\n",
      "w:  [  8.           0.18428638   0.43000461  -9.01874754  -1.28568611\n",
      " -10.34125246]\n",
      "J(w) 0\n"
     ]
    },
    {
     "data": {
      "image/png": "[encoded data removed]",
      "text/plain": [
       "<Figure size 432x432 with 1 Axes>"
      ]
     },
     "metadata": {},
     "output_type": "display_data"
    }
   ],
   "source": [
    "perceptron_obj_nl = Perceptron()\n",
    "perceptron_obj_nl.train(x_train, y_train, lr=1)\n",
    "visualize_model(x_train, y_train, perceptron_obj_nl, degree=2)"
   ]
  },
  {
   "cell_type": "code",
   "execution_count": 35,
   "metadata": {},
   "outputs": [
    {
     "data": {
      "text/plain": [
       "[3, 0, 0, 0, 0, 0, 0, 0, 0, 0]"
      ]
     },
     "execution_count": 35,
     "metadata": {},
     "output_type": "execute_result"
    }
   ],
   "source": [
    "perceptron_obj_nl.error_all"
   ]
  },
  {
   "cell_type": "markdown",
   "metadata": {},
   "source": [
    "Let's look at the learning curve."
   ]
  },
  {
   "cell_type": "code",
   "execution_count": 36,
   "metadata": {},
   "outputs": [
    {
     "data": {
      "image/png": "[encoded data removed]",
      "text/plain": [
       "<Figure size 432x432 with 1 Axes>"
      ]
     },
     "metadata": {},
     "output_type": "display_data"
    }
   ],
   "source": [
    "plt.figure(figsize=(6,6))\n",
    "plt.plot(np.arange(len(perceptron_obj_nl.error_all)), perceptron_obj_nl.error_all, 'b-')\n",
    "plt.xlabel(\"Iter #\")\n",
    "plt.ylabel(\"$J(w)$\")\n",
    "plt.title(\"Learning Curve\")\n",
    "plt.show()"
   ]
  },
  {
   "cell_type": "markdown",
   "metadata": {},
   "source": [
    "# Summary\n",
    "\n",
    "- We implement the perceptron classifier from scratch.\n",
    "- We look at 3 different cases and analyze those using our model:\n",
    "    - First, when we have linearly separable data.\n",
    "    - Second, when we have linearly inseparable data (with approximate linear boundary fit).\n",
    "    - Third, when we have non-linearly separable data.\n",
    "- We look at the learning curves and analyze the loss.\n",
    "- We also visualize the decision boundary obtained by the model in each instance."
   ]
  }
 ],
 "metadata": {
  "interpreter": {
   "hash": "c0b4aa3dbf26008a2f5bdb6f96959d9b12aab8bbe92ce96b5c8a3811effcf69d"
  },
  "kernelspec": {
   "display_name": "Python 3.8.8 64-bit ('skk-mlp-env': conda)",
   "language": "python",
   "name": "python3"
  },
  "language_info": {
   "codemirror_mode": {
    "name": "ipython",
    "version": 3
   },
   "file_extension": ".py",
   "mimetype": "text/x-python",
   "name": "python",
   "nbconvert_exporter": "python",
   "pygments_lexer": "ipython3",
   "version": "3.9.7"
  },
  "orig_nbformat": 4
 },
 "nbformat": 4,
 "nbformat_minor": 2
}
